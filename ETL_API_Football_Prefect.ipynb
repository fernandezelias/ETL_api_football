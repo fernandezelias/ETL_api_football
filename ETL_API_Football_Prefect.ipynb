{
 "cells": [
  {
   "cell_type": "markdown",
   "id": "c96a683f",
   "metadata": {},
   "source": [
    "# Orquestación con Prefect\n",
    "\n",
    "Este notebook documenta y permite ejecutar el **pipeline ETL orquestado** con **Prefect**.  \n",
    "La lógica del flujo vive en `scripts/etl_fixtures.py` (para producción / CLI); aquí lo consumimos para:\n",
    "- Mostrar el **setup** (credenciales, rutas, estructura).\n",
    "- Ejecutar el **flow** de ejemplo.\n",
    "- Indicar cómo **servir** el flujo y monitorearlo desde **Prefect Cloud**.\n",
    "\n",
    "> **Nota:** El notebook manual (`ETL_API_Football.ipynb`) NO depende de Prefect."
   ]
  },
  {
   "cell_type": "markdown",
   "id": "97603b79",
   "metadata": {},
   "source": [
    "## 1. Configuración de entorno y rutas"
   ]
  },
  {
   "cell_type": "code",
   "execution_count": 1,
   "id": "3c9509ab",
   "metadata": {},
   "outputs": [
    {
     "name": "stdout",
     "output_type": "stream",
     "text": [
      "Estructura base creada/validada ✅\n"
     ]
    }
   ],
   "source": [
    "# Este bloque asegura que exista la estructura mínima del datalake\n",
    "# al correr el flujo desde el notebook (modo demo/documentación).\n",
    "# Nota: en el script etl_fixtures.py las rutas se definen de nuevo\n",
    "# para la ejecución real por CLI / Prefect.\n",
    "\n",
    "import os\n",
    "\n",
    "DATALAKE_ROOT = \"data/etl_datalake\"\n",
    "BRONZE_FIXTURES = f\"{DATALAKE_ROOT}/bronze/api_football/fixtures\"\n",
    "SILVER_FIXTURES = f\"{DATALAKE_ROOT}/silver/api_football/fixtures\"\n",
    "GOLD_FIXTURES   = f\"{DATALAKE_ROOT}/gold/api_football/fixtures\"\n",
    "EXPORTS_DIR     = f\"{DATALAKE_ROOT}/exports\"\n",
    "\n",
    "for p in [BRONZE_FIXTURES, SILVER_FIXTURES, GOLD_FIXTURES, EXPORTS_DIR, \"scripts\"]:\n",
    "    os.makedirs(p, exist_ok=True)\n",
    "\n",
    "print(\"Estructura base creada/validada ✅\")"
   ]
  },
  {
   "cell_type": "markdown",
   "id": "308ee2c9",
   "metadata": {},
   "source": [
    "## 2. Credenciales y configuración"
   ]
  },
  {
   "cell_type": "code",
   "execution_count": 2,
   "id": "e6f8aceb",
   "metadata": {},
   "outputs": [
    {
     "name": "stdout",
     "output_type": "stream",
     "text": [
      "Config OK ✅\n",
      "BASE_URL: https://v3.football.api-sports.io\n",
      "API_KEY:  (oculto) ****\n"
     ]
    }
   ],
   "source": [
    "# Se lee la configuración desde pipeline.conf\n",
    "# Contiene dos secciones:\n",
    "# [api-credentials] -> API-Football\n",
    "# [prefect]         -> Prefect Cloud\n",
    "\n",
    "from configparser import ConfigParser\n",
    "\n",
    "parser = ConfigParser()\n",
    "parser.read(\"pipeline.conf\")\n",
    "\n",
    "# --- API-Football ---\n",
    "BASE_URL = parser[\"api-credentials\"][\"base_url\"]\n",
    "API_KEY  = parser[\"api-credentials\"][\"api_key\"]\n",
    "\n",
    "print(\"Config OK ✅\")\n",
    "print(\"BASE_URL:\", BASE_URL)\n",
    "print(\"API_KEY:  (oculto) ****\")"
   ]
  },
  {
   "cell_type": "markdown",
   "id": "5a53c678",
   "metadata": {},
   "source": [
    "## 3. Prefect: conexión y conceptos\n",
    "\n",
    "Prefect permite **orquestar** un pipeline en pasos claros:\n",
    "\n",
    "- **Flow** → el contenedor principal del proceso ETL.  \n",
    "- **Task** → cada paso atómico dentro del flow (ej. extracción, transformación, carga).  \n",
    "- **Serve / Deploy** → maneras de ejecutar y programar flows:  \n",
    "  - *Serve*: correrlo como servicio local (útil en desarrollo).  \n",
    "  - *Deploy*: registrarlo en Prefect Cloud para programarlo y monitorearlo.  \n",
    "\n",
    "El login en Prefect Cloud se realiza *una sola vez desde la terminal*.\n",
    "Aquí solo se muestra de manera ilustrativa."
   ]
  },
  {
   "cell_type": "code",
   "execution_count": 3,
   "id": "e26a3952",
   "metadata": {},
   "outputs": [
    {
     "name": "stdout",
     "output_type": "stream",
     "text": [
      "Prefect API Key cargada (oculta) ****\n"
     ]
    }
   ],
   "source": [
    "# Prefect requiere login en Cloud, pero este paso se hace normalmente\n",
    "# desde la terminal (una única vez por entorno).\n",
    "# Aquí solo mostramos cómo se lee la API Key desde pipeline.conf.\n",
    "\n",
    "prefect_credentials = parser[\"prefect\"]\n",
    "prefect_api_key = prefect_credentials[\"api_key\"]\n",
    "\n",
    "print(\"Prefect API Key cargada (oculta) ****\")\n",
    "\n",
    "# Login en Prefect Cloud (solo a modo ilustrativo; en práctica se hace una vez desde la terminal)\n",
    "# !prefect cloud login -k {prefect_api_key}"
   ]
  },
  {
   "cell_type": "code",
   "execution_count": 4,
   "id": "e0852794",
   "metadata": {},
   "outputs": [
    {
     "name": "stdout",
     "output_type": "stream",
     "text": [
      "Prefect versión: 2.20.9\n"
     ]
    }
   ],
   "source": [
    "import prefect\n",
    "print(\"Prefect versión:\", prefect.__version__)"
   ]
  },
  {
   "cell_type": "markdown",
   "id": "3a5542e1",
   "metadata": {},
   "source": [
    "## 4. Uso del flujo desde `scripts/etl_fixtures.py`\n",
    "\n",
    "El flujo ETL está definido en `scripts/etl_fixtures.py`.  \n",
    "En este notebook es posible:\n",
    "\n",
    "- **4.1 Opción A — Corrida única (demo one-off):** ejecuta el flow una sola vez para validar la orquestación.  \n",
    "- **4.2 Opción B — Servir el flow (opcional):** mantiene el flow activo como servicio local."
   ]
  },
  {
   "cell_type": "markdown",
   "id": "7e90d67b",
   "metadata": {},
   "source": [
    "### 4.1 Opción A — Ejecutar una corrida orquestada (demo one-off)"
   ]
  },
  {
   "cell_type": "code",
   "execution_count": 4,
   "id": "236b9700",
   "metadata": {},
   "outputs": [
    {
     "data": {
      "text/html": [
       "<pre style=\"white-space:pre;overflow-x:auto;line-height:normal;font-family:Menlo,'DejaVu Sans Mono',consolas,'Courier New',monospace\">07:06:02.682 | <span style=\"color: #008080; text-decoration-color: #008080\">INFO</span>    | prefect.engine - Created flow run<span style=\"color: #800080; text-decoration-color: #800080\"> 'satisfied-armadillo'</span> for flow<span style=\"color: #800080; text-decoration-color: #800080; font-weight: bold\"> 'etl-parametrizable'</span>\n",
       "</pre>\n"
      ],
      "text/plain": [
       "07:06:02.682 | \u001b[36mINFO\u001b[0m    | prefect.engine - Created flow run\u001b[35m 'satisfied-armadillo'\u001b[0m for flow\u001b[1;35m 'etl-parametrizable'\u001b[0m\n"
      ]
     },
     "metadata": {},
     "output_type": "display_data"
    },
    {
     "data": {
      "text/html": [
       "<pre style=\"white-space:pre;overflow-x:auto;line-height:normal;font-family:Menlo,'DejaVu Sans Mono',consolas,'Courier New',monospace\">07:06:02.689 | <span style=\"color: #008080; text-decoration-color: #008080\">INFO</span>    | Flow run<span style=\"color: #800080; text-decoration-color: #800080\"> 'satisfied-armadillo'</span> - View at <span style=\"color: #0000ff; text-decoration-color: #0000ff\">https://app.prefect.cloud/account/1513bf29-3686-40b8-9dbf-c85ba6a6f8c0/workspace/377710aa-6343-48a1-a52d-8fd9be6fbba7/flow-runs/flow-run/068d9088-a7d6-7c08-8000-aabc65c0662a</span>\n",
       "</pre>\n"
      ],
      "text/plain": [
       "07:06:02.689 | \u001b[36mINFO\u001b[0m    | Flow run\u001b[35m 'satisfied-armadillo'\u001b[0m - View at \u001b[94mhttps://app.prefect.cloud/account/1513bf29-3686-40b8-9dbf-c85ba6a6f8c0/workspace/377710aa-6343-48a1-a52d-8fd9be6fbba7/flow-runs/flow-run/068d9088-a7d6-7c08-8000-aabc65c0662a\u001b[0m\n"
      ]
     },
     "metadata": {},
     "output_type": "display_data"
    },
    {
     "data": {
      "text/html": [
       "<pre style=\"white-space:pre;overflow-x:auto;line-height:normal;font-family:Menlo,'DejaVu Sans Mono',consolas,'Courier New',monospace\">07:06:03.439 | <span style=\"color: #008080; text-decoration-color: #008080\">INFO</span>    | Flow run<span style=\"color: #800080; text-decoration-color: #800080\"> 'satisfied-armadillo'</span> - Created task run 'extract_data-0' for task 'extract_data'\n",
       "</pre>\n"
      ],
      "text/plain": [
       "07:06:03.439 | \u001b[36mINFO\u001b[0m    | Flow run\u001b[35m 'satisfied-armadillo'\u001b[0m - Created task run 'extract_data-0' for task 'extract_data'\n"
      ]
     },
     "metadata": {},
     "output_type": "display_data"
    },
    {
     "data": {
      "text/html": [
       "<pre style=\"white-space:pre;overflow-x:auto;line-height:normal;font-family:Menlo,'DejaVu Sans Mono',consolas,'Courier New',monospace\">07:06:03.454 | <span style=\"color: #008080; text-decoration-color: #008080\">INFO</span>    | Flow run<span style=\"color: #800080; text-decoration-color: #800080\"> 'satisfied-armadillo'</span> - Executing 'extract_data-0' immediately...\n",
       "</pre>\n"
      ],
      "text/plain": [
       "07:06:03.454 | \u001b[36mINFO\u001b[0m    | Flow run\u001b[35m 'satisfied-armadillo'\u001b[0m - Executing 'extract_data-0' immediately...\n"
      ]
     },
     "metadata": {},
     "output_type": "display_data"
    },
    {
     "data": {
      "text/html": [
       "<pre style=\"white-space:pre;overflow-x:auto;line-height:normal;font-family:Menlo,'DejaVu Sans Mono',consolas,'Courier New',monospace\">07:06:06.755 | <span style=\"color: #008080; text-decoration-color: #008080\">INFO</span>    | Task run 'get_data-fixtures' - Finished in state <span style=\"color: #008000; text-decoration-color: #008000\">Completed</span>()\n",
       "</pre>\n"
      ],
      "text/plain": [
       "07:06:06.755 | \u001b[36mINFO\u001b[0m    | Task run 'get_data-fixtures' - Finished in state \u001b[32mCompleted\u001b[0m()\n"
      ]
     },
     "metadata": {},
     "output_type": "display_data"
    },
    {
     "data": {
      "text/html": [
       "<pre style=\"white-space:pre;overflow-x:auto;line-height:normal;font-family:Menlo,'DejaVu Sans Mono',consolas,'Courier New',monospace\">07:06:08.610 | <span style=\"color: #008080; text-decoration-color: #008080\">INFO</span>    | Flow run<span style=\"color: #800080; text-decoration-color: #800080\"> 'satisfied-armadillo'</span> - Created task run 'transform_data-0' for task 'transform_data'\n",
       "</pre>\n"
      ],
      "text/plain": [
       "07:06:08.610 | \u001b[36mINFO\u001b[0m    | Flow run\u001b[35m 'satisfied-armadillo'\u001b[0m - Created task run 'transform_data-0' for task 'transform_data'\n"
      ]
     },
     "metadata": {},
     "output_type": "display_data"
    },
    {
     "data": {
      "text/html": [
       "<pre style=\"white-space:pre;overflow-x:auto;line-height:normal;font-family:Menlo,'DejaVu Sans Mono',consolas,'Courier New',monospace\">07:06:08.610 | <span style=\"color: #008080; text-decoration-color: #008080\">INFO</span>    | Flow run<span style=\"color: #800080; text-decoration-color: #800080\"> 'satisfied-armadillo'</span> - Executing 'transform_data-0' immediately...\n",
       "</pre>\n"
      ],
      "text/plain": [
       "07:06:08.610 | \u001b[36mINFO\u001b[0m    | Flow run\u001b[35m 'satisfied-armadillo'\u001b[0m - Executing 'transform_data-0' immediately...\n"
      ]
     },
     "metadata": {},
     "output_type": "display_data"
    },
    {
     "data": {
      "text/html": [
       "<pre style=\"white-space:pre;overflow-x:auto;line-height:normal;font-family:Menlo,'DejaVu Sans Mono',consolas,'Courier New',monospace\">07:06:12.282 | <span style=\"color: #008080; text-decoration-color: #008080\">INFO</span>    | Task run 'transform_data' - Finished in state <span style=\"color: #008000; text-decoration-color: #008000\">Completed</span>()\n",
       "</pre>\n"
      ],
      "text/plain": [
       "07:06:12.282 | \u001b[36mINFO\u001b[0m    | Task run 'transform_data' - Finished in state \u001b[32mCompleted\u001b[0m()\n"
      ]
     },
     "metadata": {},
     "output_type": "display_data"
    },
    {
     "data": {
      "text/html": [
       "<pre style=\"white-space:pre;overflow-x:auto;line-height:normal;font-family:Menlo,'DejaVu Sans Mono',consolas,'Courier New',monospace\">07:06:12.904 | <span style=\"color: #008080; text-decoration-color: #008080\">INFO</span>    | Flow run<span style=\"color: #800080; text-decoration-color: #800080\"> 'satisfied-armadillo'</span> - Created task run 'load_data-0' for task 'load_data'\n",
       "</pre>\n"
      ],
      "text/plain": [
       "07:06:12.904 | \u001b[36mINFO\u001b[0m    | Flow run\u001b[35m 'satisfied-armadillo'\u001b[0m - Created task run 'load_data-0' for task 'load_data'\n"
      ]
     },
     "metadata": {},
     "output_type": "display_data"
    },
    {
     "data": {
      "text/html": [
       "<pre style=\"white-space:pre;overflow-x:auto;line-height:normal;font-family:Menlo,'DejaVu Sans Mono',consolas,'Courier New',monospace\">07:06:12.906 | <span style=\"color: #008080; text-decoration-color: #008080\">INFO</span>    | Flow run<span style=\"color: #800080; text-decoration-color: #800080\"> 'satisfied-armadillo'</span> - Executing 'load_data-0' immediately...\n",
       "</pre>\n"
      ],
      "text/plain": [
       "07:06:12.906 | \u001b[36mINFO\u001b[0m    | Flow run\u001b[35m 'satisfied-armadillo'\u001b[0m - Executing 'load_data-0' immediately...\n"
      ]
     },
     "metadata": {},
     "output_type": "display_data"
    },
    {
     "name": "stdout",
     "output_type": "stream",
     "text": [
      "Datos de fixtures guardados en Bronze (2025-09-28T10:06)\n"
     ]
    },
    {
     "data": {
      "text/html": [
       "<pre style=\"white-space:pre;overflow-x:auto;line-height:normal;font-family:Menlo,'DejaVu Sans Mono',consolas,'Courier New',monospace\">07:06:15.312 | <span style=\"color: #008080; text-decoration-color: #008080\">INFO</span>    | Task run 'load_data-fixtures' - Finished in state <span style=\"color: #008000; text-decoration-color: #008000\">Completed</span>()\n",
       "</pre>\n"
      ],
      "text/plain": [
       "07:06:15.312 | \u001b[36mINFO\u001b[0m    | Task run 'load_data-fixtures' - Finished in state \u001b[32mCompleted\u001b[0m()\n"
      ]
     },
     "metadata": {},
     "output_type": "display_data"
    },
    {
     "data": {
      "text/html": [
       "<pre style=\"white-space:pre;overflow-x:auto;line-height:normal;font-family:Menlo,'DejaVu Sans Mono',consolas,'Courier New',monospace\">07:06:15.883 | <span style=\"color: #008080; text-decoration-color: #008080\">INFO</span>    | Flow run<span style=\"color: #800080; text-decoration-color: #800080\"> 'satisfied-armadillo'</span> - Created task run 'transform_to_silver-0' for task 'transform_to_silver'\n",
       "</pre>\n"
      ],
      "text/plain": [
       "07:06:15.883 | \u001b[36mINFO\u001b[0m    | Flow run\u001b[35m 'satisfied-armadillo'\u001b[0m - Created task run 'transform_to_silver-0' for task 'transform_to_silver'\n"
      ]
     },
     "metadata": {},
     "output_type": "display_data"
    },
    {
     "data": {
      "text/html": [
       "<pre style=\"white-space:pre;overflow-x:auto;line-height:normal;font-family:Menlo,'DejaVu Sans Mono',consolas,'Courier New',monospace\">07:06:15.883 | <span style=\"color: #008080; text-decoration-color: #008080\">INFO</span>    | Flow run<span style=\"color: #800080; text-decoration-color: #800080\"> 'satisfied-armadillo'</span> - Executing 'transform_to_silver-0' immediately...\n",
       "</pre>\n"
      ],
      "text/plain": [
       "07:06:15.883 | \u001b[36mINFO\u001b[0m    | Flow run\u001b[35m 'satisfied-armadillo'\u001b[0m - Executing 'transform_to_silver-0' immediately...\n"
      ]
     },
     "metadata": {},
     "output_type": "display_data"
    },
    {
     "data": {
      "text/html": [
       "<pre style=\"white-space:pre;overflow-x:auto;line-height:normal;font-family:Menlo,'DejaVu Sans Mono',consolas,'Courier New',monospace\">07:06:17.588 | <span style=\"color: #008080; text-decoration-color: #008080\">INFO</span>    | Task run 'to_silver-fixtures' - Finished in state <span style=\"color: #008000; text-decoration-color: #008000\">Completed</span>()\n",
       "</pre>\n"
      ],
      "text/plain": [
       "07:06:17.588 | \u001b[36mINFO\u001b[0m    | Task run 'to_silver-fixtures' - Finished in state \u001b[32mCompleted\u001b[0m()\n"
      ]
     },
     "metadata": {},
     "output_type": "display_data"
    },
    {
     "data": {
      "text/html": [
       "<pre style=\"white-space:pre;overflow-x:auto;line-height:normal;font-family:Menlo,'DejaVu Sans Mono',consolas,'Courier New',monospace\">07:06:18.042 | <span style=\"color: #008080; text-decoration-color: #008080\">INFO</span>    | Flow run<span style=\"color: #800080; text-decoration-color: #800080\"> 'satisfied-armadillo'</span> - Created task run 'transform_to_gold_from_silver-0' for task 'transform_to_gold_from_silver'\n",
       "</pre>\n"
      ],
      "text/plain": [
       "07:06:18.042 | \u001b[36mINFO\u001b[0m    | Flow run\u001b[35m 'satisfied-armadillo'\u001b[0m - Created task run 'transform_to_gold_from_silver-0' for task 'transform_to_gold_from_silver'\n"
      ]
     },
     "metadata": {},
     "output_type": "display_data"
    },
    {
     "data": {
      "text/html": [
       "<pre style=\"white-space:pre;overflow-x:auto;line-height:normal;font-family:Menlo,'DejaVu Sans Mono',consolas,'Courier New',monospace\">07:06:18.042 | <span style=\"color: #008080; text-decoration-color: #008080\">INFO</span>    | Flow run<span style=\"color: #800080; text-decoration-color: #800080\"> 'satisfied-armadillo'</span> - Executing 'transform_to_gold_from_silver-0' immediately...\n",
       "</pre>\n"
      ],
      "text/plain": [
       "07:06:18.042 | \u001b[36mINFO\u001b[0m    | Flow run\u001b[35m 'satisfied-armadillo'\u001b[0m - Executing 'transform_to_gold_from_silver-0' immediately...\n"
      ]
     },
     "metadata": {},
     "output_type": "display_data"
    },
    {
     "data": {
      "text/html": [
       "<pre style=\"white-space:pre;overflow-x:auto;line-height:normal;font-family:Menlo,'DejaVu Sans Mono',consolas,'Courier New',monospace\">07:06:19.430 | <span style=\"color: #008080; text-decoration-color: #008080\">INFO</span>    | Task run 'to_gold-fixtures' - Finished in state <span style=\"color: #008000; text-decoration-color: #008000\">Completed</span>()\n",
       "</pre>\n"
      ],
      "text/plain": [
       "07:06:19.430 | \u001b[36mINFO\u001b[0m    | Task run 'to_gold-fixtures' - Finished in state \u001b[32mCompleted\u001b[0m()\n"
      ]
     },
     "metadata": {},
     "output_type": "display_data"
    },
    {
     "data": {
      "text/html": [
       "<pre style=\"white-space:pre;overflow-x:auto;line-height:normal;font-family:Menlo,'DejaVu Sans Mono',consolas,'Courier New',monospace\">07:06:19.875 | <span style=\"color: #008080; text-decoration-color: #008080\">INFO</span>    | Flow run<span style=\"color: #800080; text-decoration-color: #800080\"> 'satisfied-armadillo'</span> - Finished in state <span style=\"color: #008000; text-decoration-color: #008000\">Completed</span>('All states completed.')\n",
       "</pre>\n"
      ],
      "text/plain": [
       "07:06:19.875 | \u001b[36mINFO\u001b[0m    | Flow run\u001b[35m 'satisfied-armadillo'\u001b[0m - Finished in state \u001b[32mCompleted\u001b[0m('All states completed.')\n"
      ]
     },
     "metadata": {},
     "output_type": "display_data"
    },
    {
     "data": {
      "text/plain": [
       "[Completed(message=None, type=COMPLETED, result=UnpersistedResult(type='unpersisted', artifact_type='result', artifact_description='Unpersisted result of type `list`')),\n",
       " Completed(message=None, type=COMPLETED, result=UnpersistedResult(type='unpersisted', artifact_type='result', artifact_description='Unpersisted result of type `DataFrame`')),\n",
       " Completed(message=None, type=COMPLETED, result=UnpersistedResult(type='unpersisted', artifact_type='result', artifact_description='Unpersisted result of type `NoneType`')),\n",
       " Completed(message=None, type=COMPLETED, result=UnpersistedResult(type='unpersisted', artifact_type='result', artifact_description='Unpersisted result of type `DataFrame`')),\n",
       " Completed(message=None, type=COMPLETED, result=UnpersistedResult(type='unpersisted', artifact_type='result', artifact_description='Unpersisted result of type `DataFrame`'))]"
      ]
     },
     "execution_count": 4,
     "metadata": {},
     "output_type": "execute_result"
    }
   ],
   "source": [
    "import importlib\n",
    "\n",
    "# Importa el script de orquestación\n",
    "etl = importlib.import_module(\"scripts.etl_fixtures\")\n",
    "\n",
    "# Ejecuta el flujo ETL de forma local (modo recomendado dentro del Notebook)\n",
    "etl.etl_parametrizable(endpoints=[\"fixtures\"])\n",
    "\n",
    "# Nota:\n",
    "# El mismo flujo también puede ejecutarse desde la terminal:\n",
    "#     python scripts/etl_fixtures.py\n",
    "# o, dentro del Notebook:\n",
    "#     !python scripts/etl_fixtures.py\n",
    "# Todas estas opciones llaman al mismo flow definido en scripts/etl_fixtures.py."
   ]
  },
  {
   "cell_type": "markdown",
   "id": "92727e9d",
   "metadata": {},
   "source": [
    "### 4.2 Opción B — Servir el flow como agente local (opcional)  \n",
    "Esta modalidad deja el flujo en ejecución continua y permite gestionarlo desde Prefect Cloud (ejecuciones, logs, programación).  \n",
    "⚠️ La celda quedará ocupada hasta que la detengas manualmente desde tu entorno (Interrupt/Stop del notebook).\n",
    "Por defecto está comentada para evitar que se ejecute por accidente."
   ]
  },
  {
   "cell_type": "code",
   "execution_count": null,
   "id": "e0aca689",
   "metadata": {},
   "outputs": [],
   "source": [
    "import importlib\n",
    "etl = importlib.import_module(\"scripts.etl_fixtures\")\n",
    "# etl.etl_parametrizable.serve(name=\"ETL-Fixtures\", endpoints=[\"fixtures\"])"
   ]
  },
  {
   "cell_type": "markdown",
   "id": "b6108c92",
   "metadata": {},
   "source": [
    "## 5. Monitoreo en Prefect\n",
    "\n",
    "El monitoreo del flujo no se realiza desde el notebook, sino desde la **UI de Prefect Cloud**.  \n",
    "Una vez que el flow se ejecuta (corrida única o servido como agente), es posible:\n",
    "\n",
    "1. **Flows** → ver el listado de flows registrados (ejemplo: `ETL-Fixtures`).  \n",
    "2. **Run history** → revisar el historial de ejecuciones con sus logs, tiempos y reintentos.  \n",
    "3. **Blocks** → administrar la configuración de almacenamiento o infraestructura remota si se utiliza.  \n",
    "4. **Schedules** → programar ejecuciones automáticas (requiere plan pago)."
   ]
  },
  {
   "cell_type": "markdown",
   "id": "6161835f",
   "metadata": {},
   "source": []
  }
 ],
 "metadata": {
  "kernelspec": {
   "display_name": "etl-football",
   "language": "python",
   "name": "python3"
  },
  "language_info": {
   "codemirror_mode": {
    "name": "ipython",
    "version": 3
   },
   "file_extension": ".py",
   "mimetype": "text/x-python",
   "name": "python",
   "nbconvert_exporter": "python",
   "pygments_lexer": "ipython3",
   "version": "3.12.11"
  }
 },
 "nbformat": 4,
 "nbformat_minor": 5
}
