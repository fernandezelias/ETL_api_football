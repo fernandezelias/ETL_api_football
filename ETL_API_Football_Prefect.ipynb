{
 "cells": [
  {
   "cell_type": "markdown",
   "id": "c96a683f",
   "metadata": {},
   "source": [
    "# Orquestación con Prefect\n",
    "\n",
    "Este notebook documenta y permite ejecutar el **pipeline ETL orquestado** con **Prefect**.  \n",
    "La lógica del flujo vive en `scripts/etl_fixtures.py` (para producción / CLI); aquí lo consumimos para:\n",
    "- Mostrar el **setup** (credenciales, rutas, estructura).\n",
    "- Ejecutar el **flow** de ejemplo.\n",
    "- Indicar cómo **servir** el flujo y monitorearlo desde **Prefect Cloud**.\n",
    "\n",
    "> **Nota:** El notebook manual (`ETL_API_Football.ipynb`) NO depende de Prefect."
   ]
  },
  {
   "cell_type": "markdown",
   "id": "97603b79",
   "metadata": {},
   "source": [
    "## 1. Configuración de entorno y rutas"
   ]
  },
  {
   "cell_type": "code",
   "execution_count": 3,
   "id": "3c9509ab",
   "metadata": {},
   "outputs": [
    {
     "name": "stdout",
     "output_type": "stream",
     "text": [
      "Estructura base creada/validada ✅\n"
     ]
    }
   ],
   "source": [
    "# Este bloque asegura que exista la estructura mínima del datalake\n",
    "# al correr el flujo desde el notebook (modo demo/documentación).\n",
    "# Nota: en el script etl_fixtures.py las rutas se definen de nuevo\n",
    "# para la ejecución real por CLI / Prefect.\n",
    "\n",
    "import os\n",
    "\n",
    "DATALAKE_ROOT = \"data/etl_datalake\"\n",
    "BRONZE_FIXTURES = f\"{DATALAKE_ROOT}/bronze/api_football/fixtures\"\n",
    "SILVER_FIXTURES = f\"{DATALAKE_ROOT}/silver/api_football/fixtures\"\n",
    "GOLD_FIXTURES   = f\"{DATALAKE_ROOT}/gold/api_football/fixtures\"\n",
    "EXPORTS_DIR     = f\"{DATALAKE_ROOT}/exports\"\n",
    "\n",
    "for p in [BRONZE_FIXTURES, SILVER_FIXTURES, GOLD_FIXTURES, EXPORTS_DIR, \"scripts\"]:\n",
    "    os.makedirs(p, exist_ok=True)\n",
    "\n",
    "print(\"Estructura base creada/validada ✅\")"
   ]
  },
  {
   "cell_type": "markdown",
   "id": "308ee2c9",
   "metadata": {},
   "source": [
    "## 2. Credenciales y configuración"
   ]
  },
  {
   "cell_type": "code",
   "execution_count": 4,
   "id": "e6f8aceb",
   "metadata": {},
   "outputs": [
    {
     "name": "stdout",
     "output_type": "stream",
     "text": [
      "Config OK ✅\n",
      "BASE_URL: https://v3.football.api-sports.io\n",
      "API_KEY:  (oculto) ****\n"
     ]
    }
   ],
   "source": [
    "# Se lee la configuración desde pipeline.conf\n",
    "# Contiene dos secciones:\n",
    "# [api-credentials] -> API-Football\n",
    "# [prefect]         -> Prefect Cloud\n",
    "\n",
    "from configparser import ConfigParser\n",
    "\n",
    "parser = ConfigParser()\n",
    "parser.read(\"pipeline.conf\")\n",
    "\n",
    "# --- API-Football ---\n",
    "BASE_URL = parser[\"api-credentials\"][\"base_url\"]\n",
    "API_KEY  = parser[\"api-credentials\"][\"api_key\"]\n",
    "\n",
    "print(\"Config OK ✅\")\n",
    "print(\"BASE_URL:\", BASE_URL)\n",
    "print(\"API_KEY:  (oculto) ****\")"
   ]
  },
  {
   "cell_type": "markdown",
   "id": "5a53c678",
   "metadata": {},
   "source": [
    "## 3. Prefect: conexión y conceptos\n",
    "\n",
    "Prefect permite **orquestar** un pipeline en pasos claros:\n",
    "\n",
    "- **Flow** → el contenedor principal del proceso ETL.  \n",
    "- **Task** → cada paso atómico dentro del flow (ej. extracción, transformación, carga).  \n",
    "- **Serve / Deploy** → maneras de ejecutar y programar flows:  \n",
    "  - *Serve*: correrlo como servicio local (útil en desarrollo).  \n",
    "  - *Deploy*: registrarlo en Prefect Cloud para programarlo y monitorearlo.  \n",
    "\n",
    "El login en Prefect Cloud se realiza *una sola vez desde la terminal*.\n",
    "Aquí solo se muestra de manera ilustrativa."
   ]
  },
  {
   "cell_type": "code",
   "execution_count": 5,
   "id": "e26a3952",
   "metadata": {},
   "outputs": [
    {
     "name": "stdout",
     "output_type": "stream",
     "text": [
      "Prefect API Key cargada (oculta) ****\n"
     ]
    }
   ],
   "source": [
    "# Prefect requiere login en Cloud, pero este paso se hace normalmente\n",
    "# desde la terminal (una única vez por entorno).\n",
    "# Aquí solo mostramos cómo se lee la API Key desde pipeline.conf.\n",
    "\n",
    "prefect_credentials = parser[\"prefect\"]\n",
    "prefect_api_key = prefect_credentials[\"api_key\"]\n",
    "\n",
    "print(\"Prefect API Key cargada (oculta) ****\")\n",
    "\n",
    "# Login en Prefect Cloud (solo a modo ilustrativo; en práctica se hace una vez desde la terminal)\n",
    "# !prefect cloud login -k {prefect_api_key}"
   ]
  },
  {
   "cell_type": "code",
   "execution_count": 6,
   "id": "e0852794",
   "metadata": {},
   "outputs": [
    {
     "name": "stdout",
     "output_type": "stream",
     "text": [
      "Prefect versión: 2.20.9\n"
     ]
    }
   ],
   "source": [
    "import prefect\n",
    "print(\"Prefect versión:\", prefect.__version__)"
   ]
  },
  {
   "cell_type": "markdown",
   "id": "3a5542e1",
   "metadata": {},
   "source": [
    "## 4. Uso del flujo desde `scripts/etl_fixtures.py`\n",
    "\n",
    "El flujo ETL está definido en `scripts/etl_fixtures.py`.  \n",
    "En este notebook es posible:\n",
    "\n",
    "- **4.1 Opción A — Corrida única (demo one-off):** ejecuta el flow una sola vez para validar la orquestación.  \n",
    "- **4.2 Opción B — Servir el flow (opcional):** mantiene el flow activo como servicio local."
   ]
  },
  {
   "cell_type": "markdown",
   "id": "7e90d67b",
   "metadata": {},
   "source": [
    "### 4.1 Opción A — Ejecutar una corrida orquestada (demo one-off)"
   ]
  },
  {
   "cell_type": "code",
   "execution_count": 2,
   "id": "236b9700",
   "metadata": {},
   "outputs": [
    {
     "data": {
      "text/html": [
       "<pre style=\"white-space:pre;overflow-x:auto;line-height:normal;font-family:Menlo,'DejaVu Sans Mono',consolas,'Courier New',monospace\">17:43:59.512 | <span style=\"color: #008080; text-decoration-color: #008080\">INFO</span>    | prefect.engine - Created flow run<span style=\"color: #800080; text-decoration-color: #800080\"> 'saffron-lobster'</span> for flow<span style=\"color: #800080; text-decoration-color: #800080; font-weight: bold\"> 'etl-parametrizable'</span>\n",
       "</pre>\n"
      ],
      "text/plain": [
       "17:43:59.512 | \u001b[36mINFO\u001b[0m    | prefect.engine - Created flow run\u001b[35m 'saffron-lobster'\u001b[0m for flow\u001b[1;35m 'etl-parametrizable'\u001b[0m\n"
      ]
     },
     "metadata": {},
     "output_type": "display_data"
    },
    {
     "data": {
      "text/html": [
       "<pre style=\"white-space:pre;overflow-x:auto;line-height:normal;font-family:Menlo,'DejaVu Sans Mono',consolas,'Courier New',monospace\">17:43:59.512 | <span style=\"color: #008080; text-decoration-color: #008080\">INFO</span>    | Flow run<span style=\"color: #800080; text-decoration-color: #800080\"> 'saffron-lobster'</span> - View at <span style=\"color: #0000ff; text-decoration-color: #0000ff\">https://app.prefect.cloud/account/1513bf29-3686-40b8-9dbf-c85ba6a6f8c0/workspace/377710aa-6343-48a1-a52d-8fd9be6fbba7/flow-runs/flow-run/068d5a98-f895-7158-8000-5870901a27a8</span>\n",
       "</pre>\n"
      ],
      "text/plain": [
       "17:43:59.512 | \u001b[36mINFO\u001b[0m    | Flow run\u001b[35m 'saffron-lobster'\u001b[0m - View at \u001b[94mhttps://app.prefect.cloud/account/1513bf29-3686-40b8-9dbf-c85ba6a6f8c0/workspace/377710aa-6343-48a1-a52d-8fd9be6fbba7/flow-runs/flow-run/068d5a98-f895-7158-8000-5870901a27a8\u001b[0m\n"
      ]
     },
     "metadata": {},
     "output_type": "display_data"
    },
    {
     "data": {
      "text/html": [
       "<pre style=\"white-space:pre;overflow-x:auto;line-height:normal;font-family:Menlo,'DejaVu Sans Mono',consolas,'Courier New',monospace\">17:44:00.210 | <span style=\"color: #008080; text-decoration-color: #008080\">INFO</span>    | Flow run<span style=\"color: #800080; text-decoration-color: #800080\"> 'saffron-lobster'</span> - Created task run 'extract_data-0' for task 'extract_data'\n",
       "</pre>\n"
      ],
      "text/plain": [
       "17:44:00.210 | \u001b[36mINFO\u001b[0m    | Flow run\u001b[35m 'saffron-lobster'\u001b[0m - Created task run 'extract_data-0' for task 'extract_data'\n"
      ]
     },
     "metadata": {},
     "output_type": "display_data"
    },
    {
     "data": {
      "text/html": [
       "<pre style=\"white-space:pre;overflow-x:auto;line-height:normal;font-family:Menlo,'DejaVu Sans Mono',consolas,'Courier New',monospace\">17:44:00.210 | <span style=\"color: #008080; text-decoration-color: #008080\">INFO</span>    | Flow run<span style=\"color: #800080; text-decoration-color: #800080\"> 'saffron-lobster'</span> - Executing 'extract_data-0' immediately...\n",
       "</pre>\n"
      ],
      "text/plain": [
       "17:44:00.210 | \u001b[36mINFO\u001b[0m    | Flow run\u001b[35m 'saffron-lobster'\u001b[0m - Executing 'extract_data-0' immediately...\n"
      ]
     },
     "metadata": {},
     "output_type": "display_data"
    },
    {
     "data": {
      "text/html": [
       "<pre style=\"white-space:pre;overflow-x:auto;line-height:normal;font-family:Menlo,'DejaVu Sans Mono',consolas,'Courier New',monospace\">17:44:02.658 | <span style=\"color: #008080; text-decoration-color: #008080\">INFO</span>    | Task run 'get_data-fixtures' - Finished in state <span style=\"color: #008000; text-decoration-color: #008000\">Completed</span>()\n",
       "</pre>\n"
      ],
      "text/plain": [
       "17:44:02.658 | \u001b[36mINFO\u001b[0m    | Task run 'get_data-fixtures' - Finished in state \u001b[32mCompleted\u001b[0m()\n"
      ]
     },
     "metadata": {},
     "output_type": "display_data"
    },
    {
     "data": {
      "text/html": [
       "<pre style=\"white-space:pre;overflow-x:auto;line-height:normal;font-family:Menlo,'DejaVu Sans Mono',consolas,'Courier New',monospace\">17:44:03.280 | <span style=\"color: #008080; text-decoration-color: #008080\">INFO</span>    | Flow run<span style=\"color: #800080; text-decoration-color: #800080\"> 'saffron-lobster'</span> - Created task run 'transform_data-0' for task 'transform_data'\n",
       "</pre>\n"
      ],
      "text/plain": [
       "17:44:03.280 | \u001b[36mINFO\u001b[0m    | Flow run\u001b[35m 'saffron-lobster'\u001b[0m - Created task run 'transform_data-0' for task 'transform_data'\n"
      ]
     },
     "metadata": {},
     "output_type": "display_data"
    },
    {
     "data": {
      "text/html": [
       "<pre style=\"white-space:pre;overflow-x:auto;line-height:normal;font-family:Menlo,'DejaVu Sans Mono',consolas,'Courier New',monospace\">17:44:03.280 | <span style=\"color: #008080; text-decoration-color: #008080\">INFO</span>    | Flow run<span style=\"color: #800080; text-decoration-color: #800080\"> 'saffron-lobster'</span> - Executing 'transform_data-0' immediately...\n",
       "</pre>\n"
      ],
      "text/plain": [
       "17:44:03.280 | \u001b[36mINFO\u001b[0m    | Flow run\u001b[35m 'saffron-lobster'\u001b[0m - Executing 'transform_data-0' immediately...\n"
      ]
     },
     "metadata": {},
     "output_type": "display_data"
    },
    {
     "data": {
      "text/html": [
       "<pre style=\"white-space:pre;overflow-x:auto;line-height:normal;font-family:Menlo,'DejaVu Sans Mono',consolas,'Courier New',monospace\">17:44:04.493 | <span style=\"color: #008080; text-decoration-color: #008080\">INFO</span>    | Task run 'transform_data' - Finished in state <span style=\"color: #008000; text-decoration-color: #008000\">Completed</span>()\n",
       "</pre>\n"
      ],
      "text/plain": [
       "17:44:04.493 | \u001b[36mINFO\u001b[0m    | Task run 'transform_data' - Finished in state \u001b[32mCompleted\u001b[0m()\n"
      ]
     },
     "metadata": {},
     "output_type": "display_data"
    },
    {
     "data": {
      "text/html": [
       "<pre style=\"white-space:pre;overflow-x:auto;line-height:normal;font-family:Menlo,'DejaVu Sans Mono',consolas,'Courier New',monospace\">17:44:04.692 | <span style=\"color: #d70000; text-decoration-color: #d70000\">ERROR</span>   | Flow run<span style=\"color: #800080; text-decoration-color: #800080\"> 'saffron-lobster'</span> - Encountered exception during execution:\n",
       "Traceback (most recent call last):\n",
       "  File \"c:\\Users\\elias\\anaconda3\\envs\\etl-football\\Lib\\site-packages\\prefect\\engine.py\", line 894, in orchestrate_flow_run\n",
       "    result = await flow_call.aresult()\n",
       "             ^^^^^^^^^^^^^^^^^^^^^^^^^\n",
       "  File \"c:\\Users\\elias\\anaconda3\\envs\\etl-football\\Lib\\site-packages\\prefect\\_internal\\concurrency\\calls.py\", line 327, in aresult\n",
       "    return await asyncio.wrap_future(self.future)\n",
       "           ^^^^^^^^^^^^^^^^^^^^^^^^^^^^^^^^^^^^^^\n",
       "  File \"c:\\Users\\elias\\anaconda3\\envs\\etl-football\\Lib\\site-packages\\prefect\\_internal\\concurrency\\calls.py\", line 352, in _run_sync\n",
       "    result = self.fn(*self.args, **self.kwargs)\n",
       "             ^^^^^^^^^^^^^^^^^^^^^^^^^^^^^^^^^^\n",
       "  File \"c:\\Users\\elias\\OneDrive\\Documentos\\Repositorios_notebooks\\ETL_api_football\\scripts\\etl_fixtures.py\", line 167, in etl_parametrizable\n",
       "    load_data(df_bronze, endpoint)\n",
       "    ^^^^^^^^^\n",
       "NameError: name 'load_data' is not defined\n",
       "</pre>\n"
      ],
      "text/plain": [
       "17:44:04.692 | \u001b[38;5;160mERROR\u001b[0m   | Flow run\u001b[35m 'saffron-lobster'\u001b[0m - Encountered exception during execution:\n",
       "Traceback (most recent call last):\n",
       "  File \"c:\\Users\\elias\\anaconda3\\envs\\etl-football\\Lib\\site-packages\\prefect\\engine.py\", line 894, in orchestrate_flow_run\n",
       "    result = await flow_call.aresult()\n",
       "             ^^^^^^^^^^^^^^^^^^^^^^^^^\n",
       "  File \"c:\\Users\\elias\\anaconda3\\envs\\etl-football\\Lib\\site-packages\\prefect\\_internal\\concurrency\\calls.py\", line 327, in aresult\n",
       "    return await asyncio.wrap_future(self.future)\n",
       "           ^^^^^^^^^^^^^^^^^^^^^^^^^^^^^^^^^^^^^^\n",
       "  File \"c:\\Users\\elias\\anaconda3\\envs\\etl-football\\Lib\\site-packages\\prefect\\_internal\\concurrency\\calls.py\", line 352, in _run_sync\n",
       "    result = self.fn(*self.args, **self.kwargs)\n",
       "             ^^^^^^^^^^^^^^^^^^^^^^^^^^^^^^^^^^\n",
       "  File \"c:\\Users\\elias\\OneDrive\\Documentos\\Repositorios_notebooks\\ETL_api_football\\scripts\\etl_fixtures.py\", line 167, in etl_parametrizable\n",
       "    load_data(df_bronze, endpoint)\n",
       "    ^^^^^^^^^\n",
       "NameError: name 'load_data' is not defined\n"
      ]
     },
     "metadata": {},
     "output_type": "display_data"
    },
    {
     "data": {
      "text/html": [
       "<pre style=\"white-space:pre;overflow-x:auto;line-height:normal;font-family:Menlo,'DejaVu Sans Mono',consolas,'Courier New',monospace\">17:44:04.961 | <span style=\"color: #d70000; text-decoration-color: #d70000\">ERROR</span>   | Flow run<span style=\"color: #800080; text-decoration-color: #800080\"> 'saffron-lobster'</span> - Finished in state <span style=\"color: #d70000; text-decoration-color: #d70000\">Failed</span>(\"Flow run encountered an exception. NameError: name 'load_data' is not defined\")\n",
       "</pre>\n"
      ],
      "text/plain": [
       "17:44:04.961 | \u001b[38;5;160mERROR\u001b[0m   | Flow run\u001b[35m 'saffron-lobster'\u001b[0m - Finished in state \u001b[38;5;160mFailed\u001b[0m(\"Flow run encountered an exception. NameError: name 'load_data' is not defined\")\n"
      ]
     },
     "metadata": {},
     "output_type": "display_data"
    },
    {
     "ename": "NameError",
     "evalue": "name 'load_data' is not defined",
     "output_type": "error",
     "traceback": [
      "\u001b[31m---------------------------------------------------------------------------\u001b[39m",
      "\u001b[31mNameError\u001b[39m                                 Traceback (most recent call last)",
      "\u001b[36mCell\u001b[39m\u001b[36m \u001b[39m\u001b[32mIn[2]\u001b[39m\u001b[32m, line 7\u001b[39m\n\u001b[32m      4\u001b[39m etl = importlib.import_module(\u001b[33m\"\u001b[39m\u001b[33mscripts.etl_fixtures\u001b[39m\u001b[33m\"\u001b[39m)\n\u001b[32m      6\u001b[39m \u001b[38;5;66;03m# Corre el flow una vez, de forma local\u001b[39;00m\n\u001b[32m----> \u001b[39m\u001b[32m7\u001b[39m \u001b[43metl\u001b[49m\u001b[43m.\u001b[49m\u001b[43metl_parametrizable\u001b[49m\u001b[43m(\u001b[49m\u001b[43mendpoints\u001b[49m\u001b[43m=\u001b[49m\u001b[43m[\u001b[49m\u001b[33;43m\"\u001b[39;49m\u001b[33;43mfixtures\u001b[39;49m\u001b[33;43m\"\u001b[39;49m\u001b[43m]\u001b[49m\u001b[43m)\u001b[49m\n",
      "\u001b[36mFile \u001b[39m\u001b[32mc:\\Users\\elias\\anaconda3\\envs\\etl-football\\Lib\\site-packages\\prefect\\flows.py:1247\u001b[39m, in \u001b[36mFlow.__call__\u001b[39m\u001b[34m(self, return_state, wait_for, *args, **kwargs)\u001b[39m\n\u001b[32m   1244\u001b[39m     \u001b[38;5;28;01melse\u001b[39;00m:\n\u001b[32m   1245\u001b[39m         \u001b[38;5;28;01mreturn\u001b[39;00m run_flow_sync(**run_kwargs)\n\u001b[32m-> \u001b[39m\u001b[32m1247\u001b[39m \u001b[38;5;28;01mreturn\u001b[39;00m \u001b[43menter_flow_run_engine_from_flow_call\u001b[49m\u001b[43m(\u001b[49m\n\u001b[32m   1248\u001b[39m \u001b[43m    \u001b[49m\u001b[38;5;28;43mself\u001b[39;49m\u001b[43m,\u001b[49m\n\u001b[32m   1249\u001b[39m \u001b[43m    \u001b[49m\u001b[43mparameters\u001b[49m\u001b[43m,\u001b[49m\n\u001b[32m   1250\u001b[39m \u001b[43m    \u001b[49m\u001b[43mwait_for\u001b[49m\u001b[43m=\u001b[49m\u001b[43mwait_for\u001b[49m\u001b[43m,\u001b[49m\n\u001b[32m   1251\u001b[39m \u001b[43m    \u001b[49m\u001b[43mreturn_type\u001b[49m\u001b[43m=\u001b[49m\u001b[43mreturn_type\u001b[49m\u001b[43m,\u001b[49m\n\u001b[32m   1252\u001b[39m \u001b[43m\u001b[49m\u001b[43m)\u001b[49m\n",
      "\u001b[36mFile \u001b[39m\u001b[32mc:\\Users\\elias\\anaconda3\\envs\\etl-football\\Lib\\site-packages\\prefect\\engine.py:298\u001b[39m, in \u001b[36menter_flow_run_engine_from_flow_call\u001b[39m\u001b[34m(flow, parameters, wait_for, return_type)\u001b[39m\n\u001b[32m    291\u001b[39m     retval = from_async.wait_for_call_in_loop_thread(\n\u001b[32m    292\u001b[39m         begin_run,\n\u001b[32m    293\u001b[39m         done_callbacks=done_callbacks,\n\u001b[32m    294\u001b[39m         contexts=contexts,\n\u001b[32m    295\u001b[39m     )\n\u001b[32m    297\u001b[39m \u001b[38;5;28;01melse\u001b[39;00m:\n\u001b[32m--> \u001b[39m\u001b[32m298\u001b[39m     retval = \u001b[43mfrom_sync\u001b[49m\u001b[43m.\u001b[49m\u001b[43mwait_for_call_in_loop_thread\u001b[49m\u001b[43m(\u001b[49m\n\u001b[32m    299\u001b[39m \u001b[43m        \u001b[49m\u001b[43mbegin_run\u001b[49m\u001b[43m,\u001b[49m\n\u001b[32m    300\u001b[39m \u001b[43m        \u001b[49m\u001b[43mdone_callbacks\u001b[49m\u001b[43m=\u001b[49m\u001b[43mdone_callbacks\u001b[49m\u001b[43m,\u001b[49m\n\u001b[32m    301\u001b[39m \u001b[43m        \u001b[49m\u001b[43mcontexts\u001b[49m\u001b[43m=\u001b[49m\u001b[43mcontexts\u001b[49m\u001b[43m,\u001b[49m\n\u001b[32m    302\u001b[39m \u001b[43m    \u001b[49m\u001b[43m)\u001b[49m\n\u001b[32m    304\u001b[39m \u001b[38;5;28;01mreturn\u001b[39;00m retval\n",
      "\u001b[36mFile \u001b[39m\u001b[32mc:\\Users\\elias\\anaconda3\\envs\\etl-football\\Lib\\site-packages\\prefect\\_internal\\concurrency\\api.py:218\u001b[39m, in \u001b[36mfrom_sync.wait_for_call_in_loop_thread\u001b[39m\u001b[34m(_from_sync__call, timeout, done_callbacks, contexts)\u001b[39m\n\u001b[32m    216\u001b[39m     stack.enter_context(context)\n\u001b[32m    217\u001b[39m waiter.wait()\n\u001b[32m--> \u001b[39m\u001b[32m218\u001b[39m \u001b[38;5;28;01mreturn\u001b[39;00m \u001b[43mcall\u001b[49m\u001b[43m.\u001b[49m\u001b[43mresult\u001b[49m\u001b[43m(\u001b[49m\u001b[43m)\u001b[49m\n",
      "\u001b[36mFile \u001b[39m\u001b[32mc:\\Users\\elias\\anaconda3\\envs\\etl-football\\Lib\\site-packages\\prefect\\_internal\\concurrency\\calls.py:318\u001b[39m, in \u001b[36mCall.result\u001b[39m\u001b[34m(self, timeout)\u001b[39m\n\u001b[32m    312\u001b[39m \u001b[38;5;28;01mdef\u001b[39;00m\u001b[38;5;250m \u001b[39m\u001b[34mresult\u001b[39m(\u001b[38;5;28mself\u001b[39m, timeout: Optional[\u001b[38;5;28mfloat\u001b[39m] = \u001b[38;5;28;01mNone\u001b[39;00m) -> T:\n\u001b[32m    313\u001b[39m \u001b[38;5;250m    \u001b[39m\u001b[33;03m\"\"\"\u001b[39;00m\n\u001b[32m    314\u001b[39m \u001b[33;03m    Wait for the result of the call.\u001b[39;00m\n\u001b[32m    315\u001b[39m \n\u001b[32m    316\u001b[39m \u001b[33;03m    Not safe for use from asynchronous contexts.\u001b[39;00m\n\u001b[32m    317\u001b[39m \u001b[33;03m    \"\"\"\u001b[39;00m\n\u001b[32m--> \u001b[39m\u001b[32m318\u001b[39m     \u001b[38;5;28;01mreturn\u001b[39;00m \u001b[38;5;28;43mself\u001b[39;49m\u001b[43m.\u001b[49m\u001b[43mfuture\u001b[49m\u001b[43m.\u001b[49m\u001b[43mresult\u001b[49m\u001b[43m(\u001b[49m\u001b[43mtimeout\u001b[49m\u001b[43m=\u001b[49m\u001b[43mtimeout\u001b[49m\u001b[43m)\u001b[49m\n",
      "\u001b[36mFile \u001b[39m\u001b[32mc:\\Users\\elias\\anaconda3\\envs\\etl-football\\Lib\\site-packages\\prefect\\_internal\\concurrency\\calls.py:179\u001b[39m, in \u001b[36mFuture.result\u001b[39m\u001b[34m(self, timeout)\u001b[39m\n\u001b[32m    177\u001b[39m     \u001b[38;5;28;01mraise\u001b[39;00m CancelledError()\n\u001b[32m    178\u001b[39m \u001b[38;5;28;01melif\u001b[39;00m \u001b[38;5;28mself\u001b[39m._state == FINISHED:\n\u001b[32m--> \u001b[39m\u001b[32m179\u001b[39m     \u001b[38;5;28;01mreturn\u001b[39;00m \u001b[38;5;28;43mself\u001b[39;49m\u001b[43m.\u001b[49m\u001b[43m__get_result\u001b[49m\u001b[43m(\u001b[49m\u001b[43m)\u001b[49m\n\u001b[32m    181\u001b[39m \u001b[38;5;28mself\u001b[39m._condition.wait(timeout)\n\u001b[32m    183\u001b[39m \u001b[38;5;28;01mif\u001b[39;00m \u001b[38;5;28mself\u001b[39m._state \u001b[38;5;129;01min\u001b[39;00m [CANCELLED, CANCELLED_AND_NOTIFIED]:\n\u001b[32m    184\u001b[39m     \u001b[38;5;66;03m# Raise Prefect cancelled error instead of\u001b[39;00m\n\u001b[32m    185\u001b[39m     \u001b[38;5;66;03m# `concurrent.futures._base.CancelledError`\u001b[39;00m\n",
      "\u001b[36mFile \u001b[39m\u001b[32mc:\\Users\\elias\\anaconda3\\envs\\etl-football\\Lib\\concurrent\\futures\\_base.py:401\u001b[39m, in \u001b[36mFuture.__get_result\u001b[39m\u001b[34m(self)\u001b[39m\n\u001b[32m    399\u001b[39m \u001b[38;5;28;01mif\u001b[39;00m \u001b[38;5;28mself\u001b[39m._exception:\n\u001b[32m    400\u001b[39m     \u001b[38;5;28;01mtry\u001b[39;00m:\n\u001b[32m--> \u001b[39m\u001b[32m401\u001b[39m         \u001b[38;5;28;01mraise\u001b[39;00m \u001b[38;5;28mself\u001b[39m._exception\n\u001b[32m    402\u001b[39m     \u001b[38;5;28;01mfinally\u001b[39;00m:\n\u001b[32m    403\u001b[39m         \u001b[38;5;66;03m# Break a reference cycle with the exception in self._exception\u001b[39;00m\n\u001b[32m    404\u001b[39m         \u001b[38;5;28mself\u001b[39m = \u001b[38;5;28;01mNone\u001b[39;00m\n",
      "\u001b[36mFile \u001b[39m\u001b[32mc:\\Users\\elias\\anaconda3\\envs\\etl-football\\Lib\\site-packages\\prefect\\_internal\\concurrency\\calls.py:389\u001b[39m, in \u001b[36mCall._run_async\u001b[39m\u001b[34m(***failed resolving arguments***)\u001b[39m\n\u001b[32m    387\u001b[39m \u001b[38;5;28;01mwith\u001b[39;00m \u001b[38;5;28mself\u001b[39m.future.enforce_async_deadline() \u001b[38;5;28;01mas\u001b[39;00m cancel_scope:\n\u001b[32m    388\u001b[39m     \u001b[38;5;28;01mtry\u001b[39;00m:\n\u001b[32m--> \u001b[39m\u001b[32m389\u001b[39m         result = \u001b[38;5;28;01mawait\u001b[39;00m coro\n\u001b[32m    390\u001b[39m     \u001b[38;5;28;01mfinally\u001b[39;00m:\n\u001b[32m    391\u001b[39m         \u001b[38;5;66;03m# Forget this call's arguments in order to free up any memory\u001b[39;00m\n\u001b[32m    392\u001b[39m         \u001b[38;5;66;03m# that may be referenced by them; after a call has happened,\u001b[39;00m\n\u001b[32m    393\u001b[39m         \u001b[38;5;66;03m# there's no need to keep a reference to them\u001b[39;00m\n\u001b[32m    394\u001b[39m         \u001b[38;5;28mself\u001b[39m.args = \u001b[38;5;28;01mNone\u001b[39;00m\n",
      "\u001b[36mFile \u001b[39m\u001b[32mc:\\Users\\elias\\anaconda3\\envs\\etl-football\\Lib\\site-packages\\prefect\\client\\utilities.py:100\u001b[39m, in \u001b[36minject_client.<locals>.with_injected_client\u001b[39m\u001b[34m(*args, **kwargs)\u001b[39m\n\u001b[32m     98\u001b[39m \u001b[38;5;28;01masync\u001b[39;00m \u001b[38;5;28;01mwith\u001b[39;00m context \u001b[38;5;28;01mas\u001b[39;00m new_client:\n\u001b[32m     99\u001b[39m     kwargs.setdefault(\u001b[33m\"\u001b[39m\u001b[33mclient\u001b[39m\u001b[33m\"\u001b[39m, new_client \u001b[38;5;129;01mor\u001b[39;00m client)\n\u001b[32m--> \u001b[39m\u001b[32m100\u001b[39m     \u001b[38;5;28;01mreturn\u001b[39;00m \u001b[38;5;28;01mawait\u001b[39;00m fn(*args, **kwargs)\n",
      "\u001b[36mFile \u001b[39m\u001b[32mc:\\Users\\elias\\anaconda3\\envs\\etl-football\\Lib\\site-packages\\prefect\\engine.py:410\u001b[39m, in \u001b[36mcreate_then_begin_flow_run\u001b[39m\u001b[34m(flow, parameters, wait_for, return_type, client, user_thread)\u001b[39m\n\u001b[32m    408\u001b[39m     \u001b[38;5;28;01mreturn\u001b[39;00m state\n\u001b[32m    409\u001b[39m \u001b[38;5;28;01melif\u001b[39;00m return_type == \u001b[33m\"\u001b[39m\u001b[33mresult\u001b[39m\u001b[33m\"\u001b[39m:\n\u001b[32m--> \u001b[39m\u001b[32m410\u001b[39m     \u001b[38;5;28;01mreturn\u001b[39;00m \u001b[38;5;28;01mawait\u001b[39;00m state.result(fetch=\u001b[38;5;28;01mTrue\u001b[39;00m)\n\u001b[32m    411\u001b[39m \u001b[38;5;28;01melse\u001b[39;00m:\n\u001b[32m    412\u001b[39m     \u001b[38;5;28;01mraise\u001b[39;00m \u001b[38;5;167;01mValueError\u001b[39;00m(\u001b[33mf\u001b[39m\u001b[33m\"\u001b[39m\u001b[33mInvalid return type for flow engine \u001b[39m\u001b[38;5;132;01m{\u001b[39;00mreturn_type\u001b[38;5;132;01m!r}\u001b[39;00m\u001b[33m.\u001b[39m\u001b[33m\"\u001b[39m)\n",
      "\u001b[36mFile \u001b[39m\u001b[32mc:\\Users\\elias\\anaconda3\\envs\\etl-football\\Lib\\site-packages\\prefect\\states.py:91\u001b[39m, in \u001b[36m_get_state_result\u001b[39m\u001b[34m(state, raise_on_failure)\u001b[39m\n\u001b[32m     84\u001b[39m     \u001b[38;5;28;01mraise\u001b[39;00m UnfinishedRun(\n\u001b[32m     85\u001b[39m         \u001b[33mf\u001b[39m\u001b[33m\"\u001b[39m\u001b[33mRun is in \u001b[39m\u001b[38;5;132;01m{\u001b[39;00mstate.type.name\u001b[38;5;132;01m}\u001b[39;00m\u001b[33m state, its result is not available.\u001b[39m\u001b[33m\"\u001b[39m\n\u001b[32m     86\u001b[39m     )\n\u001b[32m     88\u001b[39m \u001b[38;5;28;01mif\u001b[39;00m raise_on_failure \u001b[38;5;129;01mand\u001b[39;00m (\n\u001b[32m     89\u001b[39m     state.is_crashed() \u001b[38;5;129;01mor\u001b[39;00m state.is_failed() \u001b[38;5;129;01mor\u001b[39;00m state.is_cancelled()\n\u001b[32m     90\u001b[39m ):\n\u001b[32m---> \u001b[39m\u001b[32m91\u001b[39m     \u001b[38;5;28;01mraise\u001b[39;00m \u001b[38;5;28;01mawait\u001b[39;00m get_state_exception(state)\n\u001b[32m     93\u001b[39m \u001b[38;5;28;01mif\u001b[39;00m \u001b[38;5;28misinstance\u001b[39m(state.data, DataDocument):\n\u001b[32m     94\u001b[39m     result = result_from_state_with_data_document(\n\u001b[32m     95\u001b[39m         state, raise_on_failure=raise_on_failure\n\u001b[32m     96\u001b[39m     )\n",
      "\u001b[36mFile \u001b[39m\u001b[32mc:\\Users\\elias\\anaconda3\\envs\\etl-football\\Lib\\site-packages\\prefect\\engine.py:894\u001b[39m, in \u001b[36morchestrate_flow_run\u001b[39m\u001b[34m(flow, flow_run, parameters, wait_for, interruptible, client, partial_flow_run_context, user_thread)\u001b[39m\n\u001b[32m    889\u001b[39m         \u001b[38;5;28;01melse\u001b[39;00m:\n\u001b[32m    890\u001b[39m             from_async.call_soon_in_new_thread(\n\u001b[32m    891\u001b[39m                 flow_call, timeout=flow.timeout_seconds\n\u001b[32m    892\u001b[39m             )\n\u001b[32m--> \u001b[39m\u001b[32m894\u001b[39m         result = \u001b[38;5;28;01mawait\u001b[39;00m flow_call.aresult()\n\u001b[32m    896\u001b[39m         waited_for_task_runs = \u001b[38;5;28;01mawait\u001b[39;00m wait_for_task_runs_and_report_crashes(\n\u001b[32m    897\u001b[39m             flow_run_context.task_run_futures, client=client\n\u001b[32m    898\u001b[39m         )\n\u001b[32m    899\u001b[39m \u001b[38;5;28;01mexcept\u001b[39;00m PausedRun \u001b[38;5;28;01mas\u001b[39;00m exc:\n\u001b[32m    900\u001b[39m     \u001b[38;5;66;03m# could get raised either via utility or by returning Paused from a task run\u001b[39;00m\n\u001b[32m    901\u001b[39m     \u001b[38;5;66;03m# if a task run pauses, we set its state as the flow's state\u001b[39;00m\n\u001b[32m    902\u001b[39m     \u001b[38;5;66;03m# to preserve reschedule and timeout behavior\u001b[39;00m\n",
      "\u001b[36mFile \u001b[39m\u001b[32mc:\\Users\\elias\\anaconda3\\envs\\etl-football\\Lib\\site-packages\\prefect\\_internal\\concurrency\\calls.py:327\u001b[39m, in \u001b[36mCall.aresult\u001b[39m\u001b[34m(self)\u001b[39m\n\u001b[32m    321\u001b[39m \u001b[38;5;250m\u001b[39m\u001b[33;03m\"\"\"\u001b[39;00m\n\u001b[32m    322\u001b[39m \u001b[33;03mWait for the result of the call.\u001b[39;00m\n\u001b[32m    323\u001b[39m \n\u001b[32m    324\u001b[39m \u001b[33;03mFor use from asynchronous contexts.\u001b[39;00m\n\u001b[32m    325\u001b[39m \u001b[33;03m\"\"\"\u001b[39;00m\n\u001b[32m    326\u001b[39m \u001b[38;5;28;01mtry\u001b[39;00m:\n\u001b[32m--> \u001b[39m\u001b[32m327\u001b[39m     \u001b[38;5;28;01mreturn\u001b[39;00m \u001b[38;5;28;01mawait\u001b[39;00m asyncio.wrap_future(\u001b[38;5;28mself\u001b[39m.future)\n\u001b[32m    328\u001b[39m \u001b[38;5;28;01mexcept\u001b[39;00m asyncio.CancelledError \u001b[38;5;28;01mas\u001b[39;00m exc:\n\u001b[32m    329\u001b[39m     \u001b[38;5;28;01mraise\u001b[39;00m CancelledError() \u001b[38;5;28;01mfrom\u001b[39;00m\u001b[38;5;250m \u001b[39m\u001b[34;01mexc\u001b[39;00m\n",
      "\u001b[36mFile \u001b[39m\u001b[32mc:\\Users\\elias\\anaconda3\\envs\\etl-football\\Lib\\site-packages\\prefect\\_internal\\concurrency\\calls.py:352\u001b[39m, in \u001b[36mCall._run_sync\u001b[39m\u001b[34m(***failed resolving arguments***)\u001b[39m\n\u001b[32m    350\u001b[39m \u001b[38;5;28;01mwith\u001b[39;00m \u001b[38;5;28mself\u001b[39m.future.enforce_sync_deadline() \u001b[38;5;28;01mas\u001b[39;00m cancel_scope:\n\u001b[32m    351\u001b[39m     \u001b[38;5;28;01mtry\u001b[39;00m:\n\u001b[32m--> \u001b[39m\u001b[32m352\u001b[39m         result = \u001b[38;5;28;43mself\u001b[39;49m\u001b[43m.\u001b[49m\u001b[43mfn\u001b[49m\u001b[43m(\u001b[49m\u001b[43m*\u001b[49m\u001b[38;5;28;43mself\u001b[39;49m\u001b[43m.\u001b[49m\u001b[43margs\u001b[49m\u001b[43m,\u001b[49m\u001b[43m \u001b[49m\u001b[43m*\u001b[49m\u001b[43m*\u001b[49m\u001b[38;5;28;43mself\u001b[39;49m\u001b[43m.\u001b[49m\u001b[43mkwargs\u001b[49m\u001b[43m)\u001b[49m\n\u001b[32m    353\u001b[39m     \u001b[38;5;28;01mfinally\u001b[39;00m:\n\u001b[32m    354\u001b[39m         \u001b[38;5;66;03m# Forget this call's arguments in order to free up any memory\u001b[39;00m\n\u001b[32m    355\u001b[39m         \u001b[38;5;66;03m# that may be referenced by them; after a call has happened,\u001b[39;00m\n\u001b[32m    356\u001b[39m         \u001b[38;5;66;03m# there's no need to keep a reference to them\u001b[39;00m\n\u001b[32m    357\u001b[39m         \u001b[38;5;28mself\u001b[39m.args = \u001b[38;5;28;01mNone\u001b[39;00m\n",
      "\u001b[36mFile \u001b[39m\u001b[32mc:\\Users\\elias\\OneDrive\\Documentos\\Repositorios_notebooks\\ETL_api_football\\scripts\\etl_fixtures.py:167\u001b[39m, in \u001b[36metl_parametrizable\u001b[39m\u001b[34m(endpoints)\u001b[39m\n\u001b[32m    165\u001b[39m \u001b[38;5;66;03m# Bronze\u001b[39;00m\n\u001b[32m    166\u001b[39m df_bronze = transform_data(data)\n\u001b[32m--> \u001b[39m\u001b[32m167\u001b[39m \u001b[43mload_data\u001b[49m(df_bronze, endpoint)\n\u001b[32m    169\u001b[39m \u001b[38;5;66;03m# Silver\u001b[39;00m\n\u001b[32m    170\u001b[39m transform_to_silver(df_bronze, endpoint)\n",
      "\u001b[31mNameError\u001b[39m: name 'load_data' is not defined"
     ]
    }
   ],
   "source": [
    "import importlib\n",
    "\n",
    "# Importa el script de orquestación\n",
    "etl = importlib.import_module(\"scripts.etl_fixtures\")\n",
    "\n",
    "# Corre el flow una vez, de forma local\n",
    "etl.etl_parametrizable(endpoints=[\"fixtures\"])"
   ]
  },
  {
   "cell_type": "markdown",
   "id": "92727e9d",
   "metadata": {},
   "source": [
    "### 4.2 Opción B — Servir el flow como agente local (opcional)  \n",
    "Esta modalidad deja el flujo en ejecución continua y permite gestionarlo desde Prefect Cloud (ejecuciones, logs, programación).  \n",
    "⚠️ La celda quedará ocupada hasta que la detengas manualmente desde tu entorno (Interrupt/Stop del notebook).\n",
    "Por defecto está comentada para evitar que se ejecute por accidente."
   ]
  },
  {
   "cell_type": "code",
   "execution_count": null,
   "id": "e0aca689",
   "metadata": {},
   "outputs": [],
   "source": [
    "import importlib\n",
    "etl = importlib.import_module(\"scripts.etl_fixtures\")\n",
    "# etl.etl_parametrizable.serve(name=\"ETL-Fixtures\", endpoints=[\"fixtures\"])"
   ]
  },
  {
   "cell_type": "markdown",
   "id": "b6108c92",
   "metadata": {},
   "source": [
    "## 5. Monitoreo en Prefect\n",
    "\n",
    "El monitoreo del flujo no se realiza desde el notebook, sino desde la **UI de Prefect Cloud**.  \n",
    "Una vez que el flow se ejecuta (corrida única o servido como agente), es posible:\n",
    "\n",
    "1. **Flows** → ver el listado de flows registrados (ejemplo: `ETL-Fixtures`).  \n",
    "2. **Run history** → revisar el historial de ejecuciones con sus logs, tiempos y reintentos.  \n",
    "3. **Blocks** → administrar la configuración de almacenamiento o infraestructura remota si se utiliza.  \n",
    "4. **Schedules** → programar ejecuciones automáticas (requiere plan pago)."
   ]
  },
  {
   "cell_type": "markdown",
   "id": "6161835f",
   "metadata": {},
   "source": []
  }
 ],
 "metadata": {
  "kernelspec": {
   "display_name": "etl-football",
   "language": "python",
   "name": "python3"
  },
  "language_info": {
   "codemirror_mode": {
    "name": "ipython",
    "version": 3
   },
   "file_extension": ".py",
   "mimetype": "text/x-python",
   "name": "python",
   "nbconvert_exporter": "python",
   "pygments_lexer": "ipython3",
   "version": "3.12.11"
  }
 },
 "nbformat": 4,
 "nbformat_minor": 5
}
