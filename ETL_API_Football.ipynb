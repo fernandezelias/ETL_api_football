{
  "cells": [
    {
      "cell_type": "markdown",
      "metadata": {
        "id": "rn1_0k-Wgaa4"
      },
      "source": [
        "# **Introducción**\n",
        "El presente notebook se desarrolló utilizando la **API-FOOTBALL v3**, una API REST que ofrece información detallada y actualizada sobre más de 1100 ligas y copas de fútbol a nivel mundial. Permite consultar resultados en vivo, alineaciones, eventos (goles, tarjetas, sustituciones), clasificaciones y estadísticas de equipos y jugadores, así como datos históricos de temporadas anteriores. Incluye filtros por fecha, liga, equipo o temporada, y el acceso se realiza mediante solicitudes HTTP autenticadas con API key.\n",
        "\n",
        "Los datos obtenidos a través de esta API constituyen la base para las etapas posteriores de transformación y almacenamiento, siguiendo las capas Bronze–Silver en Delta Lake."
      ]
    },
    {
      "cell_type": "markdown",
      "metadata": {
        "id": "xXztpvpxC6mz"
      },
      "source": [
        "# **1. Configuración inicial**\n",
        "En este paso se importan todas las librerías y funciones auxiliares definidas en `etl_utils.py`.  \n",
        "Esto permite mantener el notebook limpio y modular, centralizando en un único archivo tanto las dependencias necesarias como las funciones de apoyo para el proceso ETL."
      ]
    },
    {
      "cell_type": "code",
      "execution_count": null,
      "metadata": {},
      "outputs": [],
      "source": [
        "# Se importa todo de etl_utils para simplificar el flujo en el notebook\n",
        "from etl_utils import *"
      ]
    },
    {
      "cell_type": "markdown",
      "metadata": {
        "id": "qF-H2f1f22xk"
      },
      "source": [
        "# **2. Autenticación en servicios**\n",
        "La autenticación se realiza mediante las credenciales almacenadas en el archivo \n",
        "`pipeline.conf`. De esta manera, las claves necesarias (por ejemplo, Football API y \n",
        "Prefect Cloud) no quedan expuestas en el código y se facilita su manejo seguro y \n",
        "centralizado.  \n",
        "\n",
        "**pipeline.conf**: es un archivo de configuración local en formato texto que almacena \n",
        "las credenciales y parámetros de conexión necesarios para distintos servicios. Se lee \n",
        "mediante `ConfigParser`, lo que permite construir los encabezados de autenticación sin \n",
        "exponer las claves en el código y facilita su reutilización y mantenimiento."
      ]
    },
    {
      "cell_type": "code",
      "execution_count": 114,
      "metadata": {
        "id": "4-JuOalM215b"
      },
      "outputs": [],
      "source": [
        "from configparser import ConfigParser"
      ]
    },
    {
      "cell_type": "code",
      "execution_count": 115,
      "metadata": {},
      "outputs": [
        {
          "data": {
            "text/plain": [
              "['pipeline.conf']"
            ]
          },
          "execution_count": 115,
          "metadata": {},
          "output_type": "execute_result"
        }
      ],
      "source": [
        "# Se instancia el parser y leer el archivo de configuración\n",
        "parser = ConfigParser()\n",
        "parser.read(\"pipeline.conf\")"
      ]
    },
    {
      "cell_type": "code",
      "execution_count": 116,
      "metadata": {
        "colab": {
          "base_uri": "https://localhost:8080/"
        },
        "id": "V5jOB6YQ-Yzy",
        "outputId": "1f092298-ca77-4635-8633-40b9fae3a5ff"
      },
      "outputs": [],
      "source": [
        "# Credenciales Football API\n",
        "api_credentials = parser[\"api-credentials\"]\n",
        "headers = {\"x-apisports-key\": api_credentials[\"api_key\"]}\n",
        "base_url = api_credentials[\"base_url\"]"
      ]
    },
    {
      "cell_type": "code",
      "execution_count": 117,
      "metadata": {
        "colab": {
          "base_uri": "https://localhost:8080/"
        },
        "id": "31E0TfCGrBT9",
        "outputId": "932b470a-d1ca-4c05-817b-f668ae288200"
      },
      "outputs": [
        {
          "name": "stdout",
          "output_type": "stream",
          "text": [
            "La petición fue exitosa. Se obtuvo una respuesta de tipo: <class 'dict'>\n"
          ]
        }
      ],
      "source": [
        "base_url = \"https://v3.football.api-sports.io\"\n",
        "response = requests.get(f\"{base_url}/countries\", headers=headers)\n",
        "\n",
        "if response.status_code == 200:\n",
        "    print(f\"La petición fue exitosa. Se obtuvo una respuesta de tipo: {type(response.json())}\")\n",
        "else:\n",
        "    print(f\"Error en la petición: {response.status_code}, {response.content}\")"
      ]
    },
    {
      "cell_type": "code",
      "execution_count": 118,
      "metadata": {
        "colab": {
          "base_uri": "https://localhost:8080/"
        },
        "id": "IOK0VKTFMFqW",
        "outputId": "cf1fa8fd-2551-4a2e-cc28-f7f8a348de6a"
      },
      "outputs": [
        {
          "data": {
            "text/plain": [
              "{'get': 'countries',\n",
              " 'parameters': [],\n",
              " 'errors': [],\n",
              " 'results': 171,\n",
              " 'paging': {'current': 1, 'total': 1},\n",
              " 'response': [{'name': 'Albania',\n",
              "   'code': 'AL',\n",
              "   'flag': 'https://media.api-sports.io/flags/al.svg'},\n",
              "  {'name': 'Algeria',\n",
              "   'code': 'DZ',\n",
              "   'flag': 'https://media.api-sports.io/flags/dz.svg'},\n",
              "  {'name': 'Andorra',\n",
              "   'code': 'AD',\n",
              "   'flag': 'https://media.api-sports.io/flags/ad.svg'},\n",
              "  {'name': 'Angola',\n",
              "   'code': 'AO',\n",
              "   'flag': 'https://media.api-sports.io/flags/ao.svg'},\n",
              "  {'name': 'Antigua-And-Barbuda',\n",
              "   'code': 'AG',\n",
              "   'flag': 'https://media.api-sports.io/flags/ag.svg'},\n",
              "  {'name': 'Argentina',\n",
              "   'code': 'AR',\n",
              "   'flag': 'https://media.api-sports.io/flags/ar.svg'},\n",
              "  {'name': 'Armenia',\n",
              "   'code': 'AM',\n",
              "   'flag': 'https://media.api-sports.io/flags/am.svg'},\n",
              "  {'name': 'Aruba',\n",
              "   'code': 'AW',\n",
              "   'flag': 'https://media.api-sports.io/flags/aw.svg'},\n",
              "  {'name': 'Australia',\n",
              "   'code': 'AU',\n",
              "   'flag': 'https://media.api-sports.io/flags/au.svg'},\n",
              "  {'name': 'Austria',\n",
              "   'code': 'AT',\n",
              "   'flag': 'https://media.api-sports.io/flags/at.svg'},\n",
              "  {'name': 'Azerbaijan',\n",
              "   'code': 'AZ',\n",
              "   'flag': 'https://media.api-sports.io/flags/az.svg'},\n",
              "  {'name': 'Bahrain',\n",
              "   'code': 'BH',\n",
              "   'flag': 'https://media.api-sports.io/flags/bh.svg'},\n",
              "  {'name': 'Bangladesh',\n",
              "   'code': 'BD',\n",
              "   'flag': 'https://media.api-sports.io/flags/bd.svg'},\n",
              "  {'name': 'Barbados',\n",
              "   'code': 'BB',\n",
              "   'flag': 'https://media.api-sports.io/flags/bb.svg'},\n",
              "  {'name': 'Belarus',\n",
              "   'code': 'BY',\n",
              "   'flag': 'https://media.api-sports.io/flags/by.svg'},\n",
              "  {'name': 'Belgium',\n",
              "   'code': 'BE',\n",
              "   'flag': 'https://media.api-sports.io/flags/be.svg'},\n",
              "  {'name': 'Belize',\n",
              "   'code': 'BZ',\n",
              "   'flag': 'https://media.api-sports.io/flags/bz.svg'},\n",
              "  {'name': 'Benin',\n",
              "   'code': 'BJ',\n",
              "   'flag': 'https://media.api-sports.io/flags/bj.svg'},\n",
              "  {'name': 'Bermuda',\n",
              "   'code': 'BM',\n",
              "   'flag': 'https://media.api-sports.io/flags/bm.svg'},\n",
              "  {'name': 'Bhutan',\n",
              "   'code': 'BT',\n",
              "   'flag': 'https://media.api-sports.io/flags/bt.svg'},\n",
              "  {'name': 'Bolivia',\n",
              "   'code': 'BO',\n",
              "   'flag': 'https://media.api-sports.io/flags/bo.svg'},\n",
              "  {'name': 'Bosnia',\n",
              "   'code': 'BA',\n",
              "   'flag': 'https://media.api-sports.io/flags/ba.svg'},\n",
              "  {'name': 'Botswana',\n",
              "   'code': 'BW',\n",
              "   'flag': 'https://media.api-sports.io/flags/bw.svg'},\n",
              "  {'name': 'Brazil',\n",
              "   'code': 'BR',\n",
              "   'flag': 'https://media.api-sports.io/flags/br.svg'},\n",
              "  {'name': 'Bulgaria',\n",
              "   'code': 'BG',\n",
              "   'flag': 'https://media.api-sports.io/flags/bg.svg'},\n",
              "  {'name': 'Burkina-Faso',\n",
              "   'code': 'BF',\n",
              "   'flag': 'https://media.api-sports.io/flags/bf.svg'},\n",
              "  {'name': 'Burundi',\n",
              "   'code': 'BI',\n",
              "   'flag': 'https://media.api-sports.io/flags/bi.svg'},\n",
              "  {'name': 'Cambodia',\n",
              "   'code': 'KH',\n",
              "   'flag': 'https://media.api-sports.io/flags/kh.svg'},\n",
              "  {'name': 'Cameroon',\n",
              "   'code': 'CM',\n",
              "   'flag': 'https://media.api-sports.io/flags/cm.svg'},\n",
              "  {'name': 'Canada',\n",
              "   'code': 'CA',\n",
              "   'flag': 'https://media.api-sports.io/flags/ca.svg'},\n",
              "  {'name': 'Chile',\n",
              "   'code': 'CL',\n",
              "   'flag': 'https://media.api-sports.io/flags/cl.svg'},\n",
              "  {'name': 'China',\n",
              "   'code': 'CN',\n",
              "   'flag': 'https://media.api-sports.io/flags/cn.svg'},\n",
              "  {'name': 'Chinese-Taipei',\n",
              "   'code': 'TW',\n",
              "   'flag': 'https://media.api-sports.io/flags/tw.svg'},\n",
              "  {'name': 'Colombia',\n",
              "   'code': 'CO',\n",
              "   'flag': 'https://media.api-sports.io/flags/co.svg'},\n",
              "  {'name': 'Congo',\n",
              "   'code': 'CD',\n",
              "   'flag': 'https://media.api-sports.io/flags/cd.svg'},\n",
              "  {'name': 'Congo-DR',\n",
              "   'code': 'CG',\n",
              "   'flag': 'https://media.api-sports.io/flags/cg.svg'},\n",
              "  {'name': 'Costa-Rica',\n",
              "   'code': 'CR',\n",
              "   'flag': 'https://media.api-sports.io/flags/cr.svg'},\n",
              "  {'name': 'Crimea',\n",
              "   'code': 'UA',\n",
              "   'flag': 'https://media.api-sports.io/flags/ua.svg'},\n",
              "  {'name': 'Croatia',\n",
              "   'code': 'HR',\n",
              "   'flag': 'https://media.api-sports.io/flags/hr.svg'},\n",
              "  {'name': 'Cuba',\n",
              "   'code': 'CU',\n",
              "   'flag': 'https://media.api-sports.io/flags/cu.svg'},\n",
              "  {'name': 'Curacao',\n",
              "   'code': 'CW',\n",
              "   'flag': 'https://media.api-sports.io/flags/cw.svg'},\n",
              "  {'name': 'Cyprus',\n",
              "   'code': 'CY',\n",
              "   'flag': 'https://media.api-sports.io/flags/cy.svg'},\n",
              "  {'name': 'Czech-Republic',\n",
              "   'code': 'CZ',\n",
              "   'flag': 'https://media.api-sports.io/flags/cz.svg'},\n",
              "  {'name': 'Denmark',\n",
              "   'code': 'DK',\n",
              "   'flag': 'https://media.api-sports.io/flags/dk.svg'},\n",
              "  {'name': 'Dominican-Republic',\n",
              "   'code': 'DO',\n",
              "   'flag': 'https://media.api-sports.io/flags/do.svg'},\n",
              "  {'name': 'Ecuador',\n",
              "   'code': 'EC',\n",
              "   'flag': 'https://media.api-sports.io/flags/ec.svg'},\n",
              "  {'name': 'Egypt',\n",
              "   'code': 'EG',\n",
              "   'flag': 'https://media.api-sports.io/flags/eg.svg'},\n",
              "  {'name': 'El-Salvador',\n",
              "   'code': 'SV',\n",
              "   'flag': 'https://media.api-sports.io/flags/sv.svg'},\n",
              "  {'name': 'England',\n",
              "   'code': 'GB-ENG',\n",
              "   'flag': 'https://media.api-sports.io/flags/gb-eng.svg'},\n",
              "  {'name': 'Estonia',\n",
              "   'code': 'EE',\n",
              "   'flag': 'https://media.api-sports.io/flags/ee.svg'},\n",
              "  {'name': 'Eswatini',\n",
              "   'code': 'SZ',\n",
              "   'flag': 'https://media.api-sports.io/flags/sz.svg'},\n",
              "  {'name': 'Ethiopia',\n",
              "   'code': 'ET',\n",
              "   'flag': 'https://media.api-sports.io/flags/et.svg'},\n",
              "  {'name': 'Faroe-Islands',\n",
              "   'code': 'FO',\n",
              "   'flag': 'https://media.api-sports.io/flags/fo.svg'},\n",
              "  {'name': 'Fiji',\n",
              "   'code': 'FJ',\n",
              "   'flag': 'https://media.api-sports.io/flags/fj.svg'},\n",
              "  {'name': 'Finland',\n",
              "   'code': 'FI',\n",
              "   'flag': 'https://media.api-sports.io/flags/fi.svg'},\n",
              "  {'name': 'France',\n",
              "   'code': 'FR',\n",
              "   'flag': 'https://media.api-sports.io/flags/fr.svg'},\n",
              "  {'name': 'Gabon',\n",
              "   'code': 'GA',\n",
              "   'flag': 'https://media.api-sports.io/flags/ga.svg'},\n",
              "  {'name': 'Gambia',\n",
              "   'code': 'GM',\n",
              "   'flag': 'https://media.api-sports.io/flags/gm.svg'},\n",
              "  {'name': 'Georgia',\n",
              "   'code': 'GE',\n",
              "   'flag': 'https://media.api-sports.io/flags/ge.svg'},\n",
              "  {'name': 'Germany',\n",
              "   'code': 'DE',\n",
              "   'flag': 'https://media.api-sports.io/flags/de.svg'},\n",
              "  {'name': 'Ghana',\n",
              "   'code': 'GH',\n",
              "   'flag': 'https://media.api-sports.io/flags/gh.svg'},\n",
              "  {'name': 'Gibraltar',\n",
              "   'code': 'GI',\n",
              "   'flag': 'https://media.api-sports.io/flags/gi.svg'},\n",
              "  {'name': 'Greece',\n",
              "   'code': 'GR',\n",
              "   'flag': 'https://media.api-sports.io/flags/gr.svg'},\n",
              "  {'name': 'Grenada',\n",
              "   'code': 'GD',\n",
              "   'flag': 'https://media.api-sports.io/flags/gd.svg'},\n",
              "  {'name': 'Guadeloupe',\n",
              "   'code': 'GP',\n",
              "   'flag': 'https://media.api-sports.io/flags/gp.svg'},\n",
              "  {'name': 'Guatemala',\n",
              "   'code': 'GT',\n",
              "   'flag': 'https://media.api-sports.io/flags/gt.svg'},\n",
              "  {'name': 'Guinea',\n",
              "   'code': 'GN',\n",
              "   'flag': 'https://media.api-sports.io/flags/gn.svg'},\n",
              "  {'name': 'Haiti',\n",
              "   'code': 'HT',\n",
              "   'flag': 'https://media.api-sports.io/flags/ht.svg'},\n",
              "  {'name': 'Honduras',\n",
              "   'code': 'HN',\n",
              "   'flag': 'https://media.api-sports.io/flags/hn.svg'},\n",
              "  {'name': 'Hong-Kong',\n",
              "   'code': 'HK',\n",
              "   'flag': 'https://media.api-sports.io/flags/hk.svg'},\n",
              "  {'name': 'Hungary',\n",
              "   'code': 'HU',\n",
              "   'flag': 'https://media.api-sports.io/flags/hu.svg'},\n",
              "  {'name': 'Iceland',\n",
              "   'code': 'IS',\n",
              "   'flag': 'https://media.api-sports.io/flags/is.svg'},\n",
              "  {'name': 'India',\n",
              "   'code': 'IN',\n",
              "   'flag': 'https://media.api-sports.io/flags/in.svg'},\n",
              "  {'name': 'Indonesia',\n",
              "   'code': 'ID',\n",
              "   'flag': 'https://media.api-sports.io/flags/id.svg'},\n",
              "  {'name': 'Iran',\n",
              "   'code': 'IR',\n",
              "   'flag': 'https://media.api-sports.io/flags/ir.svg'},\n",
              "  {'name': 'Iraq',\n",
              "   'code': 'IQ',\n",
              "   'flag': 'https://media.api-sports.io/flags/iq.svg'},\n",
              "  {'name': 'Ireland',\n",
              "   'code': 'IE',\n",
              "   'flag': 'https://media.api-sports.io/flags/ie.svg'},\n",
              "  {'name': 'Israel',\n",
              "   'code': 'IL',\n",
              "   'flag': 'https://media.api-sports.io/flags/il.svg'},\n",
              "  {'name': 'Italy',\n",
              "   'code': 'IT',\n",
              "   'flag': 'https://media.api-sports.io/flags/it.svg'},\n",
              "  {'name': 'Ivory-Coast',\n",
              "   'code': 'CI',\n",
              "   'flag': 'https://media.api-sports.io/flags/ci.svg'},\n",
              "  {'name': 'Jamaica',\n",
              "   'code': 'JM',\n",
              "   'flag': 'https://media.api-sports.io/flags/jm.svg'},\n",
              "  {'name': 'Japan',\n",
              "   'code': 'JP',\n",
              "   'flag': 'https://media.api-sports.io/flags/jp.svg'},\n",
              "  {'name': 'Jordan',\n",
              "   'code': 'JO',\n",
              "   'flag': 'https://media.api-sports.io/flags/jo.svg'},\n",
              "  {'name': 'Kazakhstan',\n",
              "   'code': 'KZ',\n",
              "   'flag': 'https://media.api-sports.io/flags/kz.svg'},\n",
              "  {'name': 'Kenya',\n",
              "   'code': 'KE',\n",
              "   'flag': 'https://media.api-sports.io/flags/ke.svg'},\n",
              "  {'name': 'Kosovo',\n",
              "   'code': 'XK',\n",
              "   'flag': 'https://media.api-sports.io/flags/xk.svg'},\n",
              "  {'name': 'Kuwait',\n",
              "   'code': 'KW',\n",
              "   'flag': 'https://media.api-sports.io/flags/kw.svg'},\n",
              "  {'name': 'Kyrgyzstan',\n",
              "   'code': 'KG',\n",
              "   'flag': 'https://media.api-sports.io/flags/kg.svg'},\n",
              "  {'name': 'Laos',\n",
              "   'code': 'LA',\n",
              "   'flag': 'https://media.api-sports.io/flags/la.svg'},\n",
              "  {'name': 'Latvia',\n",
              "   'code': 'LV',\n",
              "   'flag': 'https://media.api-sports.io/flags/lv.svg'},\n",
              "  {'name': 'Lebanon',\n",
              "   'code': 'LB',\n",
              "   'flag': 'https://media.api-sports.io/flags/lb.svg'},\n",
              "  {'name': 'Lesotho',\n",
              "   'code': 'LS',\n",
              "   'flag': 'https://media.api-sports.io/flags/ls.svg'},\n",
              "  {'name': 'Liberia',\n",
              "   'code': 'LR',\n",
              "   'flag': 'https://media.api-sports.io/flags/lr.svg'},\n",
              "  {'name': 'Libya',\n",
              "   'code': 'LY',\n",
              "   'flag': 'https://media.api-sports.io/flags/ly.svg'},\n",
              "  {'name': 'Liechtenstein',\n",
              "   'code': 'LI',\n",
              "   'flag': 'https://media.api-sports.io/flags/li.svg'},\n",
              "  {'name': 'Lithuania',\n",
              "   'code': 'LT',\n",
              "   'flag': 'https://media.api-sports.io/flags/lt.svg'},\n",
              "  {'name': 'Luxembourg',\n",
              "   'code': 'LU',\n",
              "   'flag': 'https://media.api-sports.io/flags/lu.svg'},\n",
              "  {'name': 'Macao',\n",
              "   'code': 'MO',\n",
              "   'flag': 'https://media.api-sports.io/flags/mo.svg'},\n",
              "  {'name': 'Macedonia',\n",
              "   'code': 'MK',\n",
              "   'flag': 'https://media.api-sports.io/flags/mk.svg'},\n",
              "  {'name': 'Malawi',\n",
              "   'code': 'MW',\n",
              "   'flag': 'https://media.api-sports.io/flags/mw.svg'},\n",
              "  {'name': 'Malaysia',\n",
              "   'code': 'MY',\n",
              "   'flag': 'https://media.api-sports.io/flags/my.svg'},\n",
              "  {'name': 'Maldives',\n",
              "   'code': 'MV',\n",
              "   'flag': 'https://media.api-sports.io/flags/mv.svg'},\n",
              "  {'name': 'Mali',\n",
              "   'code': 'ML',\n",
              "   'flag': 'https://media.api-sports.io/flags/ml.svg'},\n",
              "  {'name': 'Malta',\n",
              "   'code': 'MT',\n",
              "   'flag': 'https://media.api-sports.io/flags/mt.svg'},\n",
              "  {'name': 'Mauritania',\n",
              "   'code': 'MR',\n",
              "   'flag': 'https://media.api-sports.io/flags/mr.svg'},\n",
              "  {'name': 'Mauritius',\n",
              "   'code': 'MU',\n",
              "   'flag': 'https://media.api-sports.io/flags/mu.svg'},\n",
              "  {'name': 'Mexico',\n",
              "   'code': 'MX',\n",
              "   'flag': 'https://media.api-sports.io/flags/mx.svg'},\n",
              "  {'name': 'Moldova',\n",
              "   'code': 'MD',\n",
              "   'flag': 'https://media.api-sports.io/flags/md.svg'},\n",
              "  {'name': 'Mongolia',\n",
              "   'code': 'MN',\n",
              "   'flag': 'https://media.api-sports.io/flags/mn.svg'},\n",
              "  {'name': 'Montenegro',\n",
              "   'code': 'ME',\n",
              "   'flag': 'https://media.api-sports.io/flags/me.svg'},\n",
              "  {'name': 'Morocco',\n",
              "   'code': 'MA',\n",
              "   'flag': 'https://media.api-sports.io/flags/ma.svg'},\n",
              "  {'name': 'Myanmar',\n",
              "   'code': 'MM',\n",
              "   'flag': 'https://media.api-sports.io/flags/mm.svg'},\n",
              "  {'name': 'Namibia',\n",
              "   'code': 'NA',\n",
              "   'flag': 'https://media.api-sports.io/flags/na.svg'},\n",
              "  {'name': 'Nepal',\n",
              "   'code': 'NP',\n",
              "   'flag': 'https://media.api-sports.io/flags/np.svg'},\n",
              "  {'name': 'Netherlands',\n",
              "   'code': 'NL',\n",
              "   'flag': 'https://media.api-sports.io/flags/nl.svg'},\n",
              "  {'name': 'New-Zealand',\n",
              "   'code': 'NZ',\n",
              "   'flag': 'https://media.api-sports.io/flags/nz.svg'},\n",
              "  {'name': 'Nicaragua',\n",
              "   'code': 'NI',\n",
              "   'flag': 'https://media.api-sports.io/flags/ni.svg'},\n",
              "  {'name': 'Nigeria',\n",
              "   'code': 'NG',\n",
              "   'flag': 'https://media.api-sports.io/flags/ng.svg'},\n",
              "  {'name': 'Northern-Ireland',\n",
              "   'code': 'GB-NIR',\n",
              "   'flag': 'https://media.api-sports.io/flags/gb-nir.svg'},\n",
              "  {'name': 'Norway',\n",
              "   'code': 'NO',\n",
              "   'flag': 'https://media.api-sports.io/flags/no.svg'},\n",
              "  {'name': 'Oman',\n",
              "   'code': 'OM',\n",
              "   'flag': 'https://media.api-sports.io/flags/om.svg'},\n",
              "  {'name': 'Pakistan',\n",
              "   'code': 'PK',\n",
              "   'flag': 'https://media.api-sports.io/flags/pk.svg'},\n",
              "  {'name': 'Palestine',\n",
              "   'code': 'PS',\n",
              "   'flag': 'https://media.api-sports.io/flags/ps.svg'},\n",
              "  {'name': 'Panama',\n",
              "   'code': 'PA',\n",
              "   'flag': 'https://media.api-sports.io/flags/pa.svg'},\n",
              "  {'name': 'Paraguay',\n",
              "   'code': 'PY',\n",
              "   'flag': 'https://media.api-sports.io/flags/py.svg'},\n",
              "  {'name': 'Peru',\n",
              "   'code': 'PE',\n",
              "   'flag': 'https://media.api-sports.io/flags/pe.svg'},\n",
              "  {'name': 'Philippines',\n",
              "   'code': 'PH',\n",
              "   'flag': 'https://media.api-sports.io/flags/ph.svg'},\n",
              "  {'name': 'Poland',\n",
              "   'code': 'PL',\n",
              "   'flag': 'https://media.api-sports.io/flags/pl.svg'},\n",
              "  {'name': 'Portugal',\n",
              "   'code': 'PT',\n",
              "   'flag': 'https://media.api-sports.io/flags/pt.svg'},\n",
              "  {'name': 'Qatar',\n",
              "   'code': 'QA',\n",
              "   'flag': 'https://media.api-sports.io/flags/qa.svg'},\n",
              "  {'name': 'Romania',\n",
              "   'code': 'RO',\n",
              "   'flag': 'https://media.api-sports.io/flags/ro.svg'},\n",
              "  {'name': 'Russia',\n",
              "   'code': 'RU',\n",
              "   'flag': 'https://media.api-sports.io/flags/ru.svg'},\n",
              "  {'name': 'Rwanda',\n",
              "   'code': 'RW',\n",
              "   'flag': 'https://media.api-sports.io/flags/rw.svg'},\n",
              "  {'name': 'San-Marino',\n",
              "   'code': 'SM',\n",
              "   'flag': 'https://media.api-sports.io/flags/sm.svg'},\n",
              "  {'name': 'Saudi-Arabia',\n",
              "   'code': 'SA',\n",
              "   'flag': 'https://media.api-sports.io/flags/sa.svg'},\n",
              "  {'name': 'Scotland',\n",
              "   'code': 'GB-SCT',\n",
              "   'flag': 'https://media.api-sports.io/flags/gb-sct.svg'},\n",
              "  {'name': 'Senegal',\n",
              "   'code': 'SN',\n",
              "   'flag': 'https://media.api-sports.io/flags/sn.svg'},\n",
              "  {'name': 'Serbia',\n",
              "   'code': 'RS',\n",
              "   'flag': 'https://media.api-sports.io/flags/rs.svg'},\n",
              "  {'name': 'Singapore',\n",
              "   'code': 'SG',\n",
              "   'flag': 'https://media.api-sports.io/flags/sg.svg'},\n",
              "  {'name': 'Slovakia',\n",
              "   'code': 'SK',\n",
              "   'flag': 'https://media.api-sports.io/flags/sk.svg'},\n",
              "  {'name': 'Slovenia',\n",
              "   'code': 'SI',\n",
              "   'flag': 'https://media.api-sports.io/flags/si.svg'},\n",
              "  {'name': 'Somalia',\n",
              "   'code': 'SO',\n",
              "   'flag': 'https://media.api-sports.io/flags/so.svg'},\n",
              "  {'name': 'South-Africa',\n",
              "   'code': 'ZA',\n",
              "   'flag': 'https://media.api-sports.io/flags/za.svg'},\n",
              "  {'name': 'South-Korea',\n",
              "   'code': 'KR',\n",
              "   'flag': 'https://media.api-sports.io/flags/kr.svg'},\n",
              "  {'name': 'Spain',\n",
              "   'code': 'ES',\n",
              "   'flag': 'https://media.api-sports.io/flags/es.svg'},\n",
              "  {'name': 'Sudan',\n",
              "   'code': 'SD',\n",
              "   'flag': 'https://media.api-sports.io/flags/sd.svg'},\n",
              "  {'name': 'Suriname',\n",
              "   'code': 'SR',\n",
              "   'flag': 'https://media.api-sports.io/flags/sr.svg'},\n",
              "  {'name': 'Sweden',\n",
              "   'code': 'SE',\n",
              "   'flag': 'https://media.api-sports.io/flags/se.svg'},\n",
              "  {'name': 'Switzerland',\n",
              "   'code': 'CH',\n",
              "   'flag': 'https://media.api-sports.io/flags/ch.svg'},\n",
              "  {'name': 'Syria',\n",
              "   'code': 'SY',\n",
              "   'flag': 'https://media.api-sports.io/flags/sy.svg'},\n",
              "  {'name': 'Tajikistan',\n",
              "   'code': 'TJ',\n",
              "   'flag': 'https://media.api-sports.io/flags/tj.svg'},\n",
              "  {'name': 'Tanzania',\n",
              "   'code': 'TZ',\n",
              "   'flag': 'https://media.api-sports.io/flags/tz.svg'},\n",
              "  {'name': 'Thailand',\n",
              "   'code': 'TH',\n",
              "   'flag': 'https://media.api-sports.io/flags/th.svg'},\n",
              "  {'name': 'Togo',\n",
              "   'code': 'TG',\n",
              "   'flag': 'https://media.api-sports.io/flags/tg.svg'},\n",
              "  {'name': 'Trinidad-And-Tobago',\n",
              "   'code': 'TT',\n",
              "   'flag': 'https://media.api-sports.io/flags/tt.svg'},\n",
              "  {'name': 'Tunisia',\n",
              "   'code': 'TN',\n",
              "   'flag': 'https://media.api-sports.io/flags/tn.svg'},\n",
              "  {'name': 'Turkey',\n",
              "   'code': 'TR',\n",
              "   'flag': 'https://media.api-sports.io/flags/tr.svg'},\n",
              "  {'name': 'Turkmenistan',\n",
              "   'code': 'TM',\n",
              "   'flag': 'https://media.api-sports.io/flags/tm.svg'},\n",
              "  {'name': 'Uganda',\n",
              "   'code': 'UG',\n",
              "   'flag': 'https://media.api-sports.io/flags/ug.svg'},\n",
              "  {'name': 'Ukraine',\n",
              "   'code': 'UA',\n",
              "   'flag': 'https://media.api-sports.io/flags/ua.svg'},\n",
              "  {'name': 'United-Arab-Emirates',\n",
              "   'code': 'AE',\n",
              "   'flag': 'https://media.api-sports.io/flags/ae.svg'},\n",
              "  {'name': 'Uruguay',\n",
              "   'code': 'UY',\n",
              "   'flag': 'https://media.api-sports.io/flags/uy.svg'},\n",
              "  {'name': 'USA',\n",
              "   'code': 'US',\n",
              "   'flag': 'https://media.api-sports.io/flags/us.svg'},\n",
              "  {'name': 'Uzbekistan',\n",
              "   'code': 'UZ',\n",
              "   'flag': 'https://media.api-sports.io/flags/uz.svg'},\n",
              "  {'name': 'Venezuela',\n",
              "   'code': 'VE',\n",
              "   'flag': 'https://media.api-sports.io/flags/ve.svg'},\n",
              "  {'name': 'Vietnam',\n",
              "   'code': 'VN',\n",
              "   'flag': 'https://media.api-sports.io/flags/vn.svg'},\n",
              "  {'name': 'Wales',\n",
              "   'code': 'GB-WLS',\n",
              "   'flag': 'https://media.api-sports.io/flags/gb-wls.svg'},\n",
              "  {'name': 'World', 'code': None, 'flag': None},\n",
              "  {'name': 'Yemen',\n",
              "   'code': 'YE',\n",
              "   'flag': 'https://media.api-sports.io/flags/ye.svg'},\n",
              "  {'name': 'Zambia',\n",
              "   'code': 'ZM',\n",
              "   'flag': 'https://media.api-sports.io/flags/zm.svg'},\n",
              "  {'name': 'Zimbabwe',\n",
              "   'code': 'ZW',\n",
              "   'flag': 'https://media.api-sports.io/flags/zw.svg'}]}"
            ]
          },
          "execution_count": 118,
          "metadata": {},
          "output_type": "execute_result"
        }
      ],
      "source": [
        "response.json()"
      ]
    },
    {
      "cell_type": "code",
      "execution_count": 119,
      "metadata": {
        "colab": {
          "base_uri": "https://localhost:8080/"
        },
        "id": "Ev3_HqJNphOV",
        "outputId": "c72f3ca0-5380-4be2-c2d9-1ee655d00b11"
      },
      "outputs": [
        {
          "data": {
            "text/plain": [
              "200"
            ]
          },
          "execution_count": 119,
          "metadata": {},
          "output_type": "execute_result"
        }
      ],
      "source": [
        "response.status_code"
      ]
    },
    {
      "cell_type": "code",
      "execution_count": 120,
      "metadata": {
        "colab": {
          "base_uri": "https://localhost:8080/"
        },
        "id": "OGMV_ZFDPBwa",
        "outputId": "6ae875d9-6482-4b1c-fb0e-041c19b590b1"
      },
      "outputs": [
        {
          "data": {
            "text/plain": [
              "'https://v3.football.api-sports.io/countries'"
            ]
          },
          "execution_count": 120,
          "metadata": {},
          "output_type": "execute_result"
        }
      ],
      "source": [
        "response.url"
      ]
    },
    {
      "cell_type": "markdown",
      "metadata": {
        "id": "RcNC2BC_ifve"
      },
      "source": [
        "# **3. Extracción de datos estáticos**\n",
        "Se realiza una *ingesta full* para endpoints estáticos: *countries* y *leagues*.\n",
        "\n",
        "Estos datos cambian muy poco en el tiempo, por lo que se optó por extraerlos en su totalidad en cada ejecución y sobrescribir el conjunto previo (mode=\"overwrite\").\n",
        "Esto simplifica el proceso, evita duplicados y asegura que siempre se disponga de la versión más reciente sin necesidad de rastrear cambios.\n",
        "\n",
        "Los datos extraídos se almacenan en la capa *Bronze* en formato *Delta Lake*, sobrescribiendo en cada ejecución para asegurar consistencia y simplicidad."
      ]
    },
    {
      "cell_type": "code",
      "execution_count": 121,
      "metadata": {
        "id": "QzstfnIlulzf"
      },
      "outputs": [],
      "source": [
        "base_url = \"https://v3.football.api-sports.io\""
      ]
    },
    {
      "cell_type": "markdown",
      "metadata": {
        "id": "3joM-DirZ3n4"
      },
      "source": [
        "## Primer endpoint: *countries*\n",
        "El endpoint *countries* devuelve la lista de países disponibles en la API de API-Football, incluyendo su nombre, código y enlace a la bandera.\n",
        "Se usa como referencia para filtrar otros endpoints (por ejemplo, ligas o equipos) según el país."
      ]
    },
    {
      "cell_type": "code",
      "execution_count": 122,
      "metadata": {
        "id": "nbUDHa3gaFbw"
      },
      "outputs": [],
      "source": [
        "# Se consulta el endpoint \"countries\" y se obtienen los datos en formato JSON.\n",
        "endpoint_1 = \"countries\""
      ]
    },
    {
      "cell_type": "code",
      "execution_count": 123,
      "metadata": {
        "id": "SMDGZ68fyKbL"
      },
      "outputs": [],
      "source": [
        "json_data_1 = get_data(\n",
        "    base_url,\n",
        "    endpoint_1,\n",
        "    data_field=\"response\",\n",
        "    headers=headers,\n",
        "    params={}\n",
        ")"
      ]
    },
    {
      "cell_type": "code",
      "execution_count": 124,
      "metadata": {
        "id": "Xqy77_qyzEUT"
      },
      "outputs": [],
      "source": [
        "# Se convierten a DataFrame mediante la función 'build_table'.\n",
        "df_countries = build_table(json_data_1)"
      ]
    },
    {
      "cell_type": "code",
      "execution_count": 125,
      "metadata": {
        "colab": {
          "base_uri": "https://localhost:8080/"
        },
        "id": "OTM6g1hfzEXZ",
        "outputId": "1d794532-865b-45ae-c84c-fd0b13afa6bf"
      },
      "outputs": [
        {
          "data": {
            "text/html": [
              "<div>\n",
              "<style scoped>\n",
              "    .dataframe tbody tr th:only-of-type {\n",
              "        vertical-align: middle;\n",
              "    }\n",
              "\n",
              "    .dataframe tbody tr th {\n",
              "        vertical-align: top;\n",
              "    }\n",
              "\n",
              "    .dataframe thead th {\n",
              "        text-align: right;\n",
              "    }\n",
              "</style>\n",
              "<table border=\"1\" class=\"dataframe\">\n",
              "  <thead>\n",
              "    <tr style=\"text-align: right;\">\n",
              "      <th></th>\n",
              "      <th>name</th>\n",
              "      <th>code</th>\n",
              "      <th>flag</th>\n",
              "    </tr>\n",
              "  </thead>\n",
              "  <tbody>\n",
              "    <tr>\n",
              "      <th>0</th>\n",
              "      <td>Albania</td>\n",
              "      <td>AL</td>\n",
              "      <td>https://media.api-sports.io/flags/al.svg</td>\n",
              "    </tr>\n",
              "    <tr>\n",
              "      <th>1</th>\n",
              "      <td>Algeria</td>\n",
              "      <td>DZ</td>\n",
              "      <td>https://media.api-sports.io/flags/dz.svg</td>\n",
              "    </tr>\n",
              "    <tr>\n",
              "      <th>2</th>\n",
              "      <td>Andorra</td>\n",
              "      <td>AD</td>\n",
              "      <td>https://media.api-sports.io/flags/ad.svg</td>\n",
              "    </tr>\n",
              "  </tbody>\n",
              "</table>\n",
              "</div>"
            ],
            "text/plain": [
              "      name code                                      flag\n",
              "0  Albania   AL  https://media.api-sports.io/flags/al.svg\n",
              "1  Algeria   DZ  https://media.api-sports.io/flags/dz.svg\n",
              "2  Andorra   AD  https://media.api-sports.io/flags/ad.svg"
            ]
          },
          "execution_count": 125,
          "metadata": {},
          "output_type": "execute_result"
        }
      ],
      "source": [
        "df_countries.head(3)"
      ]
    },
    {
      "cell_type": "markdown",
      "metadata": {
        "id": "KCkokGU3v3d3"
      },
      "source": [
        "## Segundo enpoint: *leagues*\n",
        "El endpoint *leagues* proporciona información sobre las ligas y competiciones de fútbol en todo el mundo, incluyendo su nombre, país, tipo (liga o copa), logotipo y temporadas disponibles.\n",
        "Es útil para identificar y catalogar las competiciones antes de realizar análisis o consultas más específicas.\n"
      ]
    },
    {
      "cell_type": "code",
      "execution_count": 126,
      "metadata": {
        "id": "TZC_OiAcUFEC"
      },
      "outputs": [],
      "source": [
        "# Se consulta el endpoint leagues\" y se obtienen los datos en formato JSON.\n",
        "endpoint_2 = \"leagues\""
      ]
    },
    {
      "cell_type": "code",
      "execution_count": 127,
      "metadata": {
        "id": "SRXkyk8wUFGq"
      },
      "outputs": [],
      "source": [
        "json_data_2 = get_data(\n",
        "    base_url,\n",
        "    endpoint_2,\n",
        "    data_field=\"response\",\n",
        "    headers=headers,\n",
        "    params={}\n",
        ")"
      ]
    },
    {
      "cell_type": "code",
      "execution_count": 128,
      "metadata": {
        "id": "BsvLfaXzYc0N"
      },
      "outputs": [],
      "source": [
        "# Se convierten a DataFrame mediante la función 'build_table'.\n",
        "df_leagues = build_table(json_data_2)"
      ]
    },
    {
      "cell_type": "code",
      "execution_count": 129,
      "metadata": {
        "colab": {
          "base_uri": "https://localhost:8080/"
        },
        "id": "YlnE3ZncYhyI",
        "outputId": "a788db9b-435d-4292-8e17-d7c67259655a"
      },
      "outputs": [
        {
          "data": {
            "text/html": [
              "<div>\n",
              "<style scoped>\n",
              "    .dataframe tbody tr th:only-of-type {\n",
              "        vertical-align: middle;\n",
              "    }\n",
              "\n",
              "    .dataframe tbody tr th {\n",
              "        vertical-align: top;\n",
              "    }\n",
              "\n",
              "    .dataframe thead th {\n",
              "        text-align: right;\n",
              "    }\n",
              "</style>\n",
              "<table border=\"1\" class=\"dataframe\">\n",
              "  <thead>\n",
              "    <tr style=\"text-align: right;\">\n",
              "      <th></th>\n",
              "      <th>seasons</th>\n",
              "      <th>league.id</th>\n",
              "      <th>league.name</th>\n",
              "      <th>league.type</th>\n",
              "      <th>league.logo</th>\n",
              "      <th>country.name</th>\n",
              "      <th>country.code</th>\n",
              "      <th>country.flag</th>\n",
              "    </tr>\n",
              "  </thead>\n",
              "  <tbody>\n",
              "    <tr>\n",
              "      <th>0</th>\n",
              "      <td>[{'year': 2008, 'start': '2008-06-07', 'end': ...</td>\n",
              "      <td>4</td>\n",
              "      <td>Euro Championship</td>\n",
              "      <td>Cup</td>\n",
              "      <td>https://media.api-sports.io/football/leagues/4...</td>\n",
              "      <td>World</td>\n",
              "      <td>None</td>\n",
              "      <td>None</td>\n",
              "    </tr>\n",
              "    <tr>\n",
              "      <th>1</th>\n",
              "      <td>[{'year': 2009, 'start': '2009-06-14', 'end': ...</td>\n",
              "      <td>21</td>\n",
              "      <td>Confederations Cup</td>\n",
              "      <td>Cup</td>\n",
              "      <td>https://media.api-sports.io/football/leagues/2...</td>\n",
              "      <td>World</td>\n",
              "      <td>None</td>\n",
              "      <td>None</td>\n",
              "    </tr>\n",
              "    <tr>\n",
              "      <th>2</th>\n",
              "      <td>[{'year': 2010, 'start': '2010-08-06', 'end': ...</td>\n",
              "      <td>62</td>\n",
              "      <td>Ligue 2</td>\n",
              "      <td>League</td>\n",
              "      <td>https://media.api-sports.io/football/leagues/6...</td>\n",
              "      <td>France</td>\n",
              "      <td>FR</td>\n",
              "      <td>https://media.api-sports.io/flags/fr.svg</td>\n",
              "    </tr>\n",
              "  </tbody>\n",
              "</table>\n",
              "</div>"
            ],
            "text/plain": [
              "                                             seasons  league.id  \\\n",
              "0  [{'year': 2008, 'start': '2008-06-07', 'end': ...          4   \n",
              "1  [{'year': 2009, 'start': '2009-06-14', 'end': ...         21   \n",
              "2  [{'year': 2010, 'start': '2010-08-06', 'end': ...         62   \n",
              "\n",
              "          league.name league.type  \\\n",
              "0   Euro Championship         Cup   \n",
              "1  Confederations Cup         Cup   \n",
              "2             Ligue 2      League   \n",
              "\n",
              "                                         league.logo country.name  \\\n",
              "0  https://media.api-sports.io/football/leagues/4...        World   \n",
              "1  https://media.api-sports.io/football/leagues/2...        World   \n",
              "2  https://media.api-sports.io/football/leagues/6...       France   \n",
              "\n",
              "  country.code                              country.flag  \n",
              "0         None                                      None  \n",
              "1         None                                      None  \n",
              "2           FR  https://media.api-sports.io/flags/fr.svg  "
            ]
          },
          "execution_count": 129,
          "metadata": {},
          "output_type": "execute_result"
        }
      ],
      "source": [
        "df_leagues.head(3)"
      ]
    },
    {
      "cell_type": "markdown",
      "metadata": {
        "id": "tgx_RXCwuulu"
      },
      "source": [
        "## *Capa Bronze:* guardado en formato Delta Lake de datos estáticos\n",
        "- *df_countries*\n",
        "- *df_leagues*"
      ]
    },
    {
      "cell_type": "code",
      "execution_count": 130,
      "metadata": {
        "id": "51gqYhGgc9_1"
      },
      "outputs": [],
      "source": [
        "# Definición de la raíz del datalake\n",
        "# Se ubica dentro de la carpeta del proyecto para mantener todo centralizado.\n",
        "# Usamos / para que sea portable (funciona en Windows, Linux y Mac).\n",
        "datalake_root = \"data/etl_datalake\""
      ]
    },
    {
      "cell_type": "code",
      "execution_count": 131,
      "metadata": {},
      "outputs": [],
      "source": [
        "# Directorios de la capa Bronze\n",
        "# Se crea la ruta base de Bronze para la API Football\n",
        "# Contendrá los datos crudos provenientes de la API\n",
        "bronze_dir = f\"{datalake_root}/bronze/api_football\""
      ]
    },
    {
      "cell_type": "code",
      "execution_count": 132,
      "metadata": {},
      "outputs": [],
      "source": [
        "# Subcarpetas para los datasets estáticos\n",
        "# - countries_dir → almacenamiento de países\n",
        "# - leagues_dir   → almacenamiento de ligas\n",
        "countries_dir = f\"{bronze_dir}/countries\"\n",
        "leagues_dir   = f\"{bronze_dir}/leagues\""
      ]
    },
    {
      "cell_type": "markdown",
      "metadata": {
        "id": "aqq5lrxpy1OF"
      },
      "source": [
        "Se usa **mode=overwrite** en datos estáticos porque, al no cambiar con frecuencia, lo más seguro es reemplazar todo el contenido en cada actualización y así evitar duplicados o inconsistencias."
      ]
    },
    {
      "cell_type": "code",
      "execution_count": 133,
      "metadata": {
        "id": "HmKFNAPDvQ4W"
      },
      "outputs": [],
      "source": [
        "# countries\n",
        "save_data_as_delta(df_countries, countries_dir, mode=\"overwrite\")"
      ]
    },
    {
      "cell_type": "code",
      "execution_count": 134,
      "metadata": {
        "id": "zB5B4115vQ8v"
      },
      "outputs": [],
      "source": [
        "# leagues\n",
        "save_data_as_delta(df_leagues, leagues_dir, mode=\"overwrite\")"
      ]
    },
    {
      "cell_type": "markdown",
      "metadata": {
        "id": "tpvcbIeIczUn"
      },
      "source": [
        "# **4. Extracción de datos dinámicos**\n",
        "Se realiza una *ingesta incremental* para el endpoint dinámico *fixtures*.\n",
        "Dado que la API permite filtrar por fecha y cada extracción devuelve solo los partidos nuevos o actualizados del día, se implementó un guardado con save_new_data_as_delta usando fixture_id como clave de unicidad.\n",
        "Esto preserva el histórico de ejecuciones anteriores y evita sobrescribir datos ya existentes, cumpliendo con el objetivo de registrar solo los cambios recientes.\n",
        "\n",
        "La combinación de ambos enfoques permite optimizar el rendimiento: la ingesta full es adecuada para datos estables y de bajo volumen, mientras que la incremental es más eficiente para datos en constante actualización.\n",
        "\n",
        "Los datos dinámicos extraídos se almacenan en la capa *Bronze* en formato *Delta Lake*, preservando histórico gracias al esquema incremental con fixture_id."
      ]
    },
    {
      "cell_type": "code",
      "execution_count": 135,
      "metadata": {
        "id": "nVTZLfQKR_N4"
      },
      "outputs": [],
      "source": [
        "base_url = \"https://v3.football.api-sports.io\""
      ]
    },
    {
      "cell_type": "markdown",
      "metadata": {
        "id": "dpPJmgqtzXxj"
      },
      "source": [
        "## Endpoint dinámico: *fixtures*\n",
        "En API-Football, el endpoint *fixtures* devuelve información detallada de los partidos, incluyendo fecha, hora, equipos, marcador, estado y liga, y permite filtrarlos por parámetros como from, to, league o season. En nuestro caso, traemos sólo la fecha, pero en futuras entregas del Trabajo Integrador, es posible analizar algunas ligas específicas (como la prmier league de Inglaterra, la liga española y la Bundesliga, que son las ligas más relvantes del mundo)"
      ]
    },
    {
      "cell_type": "code",
      "execution_count": 136,
      "metadata": {
        "colab": {
          "base_uri": "https://localhost:8080/"
        },
        "id": "X62CD3Za3Pvu",
        "outputId": "410806c6-986e-475e-befb-416ede37d135"
      },
      "outputs": [
        {
          "name": "stderr",
          "output_type": "stream",
          "text": [
            "C:\\Users\\elias\\AppData\\Local\\Temp\\ipykernel_24732\\2288028740.py:2: DeprecationWarning: datetime.datetime.utcnow() is deprecated and scheduled for removal in a future version. Use timezone-aware objects to represent datetimes in UTC: datetime.datetime.now(datetime.UTC).\n",
            "  fecha_ayer = (datetime.utcnow() - timedelta(days=1)).strftime(\"%Y-%m-%d\")\n"
          ]
        },
        {
          "data": {
            "text/plain": [
              "'2025-09-24'"
            ]
          },
          "execution_count": 136,
          "metadata": {},
          "output_type": "execute_result"
        }
      ],
      "source": [
        "# Fecha de ayer en formato AAAA-MM-DD\n",
        "fecha_ayer = (datetime.utcnow() - timedelta(days=1)).strftime(\"%Y-%m-%d\")\n",
        "fecha_ayer"
      ]
    },
    {
      "cell_type": "code",
      "execution_count": 137,
      "metadata": {
        "id": "N-vi2XaZ6pFJ"
      },
      "outputs": [],
      "source": [
        "endpoint_3 = \"fixtures\""
      ]
    },
    {
      "cell_type": "code",
      "execution_count": 138,
      "metadata": {
        "id": "Qm8gPDHJ6pMq"
      },
      "outputs": [],
      "source": [
        "params_fixtures = {\n",
        "    \"date\": fecha_ayer,\n",
        "    \"timezone\": \"UTC\"\n",
        "}"
      ]
    },
    {
      "cell_type": "code",
      "execution_count": 139,
      "metadata": {
        "id": "I3j4AsMn_QUM"
      },
      "outputs": [],
      "source": [
        "json_fixtures = get_data(\n",
        "    base_url,\n",
        "    endpoint_3,\n",
        "    data_field=\"response\",\n",
        "    headers=headers,\n",
        "    params=params_fixtures\n",
        ")"
      ]
    },
    {
      "cell_type": "code",
      "execution_count": 140,
      "metadata": {
        "id": "XGDjHALl8Njm"
      },
      "outputs": [],
      "source": [
        "df_fixtures = build_table(json_fixtures)"
      ]
    },
    {
      "cell_type": "code",
      "execution_count": 141,
      "metadata": {
        "colab": {
          "base_uri": "https://localhost:8080/"
        },
        "id": "llQvBF3D3PyQ",
        "outputId": "c7d1e306-4309-4979-cddf-f833dfe080b4"
      },
      "outputs": [
        {
          "data": {
            "text/html": [
              "<div>\n",
              "<style scoped>\n",
              "    .dataframe tbody tr th:only-of-type {\n",
              "        vertical-align: middle;\n",
              "    }\n",
              "\n",
              "    .dataframe tbody tr th {\n",
              "        vertical-align: top;\n",
              "    }\n",
              "\n",
              "    .dataframe thead th {\n",
              "        text-align: right;\n",
              "    }\n",
              "</style>\n",
              "<table border=\"1\" class=\"dataframe\">\n",
              "  <thead>\n",
              "    <tr style=\"text-align: right;\">\n",
              "      <th></th>\n",
              "      <th>fixture.id</th>\n",
              "      <th>fixture.referee</th>\n",
              "      <th>fixture.timezone</th>\n",
              "      <th>fixture.date</th>\n",
              "      <th>fixture.timestamp</th>\n",
              "      <th>fixture.periods.first</th>\n",
              "      <th>fixture.periods.second</th>\n",
              "      <th>fixture.venue.id</th>\n",
              "      <th>fixture.venue.name</th>\n",
              "      <th>fixture.venue.city</th>\n",
              "      <th>fixture.status.long</th>\n",
              "      <th>fixture.status.short</th>\n",
              "      <th>fixture.status.elapsed</th>\n",
              "      <th>fixture.status.extra</th>\n",
              "      <th>league.id</th>\n",
              "      <th>league.name</th>\n",
              "      <th>league.country</th>\n",
              "      <th>league.logo</th>\n",
              "      <th>league.flag</th>\n",
              "      <th>league.season</th>\n",
              "      <th>league.round</th>\n",
              "      <th>league.standings</th>\n",
              "      <th>teams.home.id</th>\n",
              "      <th>teams.home.name</th>\n",
              "      <th>teams.home.logo</th>\n",
              "      <th>teams.home.winner</th>\n",
              "      <th>teams.away.id</th>\n",
              "      <th>teams.away.name</th>\n",
              "      <th>teams.away.logo</th>\n",
              "      <th>teams.away.winner</th>\n",
              "      <th>goals.home</th>\n",
              "      <th>goals.away</th>\n",
              "      <th>score.halftime.home</th>\n",
              "      <th>score.halftime.away</th>\n",
              "      <th>score.fulltime.home</th>\n",
              "      <th>score.fulltime.away</th>\n",
              "      <th>score.extratime.home</th>\n",
              "      <th>score.extratime.away</th>\n",
              "      <th>score.penalty.home</th>\n",
              "      <th>score.penalty.away</th>\n",
              "    </tr>\n",
              "  </thead>\n",
              "  <tbody>\n",
              "    <tr>\n",
              "      <th>0</th>\n",
              "      <td>1438842</td>\n",
              "      <td>Sergio Rozenhaut</td>\n",
              "      <td>UTC</td>\n",
              "      <td>2025-09-24T00:00:00+00:00</td>\n",
              "      <td>1758672000</td>\n",
              "      <td>1.758672e+09</td>\n",
              "      <td>1.758676e+09</td>\n",
              "      <td>3905.0</td>\n",
              "      <td>Hasely Crawford Stadium</td>\n",
              "      <td>Port of Spain</td>\n",
              "      <td>Match Finished</td>\n",
              "      <td>FT</td>\n",
              "      <td>90.0</td>\n",
              "      <td>6.0</td>\n",
              "      <td>856</td>\n",
              "      <td>CONCACAF Caribbean Club Championship</td>\n",
              "      <td>World</td>\n",
              "      <td>https://media.api-sports.io/football/leagues/8...</td>\n",
              "      <td>None</td>\n",
              "      <td>2025</td>\n",
              "      <td>Group Stage - 4</td>\n",
              "      <td>False</td>\n",
              "      <td>8005</td>\n",
              "      <td>Central</td>\n",
              "      <td>https://media.api-sports.io/football/teams/800...</td>\n",
              "      <td>False</td>\n",
              "      <td>3442</td>\n",
              "      <td>Mount Pleasant Academy</td>\n",
              "      <td>https://media.api-sports.io/football/teams/344...</td>\n",
              "      <td>True</td>\n",
              "      <td>0.0</td>\n",
              "      <td>2.0</td>\n",
              "      <td>0.0</td>\n",
              "      <td>0.0</td>\n",
              "      <td>0.0</td>\n",
              "      <td>2.0</td>\n",
              "      <td>NaN</td>\n",
              "      <td>NaN</td>\n",
              "      <td>NaN</td>\n",
              "      <td>NaN</td>\n",
              "    </tr>\n",
              "    <tr>\n",
              "      <th>1</th>\n",
              "      <td>1438843</td>\n",
              "      <td>Reginald Gumbs</td>\n",
              "      <td>UTC</td>\n",
              "      <td>2025-09-24T00:00:00+00:00</td>\n",
              "      <td>1758672000</td>\n",
              "      <td>1.758672e+09</td>\n",
              "      <td>1.758676e+09</td>\n",
              "      <td>22458.0</td>\n",
              "      <td>Estadio Cibao</td>\n",
              "      <td>Santiago De Los Caballeros</td>\n",
              "      <td>Match Finished</td>\n",
              "      <td>FT</td>\n",
              "      <td>90.0</td>\n",
              "      <td>NaN</td>\n",
              "      <td>856</td>\n",
              "      <td>CONCACAF Caribbean Club Championship</td>\n",
              "      <td>World</td>\n",
              "      <td>https://media.api-sports.io/football/leagues/8...</td>\n",
              "      <td>None</td>\n",
              "      <td>2025</td>\n",
              "      <td>Group Stage - 4</td>\n",
              "      <td>False</td>\n",
              "      <td>4446</td>\n",
              "      <td>Juventus</td>\n",
              "      <td>https://media.api-sports.io/football/teams/444...</td>\n",
              "      <td>False</td>\n",
              "      <td>8004</td>\n",
              "      <td>Cibao</td>\n",
              "      <td>https://media.api-sports.io/football/teams/800...</td>\n",
              "      <td>True</td>\n",
              "      <td>0.0</td>\n",
              "      <td>3.0</td>\n",
              "      <td>0.0</td>\n",
              "      <td>2.0</td>\n",
              "      <td>0.0</td>\n",
              "      <td>3.0</td>\n",
              "      <td>NaN</td>\n",
              "      <td>NaN</td>\n",
              "      <td>NaN</td>\n",
              "      <td>NaN</td>\n",
              "    </tr>\n",
              "    <tr>\n",
              "      <th>2</th>\n",
              "      <td>1441147</td>\n",
              "      <td>None</td>\n",
              "      <td>UTC</td>\n",
              "      <td>2025-09-24T00:00:00+00:00</td>\n",
              "      <td>1758672000</td>\n",
              "      <td>NaN</td>\n",
              "      <td>NaN</td>\n",
              "      <td>NaN</td>\n",
              "      <td>None</td>\n",
              "      <td>None</td>\n",
              "      <td>Match Postponed</td>\n",
              "      <td>PST</td>\n",
              "      <td>NaN</td>\n",
              "      <td>NaN</td>\n",
              "      <td>243</td>\n",
              "      <td>Liga Pro Serie B</td>\n",
              "      <td>Ecuador</td>\n",
              "      <td>https://media.api-sports.io/football/leagues/2...</td>\n",
              "      <td>https://media.api-sports.io/flags/ec.svg</td>\n",
              "      <td>2025</td>\n",
              "      <td>Relegation Round - 5</td>\n",
              "      <td>True</td>\n",
              "      <td>1983</td>\n",
              "      <td>Imbabura</td>\n",
              "      <td>https://media.api-sports.io/football/teams/198...</td>\n",
              "      <td>None</td>\n",
              "      <td>25736</td>\n",
              "      <td>22 de Julio</td>\n",
              "      <td>https://media.api-sports.io/football/teams/257...</td>\n",
              "      <td>None</td>\n",
              "      <td>NaN</td>\n",
              "      <td>NaN</td>\n",
              "      <td>NaN</td>\n",
              "      <td>NaN</td>\n",
              "      <td>NaN</td>\n",
              "      <td>NaN</td>\n",
              "      <td>NaN</td>\n",
              "      <td>NaN</td>\n",
              "      <td>NaN</td>\n",
              "      <td>NaN</td>\n",
              "    </tr>\n",
              "  </tbody>\n",
              "</table>\n",
              "</div>"
            ],
            "text/plain": [
              "   fixture.id   fixture.referee fixture.timezone               fixture.date  \\\n",
              "0     1438842  Sergio Rozenhaut              UTC  2025-09-24T00:00:00+00:00   \n",
              "1     1438843    Reginald Gumbs              UTC  2025-09-24T00:00:00+00:00   \n",
              "2     1441147              None              UTC  2025-09-24T00:00:00+00:00   \n",
              "\n",
              "   fixture.timestamp  fixture.periods.first  fixture.periods.second  \\\n",
              "0         1758672000           1.758672e+09            1.758676e+09   \n",
              "1         1758672000           1.758672e+09            1.758676e+09   \n",
              "2         1758672000                    NaN                     NaN   \n",
              "\n",
              "   fixture.venue.id       fixture.venue.name          fixture.venue.city  \\\n",
              "0            3905.0  Hasely Crawford Stadium               Port of Spain   \n",
              "1           22458.0            Estadio Cibao  Santiago De Los Caballeros   \n",
              "2               NaN                     None                        None   \n",
              "\n",
              "  fixture.status.long fixture.status.short  fixture.status.elapsed  \\\n",
              "0      Match Finished                   FT                    90.0   \n",
              "1      Match Finished                   FT                    90.0   \n",
              "2     Match Postponed                  PST                     NaN   \n",
              "\n",
              "   fixture.status.extra  league.id                           league.name  \\\n",
              "0                   6.0        856  CONCACAF Caribbean Club Championship   \n",
              "1                   NaN        856  CONCACAF Caribbean Club Championship   \n",
              "2                   NaN        243                      Liga Pro Serie B   \n",
              "\n",
              "  league.country                                        league.logo  \\\n",
              "0          World  https://media.api-sports.io/football/leagues/8...   \n",
              "1          World  https://media.api-sports.io/football/leagues/8...   \n",
              "2        Ecuador  https://media.api-sports.io/football/leagues/2...   \n",
              "\n",
              "                                league.flag  league.season  \\\n",
              "0                                      None           2025   \n",
              "1                                      None           2025   \n",
              "2  https://media.api-sports.io/flags/ec.svg           2025   \n",
              "\n",
              "           league.round  league.standings  teams.home.id teams.home.name  \\\n",
              "0       Group Stage - 4             False           8005         Central   \n",
              "1       Group Stage - 4             False           4446        Juventus   \n",
              "2  Relegation Round - 5              True           1983        Imbabura   \n",
              "\n",
              "                                     teams.home.logo teams.home.winner  \\\n",
              "0  https://media.api-sports.io/football/teams/800...             False   \n",
              "1  https://media.api-sports.io/football/teams/444...             False   \n",
              "2  https://media.api-sports.io/football/teams/198...              None   \n",
              "\n",
              "   teams.away.id         teams.away.name  \\\n",
              "0           3442  Mount Pleasant Academy   \n",
              "1           8004                   Cibao   \n",
              "2          25736             22 de Julio   \n",
              "\n",
              "                                     teams.away.logo teams.away.winner  \\\n",
              "0  https://media.api-sports.io/football/teams/344...              True   \n",
              "1  https://media.api-sports.io/football/teams/800...              True   \n",
              "2  https://media.api-sports.io/football/teams/257...              None   \n",
              "\n",
              "   goals.home  goals.away  score.halftime.home  score.halftime.away  \\\n",
              "0         0.0         2.0                  0.0                  0.0   \n",
              "1         0.0         3.0                  0.0                  2.0   \n",
              "2         NaN         NaN                  NaN                  NaN   \n",
              "\n",
              "   score.fulltime.home  score.fulltime.away  score.extratime.home  \\\n",
              "0                  0.0                  2.0                   NaN   \n",
              "1                  0.0                  3.0                   NaN   \n",
              "2                  NaN                  NaN                   NaN   \n",
              "\n",
              "   score.extratime.away  score.penalty.home  score.penalty.away  \n",
              "0                   NaN                 NaN                 NaN  \n",
              "1                   NaN                 NaN                 NaN  \n",
              "2                   NaN                 NaN                 NaN  "
            ]
          },
          "execution_count": 141,
          "metadata": {},
          "output_type": "execute_result"
        }
      ],
      "source": [
        "df_fixtures.head(3)"
      ]
    },
    {
      "cell_type": "code",
      "execution_count": 142,
      "metadata": {
        "id": "tC0yk8t5zrg4"
      },
      "outputs": [],
      "source": [
        "# Se renombra la columna para reemplazar 'fixture.id' por 'fixture_id'.\n",
        "# Esto evita problemas de sintaxis con el punto en el nombre de la columna\n",
        "# y permite usarla de forma más clara y consistente en el MERGE.\n",
        "df_fixtures = df_fixtures.rename(columns={\"fixture.id\": \"fixture_id\"})"
      ]
    },
    {
      "cell_type": "markdown",
      "metadata": {},
      "source": [
        "### *Capa Bronze: guardado en formato Delta Lake de datos dinámicos*\n",
        "Se almacenan en la capa *Bronze* los datos crudos obtenidos desde la API-Football, sin aplicar transformaciones profundas.  \n",
        "De esta forma, se conserva una copia fiel de la fuente original como punto de partida para los procesos de limpieza y normalización posteriores.  \n",
        "La verificación posterior confirma la correcta ingesta y particionado por fecha del dataset."
      ]
    },
    {
      "cell_type": "code",
      "execution_count": 143,
      "metadata": {},
      "outputs": [],
      "source": [
        "# Carpeta Bronze\n",
        "bronze_dir = f\"{datalake_root}/bronze/api_football\""
      ]
    },
    {
      "cell_type": "code",
      "execution_count": 144,
      "metadata": {},
      "outputs": [],
      "source": [
        "# Subcarpeta para almacenar los fixtures en Bronze\n",
        "# Se guarda la información de partidos (fixtures) tal como viene de la API.\n",
        "fixtures_dir = f\"{bronze_dir}/fixtures\""
      ]
    },
    {
      "cell_type": "code",
      "execution_count": 145,
      "metadata": {
        "colab": {
          "base_uri": "https://localhost:8080/"
        },
        "id": "1A6gnZn6y3O6",
        "outputId": "a2794eb7-5175-4f18-d95d-dfe221b96c81"
      },
      "outputs": [
        {
          "data": {
            "text/html": [
              "<div>\n",
              "<style scoped>\n",
              "    .dataframe tbody tr th:only-of-type {\n",
              "        vertical-align: middle;\n",
              "    }\n",
              "\n",
              "    .dataframe tbody tr th {\n",
              "        vertical-align: top;\n",
              "    }\n",
              "\n",
              "    .dataframe thead th {\n",
              "        text-align: right;\n",
              "    }\n",
              "</style>\n",
              "<table border=\"1\" class=\"dataframe\">\n",
              "  <thead>\n",
              "    <tr style=\"text-align: right;\">\n",
              "      <th></th>\n",
              "      <th>fixture_id</th>\n",
              "      <th>fixture.referee</th>\n",
              "      <th>fixture.timezone</th>\n",
              "      <th>fixture.date</th>\n",
              "      <th>fixture.timestamp</th>\n",
              "      <th>fixture.periods.first</th>\n",
              "      <th>fixture.periods.second</th>\n",
              "      <th>fixture.venue.id</th>\n",
              "      <th>fixture.venue.name</th>\n",
              "      <th>fixture.venue.city</th>\n",
              "      <th>fixture.status.long</th>\n",
              "      <th>fixture.status.short</th>\n",
              "      <th>fixture.status.elapsed</th>\n",
              "      <th>fixture.status.extra</th>\n",
              "      <th>league.id</th>\n",
              "      <th>league.name</th>\n",
              "      <th>league.country</th>\n",
              "      <th>league.logo</th>\n",
              "      <th>league.flag</th>\n",
              "      <th>league.season</th>\n",
              "      <th>league.round</th>\n",
              "      <th>league.standings</th>\n",
              "      <th>teams.home.id</th>\n",
              "      <th>teams.home.name</th>\n",
              "      <th>teams.home.logo</th>\n",
              "      <th>teams.home.winner</th>\n",
              "      <th>teams.away.id</th>\n",
              "      <th>teams.away.name</th>\n",
              "      <th>teams.away.logo</th>\n",
              "      <th>teams.away.winner</th>\n",
              "      <th>goals.home</th>\n",
              "      <th>goals.away</th>\n",
              "      <th>score.halftime.home</th>\n",
              "      <th>score.halftime.away</th>\n",
              "      <th>score.fulltime.home</th>\n",
              "      <th>score.fulltime.away</th>\n",
              "      <th>score.extratime.home</th>\n",
              "      <th>score.extratime.away</th>\n",
              "      <th>score.penalty.home</th>\n",
              "      <th>score.penalty.away</th>\n",
              "      <th>event_date</th>\n",
              "    </tr>\n",
              "  </thead>\n",
              "  <tbody>\n",
              "    <tr>\n",
              "      <th>0</th>\n",
              "      <td>1438842</td>\n",
              "      <td>Sergio Rozenhaut</td>\n",
              "      <td>UTC</td>\n",
              "      <td>2025-09-24 00:00:00+00:00</td>\n",
              "      <td>1758672000</td>\n",
              "      <td>1.758672e+09</td>\n",
              "      <td>1.758676e+09</td>\n",
              "      <td>3905.0</td>\n",
              "      <td>Hasely Crawford Stadium</td>\n",
              "      <td>Port of Spain</td>\n",
              "      <td>Match Finished</td>\n",
              "      <td>FT</td>\n",
              "      <td>90.0</td>\n",
              "      <td>6.0</td>\n",
              "      <td>856</td>\n",
              "      <td>CONCACAF Caribbean Club Championship</td>\n",
              "      <td>World</td>\n",
              "      <td>https://media.api-sports.io/football/leagues/8...</td>\n",
              "      <td>None</td>\n",
              "      <td>2025</td>\n",
              "      <td>Group Stage - 4</td>\n",
              "      <td>False</td>\n",
              "      <td>8005</td>\n",
              "      <td>Central</td>\n",
              "      <td>https://media.api-sports.io/football/teams/800...</td>\n",
              "      <td>False</td>\n",
              "      <td>3442</td>\n",
              "      <td>Mount Pleasant Academy</td>\n",
              "      <td>https://media.api-sports.io/football/teams/344...</td>\n",
              "      <td>True</td>\n",
              "      <td>0.0</td>\n",
              "      <td>2.0</td>\n",
              "      <td>0.0</td>\n",
              "      <td>0.0</td>\n",
              "      <td>0.0</td>\n",
              "      <td>2.0</td>\n",
              "      <td>NaN</td>\n",
              "      <td>NaN</td>\n",
              "      <td>NaN</td>\n",
              "      <td>NaN</td>\n",
              "      <td>2025-09-24</td>\n",
              "    </tr>\n",
              "    <tr>\n",
              "      <th>1</th>\n",
              "      <td>1438843</td>\n",
              "      <td>Reginald Gumbs</td>\n",
              "      <td>UTC</td>\n",
              "      <td>2025-09-24 00:00:00+00:00</td>\n",
              "      <td>1758672000</td>\n",
              "      <td>1.758672e+09</td>\n",
              "      <td>1.758676e+09</td>\n",
              "      <td>22458.0</td>\n",
              "      <td>Estadio Cibao</td>\n",
              "      <td>Santiago De Los Caballeros</td>\n",
              "      <td>Match Finished</td>\n",
              "      <td>FT</td>\n",
              "      <td>90.0</td>\n",
              "      <td>NaN</td>\n",
              "      <td>856</td>\n",
              "      <td>CONCACAF Caribbean Club Championship</td>\n",
              "      <td>World</td>\n",
              "      <td>https://media.api-sports.io/football/leagues/8...</td>\n",
              "      <td>None</td>\n",
              "      <td>2025</td>\n",
              "      <td>Group Stage - 4</td>\n",
              "      <td>False</td>\n",
              "      <td>4446</td>\n",
              "      <td>Juventus</td>\n",
              "      <td>https://media.api-sports.io/football/teams/444...</td>\n",
              "      <td>False</td>\n",
              "      <td>8004</td>\n",
              "      <td>Cibao</td>\n",
              "      <td>https://media.api-sports.io/football/teams/800...</td>\n",
              "      <td>True</td>\n",
              "      <td>0.0</td>\n",
              "      <td>3.0</td>\n",
              "      <td>0.0</td>\n",
              "      <td>2.0</td>\n",
              "      <td>0.0</td>\n",
              "      <td>3.0</td>\n",
              "      <td>NaN</td>\n",
              "      <td>NaN</td>\n",
              "      <td>NaN</td>\n",
              "      <td>NaN</td>\n",
              "      <td>2025-09-24</td>\n",
              "    </tr>\n",
              "    <tr>\n",
              "      <th>2</th>\n",
              "      <td>1441147</td>\n",
              "      <td>None</td>\n",
              "      <td>UTC</td>\n",
              "      <td>2025-09-24 00:00:00+00:00</td>\n",
              "      <td>1758672000</td>\n",
              "      <td>NaN</td>\n",
              "      <td>NaN</td>\n",
              "      <td>NaN</td>\n",
              "      <td>None</td>\n",
              "      <td>None</td>\n",
              "      <td>Match Postponed</td>\n",
              "      <td>PST</td>\n",
              "      <td>NaN</td>\n",
              "      <td>NaN</td>\n",
              "      <td>243</td>\n",
              "      <td>Liga Pro Serie B</td>\n",
              "      <td>Ecuador</td>\n",
              "      <td>https://media.api-sports.io/football/leagues/2...</td>\n",
              "      <td>https://media.api-sports.io/flags/ec.svg</td>\n",
              "      <td>2025</td>\n",
              "      <td>Relegation Round - 5</td>\n",
              "      <td>True</td>\n",
              "      <td>1983</td>\n",
              "      <td>Imbabura</td>\n",
              "      <td>https://media.api-sports.io/football/teams/198...</td>\n",
              "      <td>None</td>\n",
              "      <td>25736</td>\n",
              "      <td>22 de Julio</td>\n",
              "      <td>https://media.api-sports.io/football/teams/257...</td>\n",
              "      <td>None</td>\n",
              "      <td>NaN</td>\n",
              "      <td>NaN</td>\n",
              "      <td>NaN</td>\n",
              "      <td>NaN</td>\n",
              "      <td>NaN</td>\n",
              "      <td>NaN</td>\n",
              "      <td>NaN</td>\n",
              "      <td>NaN</td>\n",
              "      <td>NaN</td>\n",
              "      <td>NaN</td>\n",
              "      <td>2025-09-24</td>\n",
              "    </tr>\n",
              "  </tbody>\n",
              "</table>\n",
              "</div>"
            ],
            "text/plain": [
              "   fixture_id   fixture.referee fixture.timezone              fixture.date  \\\n",
              "0     1438842  Sergio Rozenhaut              UTC 2025-09-24 00:00:00+00:00   \n",
              "1     1438843    Reginald Gumbs              UTC 2025-09-24 00:00:00+00:00   \n",
              "2     1441147              None              UTC 2025-09-24 00:00:00+00:00   \n",
              "\n",
              "   fixture.timestamp  fixture.periods.first  fixture.periods.second  \\\n",
              "0         1758672000           1.758672e+09            1.758676e+09   \n",
              "1         1758672000           1.758672e+09            1.758676e+09   \n",
              "2         1758672000                    NaN                     NaN   \n",
              "\n",
              "   fixture.venue.id       fixture.venue.name          fixture.venue.city  \\\n",
              "0            3905.0  Hasely Crawford Stadium               Port of Spain   \n",
              "1           22458.0            Estadio Cibao  Santiago De Los Caballeros   \n",
              "2               NaN                     None                        None   \n",
              "\n",
              "  fixture.status.long fixture.status.short  fixture.status.elapsed  \\\n",
              "0      Match Finished                   FT                    90.0   \n",
              "1      Match Finished                   FT                    90.0   \n",
              "2     Match Postponed                  PST                     NaN   \n",
              "\n",
              "   fixture.status.extra  league.id                           league.name  \\\n",
              "0                   6.0        856  CONCACAF Caribbean Club Championship   \n",
              "1                   NaN        856  CONCACAF Caribbean Club Championship   \n",
              "2                   NaN        243                      Liga Pro Serie B   \n",
              "\n",
              "  league.country                                        league.logo  \\\n",
              "0          World  https://media.api-sports.io/football/leagues/8...   \n",
              "1          World  https://media.api-sports.io/football/leagues/8...   \n",
              "2        Ecuador  https://media.api-sports.io/football/leagues/2...   \n",
              "\n",
              "                                league.flag  league.season  \\\n",
              "0                                      None           2025   \n",
              "1                                      None           2025   \n",
              "2  https://media.api-sports.io/flags/ec.svg           2025   \n",
              "\n",
              "           league.round  league.standings  teams.home.id teams.home.name  \\\n",
              "0       Group Stage - 4             False           8005         Central   \n",
              "1       Group Stage - 4             False           4446        Juventus   \n",
              "2  Relegation Round - 5              True           1983        Imbabura   \n",
              "\n",
              "                                     teams.home.logo teams.home.winner  \\\n",
              "0  https://media.api-sports.io/football/teams/800...             False   \n",
              "1  https://media.api-sports.io/football/teams/444...             False   \n",
              "2  https://media.api-sports.io/football/teams/198...              None   \n",
              "\n",
              "   teams.away.id         teams.away.name  \\\n",
              "0           3442  Mount Pleasant Academy   \n",
              "1           8004                   Cibao   \n",
              "2          25736             22 de Julio   \n",
              "\n",
              "                                     teams.away.logo teams.away.winner  \\\n",
              "0  https://media.api-sports.io/football/teams/344...              True   \n",
              "1  https://media.api-sports.io/football/teams/800...              True   \n",
              "2  https://media.api-sports.io/football/teams/257...              None   \n",
              "\n",
              "   goals.home  goals.away  score.halftime.home  score.halftime.away  \\\n",
              "0         0.0         2.0                  0.0                  0.0   \n",
              "1         0.0         3.0                  0.0                  2.0   \n",
              "2         NaN         NaN                  NaN                  NaN   \n",
              "\n",
              "   score.fulltime.home  score.fulltime.away  score.extratime.home  \\\n",
              "0                  0.0                  2.0                   NaN   \n",
              "1                  0.0                  3.0                   NaN   \n",
              "2                  NaN                  NaN                   NaN   \n",
              "\n",
              "   score.extratime.away  score.penalty.home  score.penalty.away  event_date  \n",
              "0                   NaN                 NaN                 NaN  2025-09-24  \n",
              "1                   NaN                 NaN                 NaN  2025-09-24  \n",
              "2                   NaN                 NaN                 NaN  2025-09-24  "
            ]
          },
          "execution_count": 145,
          "metadata": {},
          "output_type": "execute_result"
        }
      ],
      "source": [
        "# # Se convierte la columna fixture.date a tipo datetime.\n",
        "# # Luego se crea una nueva columna, \"event_date\", que contiene solo la fecha con año, mes y día.\n",
        "df_fixtures[\"fixture.date\"] = pd.to_datetime(df_fixtures[\"fixture.date\"])\n",
        "df_fixtures[\"event_date\"] = df_fixtures[\"fixture.date\"].dt.date\n",
        "df_fixtures.head(3)"
      ]
    },
    {
      "cell_type": "code",
      "execution_count": 146,
      "metadata": {
        "id": "Y64gllK1mE2f"
      },
      "outputs": [],
      "source": [
        "# Algunas columnas pueden venir vacías (None) según el torneo.\n",
        "# Si Spark las infiere como NullType, no se pueden guardar en Delta.\n",
        "# Se convierten a float para mantener consistencia con las demás columnas de resultados,\n",
        "# ya que la API devuelve goles y marcadores en este tipo de dato.\n",
        "# De esta forma se preserva la estructura, se evita el NullType y se garantiza\n",
        "# un guardado correcto en la capa Bronze sin alterar la semántica original.\n",
        "cols_to_float = [\n",
        "    'score.extratime.home',\n",
        "    'score.extratime.away',\n",
        "    'score.penalty.home',\n",
        "    'score.penalty.away'\n",
        "]\n",
        "\n",
        "df_fixtures[cols_to_float] = df_fixtures[cols_to_float].astype(\"float\")"
      ]
    },
    {
      "cell_type": "markdown",
      "metadata": {
        "id": "p8DJPTnRrJxy"
      },
      "source": [
        "Se utiliza **fixture_id** en el predicado del MERGE porque es el identificador único que la API asigna a cada partido. Esto asegura que cada registro corresponda a un único fixture dentro de la tabla Delta y que el proceso de ingesta incremental pueda ejecutarse sin duplicar datos ya existentes.\n",
        "\n",
        "Además, fixture_id fue diseñado en la propia API para garantizar la unicidad de cada partido, independientemente de la liga, la temporada o los equipos. De modo que se convierte en la opción más simple, confiable y robusta para identificar los encuentros en el proceso de almacenamiento incremental, asegurando consistencia en el histórico de datos."
      ]
    },
    {
      "cell_type": "code",
      "execution_count": 147,
      "metadata": {
        "id": "2LGULPqlwg34"
      },
      "outputs": [],
      "source": [
        "# Se guarda en bronze/fixtures particionado por fecha\n",
        "# Usamos fixture_id como clave única para el MERGE,\n",
        "# evitando problemas de sintaxis y asegurando la unicidad de cada partido.\n",
        "save_new_data_as_delta(\n",
        "    df_fixtures,\n",
        "    fixtures_dir,\n",
        "    \"target.fixture_id = source.fixture_id\",\n",
        "    partition_cols=[\"event_date\"]\n",
        ")"
      ]
    },
    {
      "cell_type": "markdown",
      "metadata": {
        "id": "60b7eQlo9R52"
      },
      "source": [
        "# **5. Transformaciones**\n",
        "En esta sección se aplican transformaciones sobre los DataFrames obtenidos de la API.\n",
        "Se renombraron columnas para mejorar la legibilidad, se crearon nuevas variables (como match_winner), se cambiaron tipos de datos para optimizar memoria y consistencia, y se eliminaron atributos redundantes o poco relevantes.\n",
        "\n",
        "Los datos resultantes de este proceso se almacenan en la capa *Silver* en formato *Delta Lake*, ya listos para análisis ulteriores o una eventual capa *Gold*."
      ]
    },
    {
      "cell_type": "markdown",
      "metadata": {
        "id": "f71A6b7R9Wbb"
      },
      "source": [
        "## *5.1 Transformaciones de datos estáticos: df_leagues*\n",
        "Se trabaja con el DataFrame *df_leagues*, que contiene información sobre las ligas y competiciones de fútbol en todo el mundo, incluyendo su nombre, país, tipo (liga o copa), logotipo y temporadas disponibles."
      ]
    },
    {
      "cell_type": "code",
      "execution_count": 148,
      "metadata": {},
      "outputs": [],
      "source": [
        "# Leer Bronze (Delta)\n",
        "dt_leagues = DeltaTable(leagues_dir)"
      ]
    },
    {
      "cell_type": "code",
      "execution_count": 149,
      "metadata": {},
      "outputs": [],
      "source": [
        "# Se convierte a Pandas para trabajar en las transformaciones\n",
        "df_leagues_bronze = dt_leagues.to_pandas()"
      ]
    },
    {
      "cell_type": "code",
      "execution_count": 150,
      "metadata": {},
      "outputs": [],
      "source": [
        "# Se crea una copia para aplicar las transformaciones \n",
        "df_leagues_cleaned = df_leagues_bronze.copy()"
      ]
    },
    {
      "cell_type": "code",
      "execution_count": 151,
      "metadata": {},
      "outputs": [
        {
          "data": {
            "text/html": [
              "<div>\n",
              "<style scoped>\n",
              "    .dataframe tbody tr th:only-of-type {\n",
              "        vertical-align: middle;\n",
              "    }\n",
              "\n",
              "    .dataframe tbody tr th {\n",
              "        vertical-align: top;\n",
              "    }\n",
              "\n",
              "    .dataframe thead th {\n",
              "        text-align: right;\n",
              "    }\n",
              "</style>\n",
              "<table border=\"1\" class=\"dataframe\">\n",
              "  <thead>\n",
              "    <tr style=\"text-align: right;\">\n",
              "      <th></th>\n",
              "      <th>seasons</th>\n",
              "      <th>league.id</th>\n",
              "      <th>league.name</th>\n",
              "      <th>league.type</th>\n",
              "      <th>league.logo</th>\n",
              "      <th>country.name</th>\n",
              "      <th>country.code</th>\n",
              "      <th>country.flag</th>\n",
              "    </tr>\n",
              "  </thead>\n",
              "  <tbody>\n",
              "    <tr>\n",
              "      <th>0</th>\n",
              "      <td>[{'coverage': {'fixtures': {'events': True, 'l...</td>\n",
              "      <td>4</td>\n",
              "      <td>Euro Championship</td>\n",
              "      <td>Cup</td>\n",
              "      <td>https://media.api-sports.io/football/leagues/4...</td>\n",
              "      <td>World</td>\n",
              "      <td>None</td>\n",
              "      <td>None</td>\n",
              "    </tr>\n",
              "    <tr>\n",
              "      <th>1</th>\n",
              "      <td>[{'coverage': {'fixtures': {'events': True, 'l...</td>\n",
              "      <td>21</td>\n",
              "      <td>Confederations Cup</td>\n",
              "      <td>Cup</td>\n",
              "      <td>https://media.api-sports.io/football/leagues/2...</td>\n",
              "      <td>World</td>\n",
              "      <td>None</td>\n",
              "      <td>None</td>\n",
              "    </tr>\n",
              "    <tr>\n",
              "      <th>2</th>\n",
              "      <td>[{'coverage': {'fixtures': {'events': True, 'l...</td>\n",
              "      <td>62</td>\n",
              "      <td>Ligue 2</td>\n",
              "      <td>League</td>\n",
              "      <td>https://media.api-sports.io/football/leagues/6...</td>\n",
              "      <td>France</td>\n",
              "      <td>FR</td>\n",
              "      <td>https://media.api-sports.io/flags/fr.svg</td>\n",
              "    </tr>\n",
              "  </tbody>\n",
              "</table>\n",
              "</div>"
            ],
            "text/plain": [
              "                                             seasons  league.id  \\\n",
              "0  [{'coverage': {'fixtures': {'events': True, 'l...          4   \n",
              "1  [{'coverage': {'fixtures': {'events': True, 'l...         21   \n",
              "2  [{'coverage': {'fixtures': {'events': True, 'l...         62   \n",
              "\n",
              "          league.name league.type  \\\n",
              "0   Euro Championship         Cup   \n",
              "1  Confederations Cup         Cup   \n",
              "2             Ligue 2      League   \n",
              "\n",
              "                                         league.logo country.name  \\\n",
              "0  https://media.api-sports.io/football/leagues/4...        World   \n",
              "1  https://media.api-sports.io/football/leagues/2...        World   \n",
              "2  https://media.api-sports.io/football/leagues/6...       France   \n",
              "\n",
              "  country.code                              country.flag  \n",
              "0         None                                      None  \n",
              "1         None                                      None  \n",
              "2           FR  https://media.api-sports.io/flags/fr.svg  "
            ]
          },
          "execution_count": 151,
          "metadata": {},
          "output_type": "execute_result"
        }
      ],
      "source": [
        "# Vista rápida \n",
        "df_leagues_cleaned.head(3)"
      ]
    },
    {
      "cell_type": "code",
      "execution_count": 152,
      "metadata": {
        "colab": {
          "base_uri": "https://localhost:8080/"
        },
        "id": "oHlsjNYJFwWh",
        "outputId": "b24cded4-36e1-4583-a9a3-732ae7ff6dcf"
      },
      "outputs": [
        {
          "data": {
            "text/html": [
              "<div>\n",
              "<style scoped>\n",
              "    .dataframe tbody tr th:only-of-type {\n",
              "        vertical-align: middle;\n",
              "    }\n",
              "\n",
              "    .dataframe tbody tr th {\n",
              "        vertical-align: top;\n",
              "    }\n",
              "\n",
              "    .dataframe thead th {\n",
              "        text-align: right;\n",
              "    }\n",
              "</style>\n",
              "<table border=\"1\" class=\"dataframe\">\n",
              "  <thead>\n",
              "    <tr style=\"text-align: right;\">\n",
              "      <th></th>\n",
              "      <th>seasons</th>\n",
              "      <th>league_id</th>\n",
              "      <th>league_name</th>\n",
              "      <th>league_type</th>\n",
              "      <th>league_logo</th>\n",
              "      <th>country_name</th>\n",
              "      <th>country_code</th>\n",
              "      <th>country_flag</th>\n",
              "    </tr>\n",
              "  </thead>\n",
              "  <tbody>\n",
              "    <tr>\n",
              "      <th>0</th>\n",
              "      <td>[{'year': 2008, 'start': '2008-06-07', 'end': ...</td>\n",
              "      <td>4</td>\n",
              "      <td>Euro Championship</td>\n",
              "      <td>Cup</td>\n",
              "      <td>https://media.api-sports.io/football/leagues/4...</td>\n",
              "      <td>World</td>\n",
              "      <td>None</td>\n",
              "      <td>None</td>\n",
              "    </tr>\n",
              "    <tr>\n",
              "      <th>1</th>\n",
              "      <td>[{'year': 2009, 'start': '2009-06-14', 'end': ...</td>\n",
              "      <td>21</td>\n",
              "      <td>Confederations Cup</td>\n",
              "      <td>Cup</td>\n",
              "      <td>https://media.api-sports.io/football/leagues/2...</td>\n",
              "      <td>World</td>\n",
              "      <td>None</td>\n",
              "      <td>None</td>\n",
              "    </tr>\n",
              "    <tr>\n",
              "      <th>2</th>\n",
              "      <td>[{'year': 2010, 'start': '2010-08-06', 'end': ...</td>\n",
              "      <td>62</td>\n",
              "      <td>Ligue 2</td>\n",
              "      <td>League</td>\n",
              "      <td>https://media.api-sports.io/football/leagues/6...</td>\n",
              "      <td>France</td>\n",
              "      <td>FR</td>\n",
              "      <td>https://media.api-sports.io/flags/fr.svg</td>\n",
              "    </tr>\n",
              "  </tbody>\n",
              "</table>\n",
              "</div>"
            ],
            "text/plain": [
              "                                             seasons  league_id  \\\n",
              "0  [{'year': 2008, 'start': '2008-06-07', 'end': ...          4   \n",
              "1  [{'year': 2009, 'start': '2009-06-14', 'end': ...         21   \n",
              "2  [{'year': 2010, 'start': '2010-08-06', 'end': ...         62   \n",
              "\n",
              "          league_name league_type  \\\n",
              "0   Euro Championship         Cup   \n",
              "1  Confederations Cup         Cup   \n",
              "2             Ligue 2      League   \n",
              "\n",
              "                                         league_logo country_name  \\\n",
              "0  https://media.api-sports.io/football/leagues/4...        World   \n",
              "1  https://media.api-sports.io/football/leagues/2...        World   \n",
              "2  https://media.api-sports.io/football/leagues/6...       France   \n",
              "\n",
              "  country_code                              country_flag  \n",
              "0         None                                      None  \n",
              "1         None                                      None  \n",
              "2           FR  https://media.api-sports.io/flags/fr.svg  "
            ]
          },
          "execution_count": 152,
          "metadata": {},
          "output_type": "execute_result"
        }
      ],
      "source": [
        "# Se renombran las columnas: se reemplazan los puntos (.) por guiones bajos (_)\n",
        "# para evitar problemas de sintaxis y unificar el formato.\n",
        "df_leagues_cleaned = df_leagues.rename(\n",
        "                        columns = lambda columna: columna.lower().replace(\".\", \"_\"),\n",
        "                        )\n",
        "\n",
        "# Vista preliminar de los cambios\n",
        "df_leagues_cleaned.head(3)"
      ]
    },
    {
      "cell_type": "code",
      "execution_count": 153,
      "metadata": {
        "colab": {
          "base_uri": "https://localhost:8080/"
        },
        "id": "QYOVHFEstYlx",
        "outputId": "6ad8ef9b-177e-4f28-dfd3-1ddf1634f473"
      },
      "outputs": [
        {
          "name": "stdout",
          "output_type": "stream",
          "text": [
            "Valores nulos en la columna league_id: 0\n"
          ]
        }
      ],
      "source": [
        "# Se realiza el conteo de la cantidad de valores nulos en el campo league_id\n",
        "print(f'Valores nulos en la columna league_id:', df_leagues_cleaned[\"league_id\"].isnull().sum())"
      ]
    },
    {
      "cell_type": "code",
      "execution_count": 154,
      "metadata": {
        "colab": {
          "base_uri": "https://localhost:8080/"
        },
        "id": "RZjDTHAWO_xv",
        "outputId": "545feb4c-2188-48a3-9bf4-b36b70bd0bc9"
      },
      "outputs": [
        {
          "data": {
            "text/plain": [
              "{'year': 2008,\n",
              " 'start': '2008-06-07',\n",
              " 'end': '2008-06-29',\n",
              " 'current': False,\n",
              " 'coverage': {'fixtures': {'events': True,\n",
              "   'lineups': True,\n",
              "   'statistics_fixtures': False,\n",
              "   'statistics_players': False},\n",
              "  'standings': False,\n",
              "  'players': True,\n",
              "  'top_scorers': True,\n",
              "  'top_assists': True,\n",
              "  'top_cards': True,\n",
              "  'injuries': False,\n",
              "  'predictions': True,\n",
              "  'odds': False}}"
            ]
          },
          "execution_count": 154,
          "metadata": {},
          "output_type": "execute_result"
        }
      ],
      "source": [
        "# Se verifica que la columna 'seasons' contiene listas de diccionarios.\n",
        "# Aquí se muestra solo el primer diccionario como ejemplo\n",
        "df_leagues_cleaned[\"seasons\"].iloc[0][0]"
      ]
    },
    {
      "cell_type": "code",
      "execution_count": 155,
      "metadata": {
        "id": "G7fUqynW7cb5"
      },
      "outputs": [],
      "source": [
        "# La columna 'seasons' almacena listas de diccionarios con todas las temporadas de cada liga.\n",
        "# Este formato no es práctico para el análisis, ya que mezcla estructuras anidadas en una sola celda.\n",
        "# Para simplificar y hacer el DataFrame más manejable, se extraen tres valores clave:\n",
        "#   - min_year: primer año con datos\n",
        "#   - max_year: último año con datos\n",
        "#   - current_year: temporada actual\n",
        "# Finalmente, se elimina la columna original 'seasons', dejando solo datos atómicos y más útiles."
      ]
    },
    {
      "cell_type": "code",
      "execution_count": 156,
      "metadata": {
        "id": "KV7HPyqSQ2Sg"
      },
      "outputs": [],
      "source": [
        " # min_year (primer año con datos)\n",
        "# Se extrae el primer año disponible en cada liga desde la columna 'seasons'\n",
        "df_leagues_cleaned[\"min_year\"] = df_leagues_cleaned[\"seasons\"].apply(\n",
        "    lambda temporadas: min(t[\"year\"] for t in temporadas)\n",
        ")"
      ]
    },
    {
      "cell_type": "code",
      "execution_count": 157,
      "metadata": {
        "id": "sa80QD9QpTCM"
      },
      "outputs": [],
      "source": [
        "# max_year (último año con datos)\n",
        "# Se extrae el último año disponible en cada liga desde la columna 'seasons'\n",
        "df_leagues_cleaned[\"max_year\"] = df_leagues_cleaned[\"seasons\"].apply(\n",
        "    lambda temporadas: max(t[\"year\"] for t in temporadas)\n",
        ")"
      ]
    },
    {
      "cell_type": "code",
      "execution_count": 158,
      "metadata": {
        "id": "lPB-IsK7pBm3"
      },
      "outputs": [],
      "source": [
        "# Se crea la columna 'current_year'\n",
        "# A partir de la columna 'seasons' se busca la temporada con current=True.\n",
        "# De esa temporada se extrae el campo 'year' y se asigna a la nueva columna 'current_year'.\n",
        "# Esta variable es distinta de 'max_year':\n",
        "#   - 'max_year' indica el último año registrado en la historia de la liga.\n",
        "#   - 'current_year' señala el año de la temporada que la API considera vigente en este momento.\n",
        "# De este modo, se puede diferenciar entre la última temporada registrada y la temporada activa\n",
        "df_leagues_cleaned[\"current_year\"] = df_leagues_cleaned[\"seasons\"].apply(\n",
        "    lambda temporadas: next((t[\"year\"] for t in temporadas if t[\"current\"]), None)\n",
        ")"
      ]
    },
    {
      "cell_type": "code",
      "execution_count": 159,
      "metadata": {
        "colab": {
          "base_uri": "https://localhost:8080/"
        },
        "id": "qymKDZ4GsXYr",
        "outputId": "add173d5-f970-4c3d-e891-55a782bae2e9"
      },
      "outputs": [
        {
          "name": "stdout",
          "output_type": "stream",
          "text": [
            "Valores nulos en la columna current_year: 1\n"
          ]
        }
      ],
      "source": [
        "# Se verifican la cantidad de nulos de la nueva columna \"current_year\"\n",
        "print(f'Valores nulos en la columna current_year:', df_leagues_cleaned[\"current_year\"].isnull().sum())"
      ]
    },
    {
      "cell_type": "code",
      "execution_count": 160,
      "metadata": {
        "colab": {
          "base_uri": "https://localhost:8080/"
        },
        "id": "Ewg4GofZvCnl",
        "outputId": "ab293094-8d1f-49ea-c927-1202b40d814a"
      },
      "outputs": [
        {
          "data": {
            "text/html": [
              "<div>\n",
              "<style scoped>\n",
              "    .dataframe tbody tr th:only-of-type {\n",
              "        vertical-align: middle;\n",
              "    }\n",
              "\n",
              "    .dataframe tbody tr th {\n",
              "        vertical-align: top;\n",
              "    }\n",
              "\n",
              "    .dataframe thead th {\n",
              "        text-align: right;\n",
              "    }\n",
              "</style>\n",
              "<table border=\"1\" class=\"dataframe\">\n",
              "  <thead>\n",
              "    <tr style=\"text-align: right;\">\n",
              "      <th></th>\n",
              "      <th>seasons</th>\n",
              "      <th>league_id</th>\n",
              "      <th>league_name</th>\n",
              "      <th>league_type</th>\n",
              "      <th>league_logo</th>\n",
              "      <th>country_name</th>\n",
              "      <th>country_code</th>\n",
              "      <th>country_flag</th>\n",
              "      <th>min_year</th>\n",
              "      <th>max_year</th>\n",
              "      <th>current_year</th>\n",
              "    </tr>\n",
              "  </thead>\n",
              "  <tbody>\n",
              "    <tr>\n",
              "      <th>900</th>\n",
              "      <td>[{'year': 2022, 'start': '2022-01-20', 'end': ...</td>\n",
              "      <td>897</td>\n",
              "      <td>Asian Cup Women</td>\n",
              "      <td>Cup</td>\n",
              "      <td>https://media.api-sports.io/football/leagues/8...</td>\n",
              "      <td>World</td>\n",
              "      <td>None</td>\n",
              "      <td>None</td>\n",
              "      <td>2022</td>\n",
              "      <td>2022</td>\n",
              "      <td>NaN</td>\n",
              "    </tr>\n",
              "  </tbody>\n",
              "</table>\n",
              "</div>"
            ],
            "text/plain": [
              "                                               seasons  league_id  \\\n",
              "900  [{'year': 2022, 'start': '2022-01-20', 'end': ...        897   \n",
              "\n",
              "         league_name league_type  \\\n",
              "900  Asian Cup Women         Cup   \n",
              "\n",
              "                                           league_logo country_name  \\\n",
              "900  https://media.api-sports.io/football/leagues/8...        World   \n",
              "\n",
              "    country_code country_flag  min_year  max_year  current_year  \n",
              "900         None         None      2022      2022           NaN  "
            ]
          },
          "execution_count": 160,
          "metadata": {},
          "output_type": "execute_result"
        }
      ],
      "source": [
        "# Mostrar las filas donde current_year es nulo\n",
        "df_leagues_cleaned[df_leagues_cleaned[\"current_year\"].isnull()]"
      ]
    },
    {
      "cell_type": "code",
      "execution_count": 161,
      "metadata": {
        "id": "2ACDmGQfsXcO"
      },
      "outputs": [],
      "source": [
        "# Se elimina fila donde current_year es nulo\n",
        "df_leagues_cleaned = df_leagues_cleaned.dropna(subset=[\"current_year\"])"
      ]
    },
    {
      "cell_type": "code",
      "execution_count": 162,
      "metadata": {
        "colab": {
          "base_uri": "https://localhost:8080/"
        },
        "id": "Kckupq1zvhje",
        "outputId": "11cb2aea-ee34-4122-a90e-43e6b6723e1f"
      },
      "outputs": [
        {
          "name": "stdout",
          "output_type": "stream",
          "text": [
            "Valores nulos en la columna current_year: 0\n"
          ]
        }
      ],
      "source": [
        "# Se chequea que se eliminó correctamente el valor nulo de \"current_year\"\n",
        "print(f'Valores nulos en la columna current_year:', df_leagues_cleaned[\"current_year\"].isnull().sum())"
      ]
    },
    {
      "cell_type": "code",
      "execution_count": 163,
      "metadata": {
        "id": "3kuzGdI2vhmL"
      },
      "outputs": [],
      "source": [
        "# Se procede a transformar la columna a tipo int\n",
        "df_leagues_cleaned[\"current_year\"] = df_leagues_cleaned[\"current_year\"].astype(int)"
      ]
    },
    {
      "cell_type": "code",
      "execution_count": 164,
      "metadata": {
        "id": "6O9Vo288w3RL"
      },
      "outputs": [],
      "source": [
        "# Se elimina la columna \"seasons\", dado que ya fueron extraidos los datos necesarios a través de las tres columnas creadas anteriormente\n",
        "df_leagues_cleaned = df_leagues_cleaned.drop(columns=[\"seasons\"])"
      ]
    },
    {
      "cell_type": "code",
      "execution_count": 165,
      "metadata": {
        "colab": {
          "base_uri": "https://localhost:8080/"
        },
        "id": "sHSffyrh-t-i",
        "outputId": "b6e57023-ae03-4bdf-a661-403ebe139cb2"
      },
      "outputs": [
        {
          "name": "stdout",
          "output_type": "stream",
          "text": [
            "<class 'pandas.core.frame.DataFrame'>\n",
            "Index: 1192 entries, 0 to 1192\n",
            "Data columns (total 10 columns):\n",
            " #   Column        Non-Null Count  Dtype \n",
            "---  ------        --------------  ----- \n",
            " 0   league_id     1192 non-null   int64 \n",
            " 1   league_name   1192 non-null   object\n",
            " 2   league_type   1192 non-null   object\n",
            " 3   league_logo   1192 non-null   object\n",
            " 4   country_name  1192 non-null   object\n",
            " 5   country_code  1025 non-null   object\n",
            " 6   country_flag  1025 non-null   object\n",
            " 7   min_year      1192 non-null   int64 \n",
            " 8   max_year      1192 non-null   int64 \n",
            " 9   current_year  1192 non-null   int32 \n",
            "dtypes: int32(1), int64(3), object(6)\n",
            "memory usage: 516.5 KB\n"
          ]
        }
      ],
      "source": [
        "# Se consulta cuánto espacio en memoria ocupa el DataFrame antes de castear las columnas de con datos de tipo \"object\"\n",
        "df_leagues_cleaned.info(memory_usage='deep')"
      ]
    },
    {
      "cell_type": "code",
      "execution_count": 166,
      "metadata": {},
      "outputs": [
        {
          "name": "stdout",
          "output_type": "stream",
          "text": [
            "league_name: 963 valores únicos\n",
            "league_type: 2 valores únicos\n",
            "league_logo: 1192 valores únicos\n",
            "country_name: 171 valores únicos\n",
            "country_code: 169 valores únicos\n",
            "country_flag: 169 valores únicos\n"
          ]
        }
      ],
      "source": [
        "# Se calcula la cantidad de valores únicos en columnas de texto del DataFrame de ligas.\n",
        "# Este análisis ayuda a decidir cuáles conviene transformar a category (baja cardinalidad)\n",
        "# y cuáles mantener como string (alta cardinalidad o mayor dispersión).\n",
        "cols_to_check = [\n",
        "    \"league_name\",\n",
        "    \"league_type\",\n",
        "    \"league_logo\",\n",
        "    \"country_name\",\n",
        "    \"country_code\",\n",
        "    \"country_flag\"\n",
        "]\n",
        "\n",
        "for col in cols_to_check:\n",
        "    n_unique = df_leagues_cleaned[col].nunique(dropna=True)\n",
        "    print(f\"{col}: {n_unique} valores únicos\")"
      ]
    },
    {
      "cell_type": "code",
      "execution_count": 167,
      "metadata": {},
      "outputs": [],
      "source": [
        "# Casteo de columnas en df_leagues_cleaned\n",
        "# - league_type → category (2 valores únicos, alta repetición)\n",
        "# - resto de columnas de texto → string (alta cardinalidad o dispersión)\n",
        "type_mapping_leagues = {\n",
        "    \"league_name\": \"string\",\n",
        "    \"league_type\": \"category\",\n",
        "    \"league_logo\": \"string\",\n",
        "    \"country_name\": \"string\",\n",
        "    \"country_code\": \"string\",\n",
        "    \"country_flag\": \"string\"\n",
        "}\n",
        "\n",
        "df_leagues_cleaned = df_leagues_cleaned.astype(type_mapping_leagues)"
      ]
    },
    {
      "cell_type": "code",
      "execution_count": 168,
      "metadata": {
        "colab": {
          "base_uri": "https://localhost:8080/"
        },
        "id": "JkZxZjHZ1CYd",
        "outputId": "cf7fa7fe-9953-4fd0-eed3-70f27ba06b4b"
      },
      "outputs": [
        {
          "name": "stdout",
          "output_type": "stream",
          "text": [
            "<class 'pandas.core.frame.DataFrame'>\n",
            "Index: 1192 entries, 0 to 1192\n",
            "Data columns (total 10 columns):\n",
            " #   Column        Non-Null Count  Dtype   \n",
            "---  ------        --------------  -----   \n",
            " 0   league_id     1192 non-null   int64   \n",
            " 1   league_name   1192 non-null   string  \n",
            " 2   league_type   1192 non-null   category\n",
            " 3   league_logo   1192 non-null   string  \n",
            " 4   country_name  1192 non-null   string  \n",
            " 5   country_code  1025 non-null   string  \n",
            " 6   country_flag  1025 non-null   string  \n",
            " 7   min_year      1192 non-null   int64   \n",
            " 8   max_year      1192 non-null   int64   \n",
            " 9   current_year  1192 non-null   int32   \n",
            "dtypes: category(1), int32(1), int64(3), string(5)\n",
            "memory usage: 465.5 KB\n"
          ]
        }
      ],
      "source": [
        "# Se verifica una reducción del uso de la memoria luego de transformar el tipo de datos de \"object\" a \"category\"\n",
        "df_leagues_cleaned.info(memory_usage='deep')"
      ]
    },
    {
      "cell_type": "markdown",
      "metadata": {
        "id": "uhnq1mR5Sdc_"
      },
      "source": [
        "### *Capa Silver: guardado en formato Delta Lake de datos estáticos*\n",
        "Se almacenan los datos de ligas ya transformados en la capa Silver,\n",
        "sobrescribiendo versiones previas.  \n",
        "La verificación posterior muestra la cantidad de filas y columnas guardadas."
      ]
    },
    {
      "cell_type": "code",
      "execution_count": 169,
      "metadata": {
        "id": "90pdFYx5SmnG"
      },
      "outputs": [],
      "source": [
        "# Directorios Silver\n",
        "# Contendrán los datos ya transformados y normalizados desde Bronze.\n",
        "silver_dir = f\"{datalake_root}/silver/api_football\""
      ]
    },
    {
      "cell_type": "code",
      "execution_count": 170,
      "metadata": {},
      "outputs": [],
      "source": [
        "# Subcarpeta para almacenar las ligas procesadas en Silver\n",
        "leagues_silver_dir = f\"{silver_dir}/leagues\""
      ]
    },
    {
      "cell_type": "code",
      "execution_count": 171,
      "metadata": {
        "id": "nFydje1MSmp8"
      },
      "outputs": [],
      "source": [
        "# Guardado en Silver (datos estáticos ya transformados)\n",
        "save_data_as_delta(df_leagues_cleaned, leagues_silver_dir, mode=\"overwrite\")"
      ]
    },
    {
      "cell_type": "code",
      "execution_count": 172,
      "metadata": {
        "colab": {
          "base_uri": "https://localhost:8080/"
        },
        "id": "aWdeKbB3_C9k",
        "outputId": "d1398cd0-a646-40d3-ca8c-1314905b4c0a"
      },
      "outputs": [
        {
          "data": {
            "text/plain": [
              "(1192, 10)"
            ]
          },
          "execution_count": 172,
          "metadata": {},
          "output_type": "execute_result"
        }
      ],
      "source": [
        "# Verificación: cantidad de filas y columnas guardadas\n",
        "df_leagues_cleaned.shape"
      ]
    },
    {
      "cell_type": "markdown",
      "metadata": {
        "id": "Btf2qlAg9WoR"
      },
      "source": [
        "## *5.2 Transformaciones: datos dinámicos: df_fixtures*\n",
        "Se trabaja con el DataFrame *df_fixtures*, que contiene información detallada de los partidos, incluyendo fecha, hora, equipos, marcador, estado y liga, entre otros.\n",
        "\n",
        "Se utiliza la función *read_most_recent_partition* para leer sólo la partición más reciente de la tabla Delta Lake en Bronze (particionada por 'event_date').\n",
        "Esto evita volver a cargar todo el histórico y nos permite trabajar sólo con el\n",
        "subconjunto incremental de datos (la fecha más reciente)."
      ]
    },
    {
      "cell_type": "code",
      "execution_count": 173,
      "metadata": {
        "colab": {
          "base_uri": "https://localhost:8080/"
        },
        "id": "dRDm5Cgj-uef",
        "outputId": "7b0bd72e-4520-469a-cd6d-65f63d124c57"
      },
      "outputs": [],
      "source": [
        "df_fixtures_bronze = read_most_recent_partition(fixtures_dir)"
      ]
    },
    {
      "cell_type": "code",
      "execution_count": 174,
      "metadata": {
        "id": "IX4PVwK_dqzq"
      },
      "outputs": [],
      "source": [
        "# Se renombra el DataFrame leído desde Bronze (df_fixtures_bronze) como df_fixtures_cleaned,\n",
        "# para comenzar a trabajar en el proceso de limpieza y transformaciones.\n",
        "df_fixtures_cleaned = df_fixtures_bronze"
      ]
    },
    {
      "cell_type": "code",
      "execution_count": 175,
      "metadata": {
        "colab": {
          "base_uri": "https://localhost:8080/",
          "height": 245
        },
        "id": "zAUs-SDK-uiQ",
        "outputId": "0af53d00-0915-480d-def9-aa6fe08fa719"
      },
      "outputs": [
        {
          "data": {
            "text/html": [
              "<div>\n",
              "<style scoped>\n",
              "    .dataframe tbody tr th:only-of-type {\n",
              "        vertical-align: middle;\n",
              "    }\n",
              "\n",
              "    .dataframe tbody tr th {\n",
              "        vertical-align: top;\n",
              "    }\n",
              "\n",
              "    .dataframe thead th {\n",
              "        text-align: right;\n",
              "    }\n",
              "</style>\n",
              "<table border=\"1\" class=\"dataframe\">\n",
              "  <thead>\n",
              "    <tr style=\"text-align: right;\">\n",
              "      <th></th>\n",
              "      <th>fixture_id</th>\n",
              "      <th>fixture_referee</th>\n",
              "      <th>fixture_timezone</th>\n",
              "      <th>fixture_date</th>\n",
              "      <th>fixture_timestamp</th>\n",
              "      <th>fixture_periods_first</th>\n",
              "      <th>fixture_periods_second</th>\n",
              "      <th>fixture_venue_id</th>\n",
              "      <th>fixture_venue_name</th>\n",
              "      <th>fixture_venue_city</th>\n",
              "      <th>fixture_status_long</th>\n",
              "      <th>fixture_status_short</th>\n",
              "      <th>fixture_status_elapsed</th>\n",
              "      <th>fixture_status_extra</th>\n",
              "      <th>league_id</th>\n",
              "      <th>league_name</th>\n",
              "      <th>league_country</th>\n",
              "      <th>league_logo</th>\n",
              "      <th>league_flag</th>\n",
              "      <th>league_season</th>\n",
              "      <th>league_round</th>\n",
              "      <th>league_standings</th>\n",
              "      <th>teams_home_id</th>\n",
              "      <th>teams_home_name</th>\n",
              "      <th>teams_home_logo</th>\n",
              "      <th>teams_home_winner</th>\n",
              "      <th>teams_away_id</th>\n",
              "      <th>teams_away_name</th>\n",
              "      <th>teams_away_logo</th>\n",
              "      <th>teams_away_winner</th>\n",
              "      <th>goals_home</th>\n",
              "      <th>goals_away</th>\n",
              "      <th>score_halftime_home</th>\n",
              "      <th>score_halftime_away</th>\n",
              "      <th>score_fulltime_home</th>\n",
              "      <th>score_fulltime_away</th>\n",
              "      <th>score_extratime_home</th>\n",
              "      <th>score_extratime_away</th>\n",
              "      <th>score_penalty_home</th>\n",
              "      <th>score_penalty_away</th>\n",
              "      <th>event_date</th>\n",
              "    </tr>\n",
              "  </thead>\n",
              "  <tbody>\n",
              "    <tr>\n",
              "      <th>0</th>\n",
              "      <td>1438842</td>\n",
              "      <td>Sergio Rozenhaut</td>\n",
              "      <td>UTC</td>\n",
              "      <td>2025-09-24 00:00:00+00:00</td>\n",
              "      <td>1758672000</td>\n",
              "      <td>1.758672e+09</td>\n",
              "      <td>1.758676e+09</td>\n",
              "      <td>3905.0</td>\n",
              "      <td>Hasely Crawford Stadium</td>\n",
              "      <td>Port of Spain</td>\n",
              "      <td>Match Finished</td>\n",
              "      <td>FT</td>\n",
              "      <td>90.0</td>\n",
              "      <td>6.0</td>\n",
              "      <td>856</td>\n",
              "      <td>CONCACAF Caribbean Club Championship</td>\n",
              "      <td>World</td>\n",
              "      <td>https://media.api-sports.io/football/leagues/8...</td>\n",
              "      <td>None</td>\n",
              "      <td>2025</td>\n",
              "      <td>Group Stage - 4</td>\n",
              "      <td>False</td>\n",
              "      <td>8005</td>\n",
              "      <td>Central</td>\n",
              "      <td>https://media.api-sports.io/football/teams/800...</td>\n",
              "      <td>False</td>\n",
              "      <td>3442</td>\n",
              "      <td>Mount Pleasant Academy</td>\n",
              "      <td>https://media.api-sports.io/football/teams/344...</td>\n",
              "      <td>True</td>\n",
              "      <td>0.0</td>\n",
              "      <td>2.0</td>\n",
              "      <td>0.0</td>\n",
              "      <td>0.0</td>\n",
              "      <td>0.0</td>\n",
              "      <td>2.0</td>\n",
              "      <td>NaN</td>\n",
              "      <td>NaN</td>\n",
              "      <td>NaN</td>\n",
              "      <td>NaN</td>\n",
              "      <td>2025-09-24</td>\n",
              "    </tr>\n",
              "    <tr>\n",
              "      <th>1</th>\n",
              "      <td>1438843</td>\n",
              "      <td>Reginald Gumbs</td>\n",
              "      <td>UTC</td>\n",
              "      <td>2025-09-24 00:00:00+00:00</td>\n",
              "      <td>1758672000</td>\n",
              "      <td>1.758672e+09</td>\n",
              "      <td>1.758676e+09</td>\n",
              "      <td>22458.0</td>\n",
              "      <td>Estadio Cibao</td>\n",
              "      <td>Santiago De Los Caballeros</td>\n",
              "      <td>Match Finished</td>\n",
              "      <td>FT</td>\n",
              "      <td>90.0</td>\n",
              "      <td>NaN</td>\n",
              "      <td>856</td>\n",
              "      <td>CONCACAF Caribbean Club Championship</td>\n",
              "      <td>World</td>\n",
              "      <td>https://media.api-sports.io/football/leagues/8...</td>\n",
              "      <td>None</td>\n",
              "      <td>2025</td>\n",
              "      <td>Group Stage - 4</td>\n",
              "      <td>False</td>\n",
              "      <td>4446</td>\n",
              "      <td>Juventus</td>\n",
              "      <td>https://media.api-sports.io/football/teams/444...</td>\n",
              "      <td>False</td>\n",
              "      <td>8004</td>\n",
              "      <td>Cibao</td>\n",
              "      <td>https://media.api-sports.io/football/teams/800...</td>\n",
              "      <td>True</td>\n",
              "      <td>0.0</td>\n",
              "      <td>3.0</td>\n",
              "      <td>0.0</td>\n",
              "      <td>2.0</td>\n",
              "      <td>0.0</td>\n",
              "      <td>3.0</td>\n",
              "      <td>NaN</td>\n",
              "      <td>NaN</td>\n",
              "      <td>NaN</td>\n",
              "      <td>NaN</td>\n",
              "      <td>2025-09-24</td>\n",
              "    </tr>\n",
              "    <tr>\n",
              "      <th>2</th>\n",
              "      <td>1441147</td>\n",
              "      <td>None</td>\n",
              "      <td>UTC</td>\n",
              "      <td>2025-09-24 00:00:00+00:00</td>\n",
              "      <td>1758672000</td>\n",
              "      <td>NaN</td>\n",
              "      <td>NaN</td>\n",
              "      <td>NaN</td>\n",
              "      <td>None</td>\n",
              "      <td>None</td>\n",
              "      <td>Match Postponed</td>\n",
              "      <td>PST</td>\n",
              "      <td>NaN</td>\n",
              "      <td>NaN</td>\n",
              "      <td>243</td>\n",
              "      <td>Liga Pro Serie B</td>\n",
              "      <td>Ecuador</td>\n",
              "      <td>https://media.api-sports.io/football/leagues/2...</td>\n",
              "      <td>https://media.api-sports.io/flags/ec.svg</td>\n",
              "      <td>2025</td>\n",
              "      <td>Relegation Round - 5</td>\n",
              "      <td>True</td>\n",
              "      <td>1983</td>\n",
              "      <td>Imbabura</td>\n",
              "      <td>https://media.api-sports.io/football/teams/198...</td>\n",
              "      <td>None</td>\n",
              "      <td>25736</td>\n",
              "      <td>22 de Julio</td>\n",
              "      <td>https://media.api-sports.io/football/teams/257...</td>\n",
              "      <td>None</td>\n",
              "      <td>NaN</td>\n",
              "      <td>NaN</td>\n",
              "      <td>NaN</td>\n",
              "      <td>NaN</td>\n",
              "      <td>NaN</td>\n",
              "      <td>NaN</td>\n",
              "      <td>NaN</td>\n",
              "      <td>NaN</td>\n",
              "      <td>NaN</td>\n",
              "      <td>NaN</td>\n",
              "      <td>2025-09-24</td>\n",
              "    </tr>\n",
              "  </tbody>\n",
              "</table>\n",
              "</div>"
            ],
            "text/plain": [
              "   fixture_id   fixture_referee fixture_timezone              fixture_date  \\\n",
              "0     1438842  Sergio Rozenhaut              UTC 2025-09-24 00:00:00+00:00   \n",
              "1     1438843    Reginald Gumbs              UTC 2025-09-24 00:00:00+00:00   \n",
              "2     1441147              None              UTC 2025-09-24 00:00:00+00:00   \n",
              "\n",
              "   fixture_timestamp  fixture_periods_first  fixture_periods_second  \\\n",
              "0         1758672000           1.758672e+09            1.758676e+09   \n",
              "1         1758672000           1.758672e+09            1.758676e+09   \n",
              "2         1758672000                    NaN                     NaN   \n",
              "\n",
              "   fixture_venue_id       fixture_venue_name          fixture_venue_city  \\\n",
              "0            3905.0  Hasely Crawford Stadium               Port of Spain   \n",
              "1           22458.0            Estadio Cibao  Santiago De Los Caballeros   \n",
              "2               NaN                     None                        None   \n",
              "\n",
              "  fixture_status_long fixture_status_short  fixture_status_elapsed  \\\n",
              "0      Match Finished                   FT                    90.0   \n",
              "1      Match Finished                   FT                    90.0   \n",
              "2     Match Postponed                  PST                     NaN   \n",
              "\n",
              "   fixture_status_extra  league_id                           league_name  \\\n",
              "0                   6.0        856  CONCACAF Caribbean Club Championship   \n",
              "1                   NaN        856  CONCACAF Caribbean Club Championship   \n",
              "2                   NaN        243                      Liga Pro Serie B   \n",
              "\n",
              "  league_country                                        league_logo  \\\n",
              "0          World  https://media.api-sports.io/football/leagues/8...   \n",
              "1          World  https://media.api-sports.io/football/leagues/8...   \n",
              "2        Ecuador  https://media.api-sports.io/football/leagues/2...   \n",
              "\n",
              "                                league_flag  league_season  \\\n",
              "0                                      None           2025   \n",
              "1                                      None           2025   \n",
              "2  https://media.api-sports.io/flags/ec.svg           2025   \n",
              "\n",
              "           league_round  league_standings  teams_home_id teams_home_name  \\\n",
              "0       Group Stage - 4             False           8005         Central   \n",
              "1       Group Stage - 4             False           4446        Juventus   \n",
              "2  Relegation Round - 5              True           1983        Imbabura   \n",
              "\n",
              "                                     teams_home_logo teams_home_winner  \\\n",
              "0  https://media.api-sports.io/football/teams/800...             False   \n",
              "1  https://media.api-sports.io/football/teams/444...             False   \n",
              "2  https://media.api-sports.io/football/teams/198...              None   \n",
              "\n",
              "   teams_away_id         teams_away_name  \\\n",
              "0           3442  Mount Pleasant Academy   \n",
              "1           8004                   Cibao   \n",
              "2          25736             22 de Julio   \n",
              "\n",
              "                                     teams_away_logo teams_away_winner  \\\n",
              "0  https://media.api-sports.io/football/teams/344...              True   \n",
              "1  https://media.api-sports.io/football/teams/800...              True   \n",
              "2  https://media.api-sports.io/football/teams/257...              None   \n",
              "\n",
              "   goals_home  goals_away  score_halftime_home  score_halftime_away  \\\n",
              "0         0.0         2.0                  0.0                  0.0   \n",
              "1         0.0         3.0                  0.0                  2.0   \n",
              "2         NaN         NaN                  NaN                  NaN   \n",
              "\n",
              "   score_fulltime_home  score_fulltime_away  score_extratime_home  \\\n",
              "0                  0.0                  2.0                   NaN   \n",
              "1                  0.0                  3.0                   NaN   \n",
              "2                  NaN                  NaN                   NaN   \n",
              "\n",
              "   score_extratime_away  score_penalty_home  score_penalty_away  event_date  \n",
              "0                   NaN                 NaN                 NaN  2025-09-24  \n",
              "1                   NaN                 NaN                 NaN  2025-09-24  \n",
              "2                   NaN                 NaN                 NaN  2025-09-24  "
            ]
          },
          "execution_count": 175,
          "metadata": {},
          "output_type": "execute_result"
        }
      ],
      "source": [
        "# Se renombran columnas, reemplazando caracteres: se cambian los puntos por guiones\n",
        "\n",
        "df_fixtures_cleaned = df_fixtures_cleaned.rename(\n",
        "                        columns = lambda columna: columna.lower().replace(\".\", \"_\"),\n",
        "                        )\n",
        "\n",
        "# Vista preliminar de los cambios\n",
        "df_fixtures_cleaned.head(3)"
      ]
    },
    {
      "cell_type": "code",
      "execution_count": 176,
      "metadata": {
        "id": "gfDg8b4fVsVw"
      },
      "outputs": [],
      "source": [
        "# Se formatea columna 'fixture_date'\n",
        "# La columna 'fixture_date' contiene la fecha y hora programada del partido en formato string/UTC.\n",
        "# Se convierte a datetime para trabajar con un formato legible y consistente,\n",
        "# contemplando día, mes, año, hora y minutos, y conservando la zona horaria UTC (+00:00).\n",
        "df_fixtures_cleaned[\"fixture_date\"] = pd.to_datetime(\n",
        "    df_fixtures_cleaned[\"fixture_date\"], utc=True\n",
        ").dt.floor(\"min\")"
      ]
    },
    {
      "cell_type": "code",
      "execution_count": 177,
      "metadata": {
        "id": "qgKIqppc7TU7"
      },
      "outputs": [],
      "source": [
        "# Se formatea la columna 'fixture_periods_first'\n",
        "# Esta columna está en formato UNIX (segundos desde 1970-01-01 UTC).\n",
        "# Se convierte a datetime para obtener una fecha y hora legibles,\n",
        "# contemplando día, mes, año, hora y minutos, pero descartando los segundos (ya que la API no provee ese nivel de detalle).\n",
        "df_fixtures_cleaned[\"fixture_periods_first\"] = pd.to_datetime(\n",
        "    df_fixtures_cleaned[\"fixture_periods_first\"], unit=\"s\", utc=True\n",
        ").dt.floor(\"min\")"
      ]
    },
    {
      "cell_type": "code",
      "execution_count": 178,
      "metadata": {
        "id": "TF3ZfIHwUUwB"
      },
      "outputs": [],
      "source": [
        "# Se formatea la columna 'fixture_periods_second'\n",
        "df_fixtures_cleaned[\"fixture_periods_second\"] = pd.to_datetime(\n",
        "    df_fixtures_cleaned[\"fixture_periods_second\"], unit=\"s\", utc=True\n",
        ").dt.floor(\"min\")"
      ]
    },
    {
      "cell_type": "code",
      "execution_count": 179,
      "metadata": {
        "id": "-o0qhTkHYuwg"
      },
      "outputs": [],
      "source": [
        "# Se eliminan columnas no relevantes, sin impacto en el análisis posterior\n",
        "cols_drop = [\n",
        "    \"fixture_referee\",\n",
        "    \"fixture_timezone\",\n",
        "    \"fixture_timestamp\",\n",
        "    \"fixture_periods_second\",\n",
        "    \"fixture_status_long\",\n",
        "    \"fixture_status_extra\",\n",
        "    \"league_logo\",\n",
        "    \"league_flag\",\n",
        "    \"teams_home_logo\",\n",
        "    \"teams_away_logo\",\n",
        "]\n",
        "\n",
        "df_fixtures_cleaned = df_fixtures_cleaned.drop(columns=cols_drop)"
      ]
    },
    {
      "cell_type": "code",
      "execution_count": 180,
      "metadata": {
        "colab": {
          "base_uri": "https://localhost:8080/"
        },
        "id": "fNx72kyliLCe",
        "outputId": "ebf497b8-d42e-4c90-aacd-3fe72a50c13d"
      },
      "outputs": [
        {
          "name": "stdout",
          "output_type": "stream",
          "text": [
            "Nulos en 'teams_home_winner': 153\n",
            "Nulos en 'teams_away_winner': 153\n",
            "\n",
            "Valores únicos en teams_home_winner: [False None True]\n",
            "Valores únicos en teams_away_winner: [True None False]\n"
          ]
        }
      ],
      "source": [
        "# Se revisa la calidad de las columnas \"teams_home_winner\" y \"teams_away_winner\".\n",
        "# Ambas suelen contener muchos nulos (NaN) y son redundantes,\n",
        "# ya que el resultado puede derivarse de los goles (\"goals_home\" y \"goals_away\").\n",
        "# En este chequeo se cuentan los nulos y se listan los valores únicos presentes.\n",
        "print(\"Nulos en 'teams_home_winner':\", df_fixtures_cleaned[\"teams_home_winner\"].isnull().sum())\n",
        "print(\"Nulos en 'teams_away_winner':\", df_fixtures_cleaned[\"teams_away_winner\"].isnull().sum())\n",
        "print(\"\\nValores únicos en teams_home_winner:\", df_fixtures_cleaned[\"teams_home_winner\"].unique())\n",
        "print(\"Valores únicos en teams_away_winner:\", df_fixtures_cleaned[\"teams_away_winner\"].unique())"
      ]
    },
    {
      "cell_type": "code",
      "execution_count": 181,
      "metadata": {
        "id": "AWydtWhTNn3h"
      },
      "outputs": [],
      "source": [
        "# Se crea la columna \"match_winner\"\n",
        "# A partir de los goles de local (\"goals_home\") y visitante (\"goals_away\"),\n",
        "# se determina el resultado del partido:\n",
        "#   - \"Home\": si gana el equipo local\n",
        "#   - \"Away\": si gana el equipo visitante\n",
        "#   - \"Draw\": en caso de empate\n",
        "# Si faltan datos de goles (valores nulos), la salida también será nula (pd.NA) para no inducir un empate inexistente.\n",
        "# Esta columna reemplaza a 'teams_home_winner' y 'teams_away_winner', que resultaron incompletas y redundantes.\n",
        "df_fixtures_cleaned[\"match_winner\"] = df_fixtures_cleaned.apply(\n",
        "    lambda row: (\n",
        "        \"Home\" if pd.notna(row[\"goals_home\"]) and pd.notna(row[\"goals_away\"]) and row[\"goals_home\"] > row[\"goals_away\"]\n",
        "        else \"Away\" if pd.notna(row[\"goals_home\"]) and pd.notna(row[\"goals_away\"]) and row[\"goals_home\"] < row[\"goals_away\"]\n",
        "        else \"Draw\" if pd.notna(row[\"goals_home\"]) and pd.notna(row[\"goals_away\"]) and row[\"goals_home\"] == row[\"goals_away\"]\n",
        "        else pd.NA\n",
        "    ),\n",
        "    axis=1\n",
        ")"
      ]
    },
    {
      "cell_type": "code",
      "execution_count": 182,
      "metadata": {
        "colab": {
          "base_uri": "https://localhost:8080/"
        },
        "id": "PgJWGJr4gGV-",
        "outputId": "ba424bb6-1107-412e-a632-2d7ce67fd117"
      },
      "outputs": [
        {
          "name": "stdout",
          "output_type": "stream",
          "text": [
            "Valores nulos en 'match_winner': 54\n"
          ]
        }
      ],
      "source": [
        "# Se verifica que la nueva columna 'match_winner' presenta menos nulos, mejorando la calidad de los datos\n",
        "print(\"Valores nulos en 'match_winner':\", df_fixtures_cleaned[\"match_winner\"].isnull().sum())"
      ]
    },
    {
      "cell_type": "code",
      "execution_count": 183,
      "metadata": {
        "colab": {
          "base_uri": "https://localhost:8080/"
        },
        "id": "DMzJ-8hkNz8m",
        "outputId": "e9efa1a2-5c13-41b8-9f1c-8fd63d666c4f"
      },
      "outputs": [
        {
          "data": {
            "text/plain": [
              "array(['Away', <NA>, 'Draw', 'Home'], dtype=object)"
            ]
          },
          "execution_count": 183,
          "metadata": {},
          "output_type": "execute_result"
        }
      ],
      "source": [
        "# Se verifica que la columna 'match_winner' contenga solo los valores esperados (\"Home\", \"Away\", \"Draw\", NA).\n",
        "df_fixtures_cleaned[\"match_winner\"].unique()"
      ]
    },
    {
      "cell_type": "code",
      "execution_count": 184,
      "metadata": {
        "id": "YeFMNE36QH1Q"
      },
      "outputs": [],
      "source": [
        "# Se eliminan las columnas originales 'teams_home_winner' y 'teams_away_winner',\n",
        "# ya reemplazadas por la columna 'match_winner'.\n",
        "df_fixtures_cleaned = df_fixtures_cleaned.drop(columns=[\"teams_home_winner\", \"teams_away_winner\"])"
      ]
    },
    {
      "cell_type": "code",
      "execution_count": 185,
      "metadata": {},
      "outputs": [],
      "source": [
        "# Se crea la columna de goles por partido (local + visitante)\n",
        "df_fixtures_cleaned [\"total_goals\"] = (\n",
        "    df_fixtures_cleaned [\"goals_home\"] + df_fixtures_cleaned[\"goals_away\"]\n",
        ")"
      ]
    },
    {
      "cell_type": "code",
      "execution_count": 186,
      "metadata": {},
      "outputs": [],
      "source": [
        "# Se convierten las columnas numéricas de float64 a Int64 (entero nullable),\n",
        "# permitiendo conservar valores nulos y asegurar consistencia en IDs, minutos y resultados.\n",
        "type_mapping_numeric = {\n",
        "    \"fixture_venue_id\": \"Int64\",\n",
        "    \"fixture_status_elapsed\": \"Int64\",\n",
        "    \"goals_home\": \"Int64\",\n",
        "    \"goals_away\": \"Int64\",\n",
        "    \"score_halftime_home\": \"Int64\",\n",
        "    \"score_halftime_away\": \"Int64\",\n",
        "    \"score_fulltime_home\": \"Int64\",\n",
        "    \"score_fulltime_away\": \"Int64\",\n",
        "    \"score_extratime_home\": \"Int64\",\n",
        "    \"score_extratime_away\": \"Int64\",\n",
        "    \"score_penalty_home\": \"Int64\",\n",
        "    \"score_penalty_away\": \"Int64\",\n",
        "    \"total_goals\": \"Int64\"\n",
        "}"
      ]
    },
    {
      "cell_type": "code",
      "execution_count": 187,
      "metadata": {},
      "outputs": [],
      "source": [
        "df_fixtures_cleaned = df_fixtures_cleaned.astype(type_mapping_numeric)"
      ]
    },
    {
      "cell_type": "code",
      "execution_count": 188,
      "metadata": {},
      "outputs": [],
      "source": [
        "# Se convierten columnas de texto a string para mantener consistencia en Silver.\n",
        "# En Gold se optimizarán a category sólo aquellas de baja cardinalidad.\n",
        "type_mapping_string = {\n",
        "    \"fixture_venue_name\": \"string\",\n",
        "    \"fixture_venue_city\": \"string\",\n",
        "    \"fixture_status_short\": \"string\",\n",
        "    \"league_name\": \"string\",\n",
        "    \"league_country\": \"string\",\n",
        "    \"league_round\": \"string\",\n",
        "    \"teams_home_name\": \"string\",\n",
        "    \"teams_away_name\": \"string\",\n",
        "    \"match_winner\": \"string\"\n",
        "}"
      ]
    },
    {
      "cell_type": "code",
      "execution_count": 189,
      "metadata": {},
      "outputs": [],
      "source": [
        "df_fixtures_cleaned = df_fixtures_cleaned.astype(type_mapping_string)"
      ]
    },
    {
      "cell_type": "markdown",
      "metadata": {
        "id": "vU0Fs0IFVAsg"
      },
      "source": [
        "### *Capa Silver: guardado en formato Delta Lake de datos dinámicos*\n",
        "Se almacenan los datos de partidos ya transformados en la capa Silver, sobrescribiendo versiones previas.\n",
        "La verificación posterior muestra la cantidad de filas y columnas guardadas."
      ]
    },
    {
      "cell_type": "code",
      "execution_count": 190,
      "metadata": {
        "id": "mYPEGhibVHse"
      },
      "outputs": [],
      "source": [
        "# Subcarpeta para almacenar los fixtures procesados en Silver\n",
        "# Contendrá la información de los partidos ya transformada desde Bronze.\n",
        "fixtures_silver_dir = f\"{silver_dir}/fixtures\""
      ]
    },
    {
      "cell_type": "code",
      "execution_count": 191,
      "metadata": {},
      "outputs": [],
      "source": [
        "# Se convierte la columna event_date a string con formato YYYY-MM-DD.\n",
        "# Esto asegura que la partición en Delta Lake sea estable y uniforme,\n",
        "# evitando inconsistencias que pueden aparecer al usar objetos datetime.date.\n",
        "df_fixtures_cleaned[\"event_date\"] = pd.to_datetime(df_fixtures_cleaned[\"event_date\"]).dt.strftime(\"%Y-%m-%d\")"
      ]
    },
    {
      "cell_type": "code",
      "execution_count": 192,
      "metadata": {
        "id": "xAGCitc7VHwo"
      },
      "outputs": [],
      "source": [
        "# Guardado en Silver con MERGE por fixture_id y partición por event_date\n",
        "save_new_data_as_delta(\n",
        "    df_fixtures_cleaned,\n",
        "    fixtures_silver_dir,\n",
        "    predicate=\"target.fixture_id = source.fixture_id\",\n",
        "    partition_cols=[\"event_date\"]\n",
        ")"
      ]
    },
    {
      "cell_type": "code",
      "execution_count": 193,
      "metadata": {
        "colab": {
          "base_uri": "https://localhost:8080/"
        },
        "id": "SvRHgq9VLcWD",
        "outputId": "78129924-7083-4ab4-df45-0dfc8e83f088"
      },
      "outputs": [
        {
          "data": {
            "text/plain": [
              "(479, 31)"
            ]
          },
          "execution_count": 193,
          "metadata": {},
          "output_type": "execute_result"
        }
      ],
      "source": [
        "df_fixtures_cleaned.shape"
      ]
    },
    {
      "cell_type": "markdown",
      "metadata": {},
      "source": [
        "# **6. Análisis y visualizaciones**\n",
        "En esta sección se analizan los datos de fixtures procesados en la capa *Silver*.\n",
        "Se cargan en la capa *Gold* para realizar métricas descriptivas y generar visualizaciones que muestran cantidad de partidos, distribución de goles y desempeño local vs visitante.\n",
        "Además, se incluye la opción de filtrar por fechas para análisis temporales más específicos."
      ]
    },
    {
      "cell_type": "markdown",
      "metadata": {},
      "source": [
        "## 6.1 Lectura acumulada de Silver (todas las particiones)\n",
        "\n",
        "Se cargan todas las particiones históricas desde *Silver* para analizar el conjunto completo de fixtures."
      ]
    },
    {
      "cell_type": "code",
      "execution_count": 194,
      "metadata": {},
      "outputs": [],
      "source": [
        "# Se abre la tabla Delta persistida en Silver y se leen TODAS las particiones disponibles\n",
        "df_fixtures_silver_all = read_all_from_delta(fixtures_silver_dir)"
      ]
    },
    {
      "cell_type": "code",
      "execution_count": 195,
      "metadata": {},
      "outputs": [
        {
          "name": "stdout",
          "output_type": "stream",
          "text": [
            "Registros leidos: 2254\n"
          ]
        }
      ],
      "source": [
        "# Se crea una copia para trabajar en la capa Gold (acumulado histórico)\n",
        "df_fixtures_gold = df_fixtures_silver_all.copy()\n",
        "print(f\"Registros leidos: {df_fixtures_gold.shape[0]}\")"
      ]
    },
    {
      "cell_type": "markdown",
      "metadata": {},
      "source": [
        "## 6.2 Normalización de tipos (Gold)\n",
        "Nota sobre tipos en Gold:\n",
        "Aunque las columnas fueron casteadas antes de guardar en Silver, al persistir en Delta Lake (Parquet) y volver a leer con Pandas, algunos tipos se degradan (Int64→float64 por nulos, category→object, datetime sin tz).\n",
        "Por eso, en la capa Gold se reaplican los tipos para:\n",
        "- Recuperar enteros \"nullable\" (Int64) y evitar ambigüedad con NA en comparaciones/cálculos.\n",
        "- Volver a \"category\" para optimizar memoria y agrupar más rápido.\n",
        "- Asegurar 'event_date' como datetime con tz (UTC) para filtros temporales consistentes."
      ]
    },
    {
      "cell_type": "code",
      "execution_count": 196,
      "metadata": {},
      "outputs": [
        {
          "name": "stdout",
          "output_type": "stream",
          "text": [
            "<class 'pandas.core.frame.DataFrame'>\n",
            "RangeIndex: 2254 entries, 0 to 2253\n",
            "Data columns (total 31 columns):\n",
            " #   Column                  Non-Null Count  Dtype              \n",
            "---  ------                  --------------  -----              \n",
            " 0   fixture_id              2254 non-null   int64              \n",
            " 1   fixture_date            2254 non-null   datetime64[us, UTC]\n",
            " 2   fixture_periods_first   1913 non-null   datetime64[us, UTC]\n",
            " 3   fixture_venue_id        1879 non-null   float64            \n",
            " 4   fixture_venue_name      1934 non-null   object             \n",
            " 5   fixture_venue_city      1916 non-null   object             \n",
            " 6   fixture_status_short    2254 non-null   object             \n",
            " 7   fixture_status_elapsed  2094 non-null   float64            \n",
            " 8   league_id               2254 non-null   int64              \n",
            " 9   league_name             2254 non-null   object             \n",
            " 10  league_country          2254 non-null   object             \n",
            " 11  league_season           2254 non-null   int64              \n",
            " 12  league_round            2248 non-null   object             \n",
            " 13  league_standings        2254 non-null   bool               \n",
            " 14  teams_home_id           2254 non-null   int64              \n",
            " 15  teams_home_name         2254 non-null   object             \n",
            " 16  teams_away_id           2254 non-null   int64              \n",
            " 17  teams_away_name         2254 non-null   object             \n",
            " 18  goals_home              2100 non-null   float64            \n",
            " 19  goals_away              2100 non-null   float64            \n",
            " 20  score_halftime_home     2021 non-null   float64            \n",
            " 21  score_halftime_away     2021 non-null   float64            \n",
            " 22  score_fulltime_home     2097 non-null   float64            \n",
            " 23  score_fulltime_away     2097 non-null   float64            \n",
            " 24  score_extratime_home    43 non-null     float64            \n",
            " 25  score_extratime_away    43 non-null     float64            \n",
            " 26  score_penalty_home      29 non-null     float64            \n",
            " 27  score_penalty_away      29 non-null     float64            \n",
            " 28  event_date              2254 non-null   object             \n",
            " 29  match_winner            2100 non-null   object             \n",
            " 30  total_goals             2100 non-null   float64            \n",
            "dtypes: bool(1), datetime64[us, UTC](2), float64(13), int64(5), object(10)\n",
            "memory usage: 1.6 MB\n"
          ]
        }
      ],
      "source": [
        "# Se consulta el uso de memoria del DataFrame antes de castear el tipo de datos de las columnas.\n",
        "df_fixtures_gold.info(memory_usage='deep')"
      ]
    },
    {
      "cell_type": "code",
      "execution_count": 197,
      "metadata": {},
      "outputs": [],
      "source": [
        "# Conversión de columnas numéricas de float a Int64:\n",
        "# - Se usa Int64 (nullable integer) en lugar de float para representar enteros\n",
        "#   sin decimales y permitir valores nulos (<NA>).\n",
        "# - Esto evita inconsistencias al trabajar con resultados que pueden faltar\n",
        "#   (ej. goles, tiempos o penales no registrados).\n",
        "type_mapping_numeric = {\n",
        "    \"fixture_venue_id\": \"Int64\",\n",
        "    \"fixture_status_elapsed\": \"Int64\",\n",
        "    \"goals_home\": \"Int64\",\n",
        "    \"goals_away\": \"Int64\",\n",
        "    \"score_halftime_home\": \"Int64\",\n",
        "    \"score_halftime_away\": \"Int64\",\n",
        "    \"score_fulltime_home\": \"Int64\",\n",
        "    \"score_fulltime_away\": \"Int64\",\n",
        "    \"score_extratime_home\": \"Int64\",\n",
        "    \"score_extratime_away\": \"Int64\",\n",
        "    \"score_penalty_home\": \"Int64\",\n",
        "    \"score_penalty_away\": \"Int64\",\n",
        "    \"total_goals\": \"Int64\"\n",
        "}\n",
        "df_fixtures_gold = df_fixtures_gold.astype(type_mapping_numeric)\n"
      ]
    },
    {
      "cell_type": "code",
      "execution_count": 198,
      "metadata": {},
      "outputs": [
        {
          "name": "stdout",
          "output_type": "stream",
          "text": [
            "fixture_venue_name: 1804 valores únicos\n",
            "fixture_venue_city: 1592 valores únicos\n",
            "fixture_status_short: 9 valores únicos\n",
            "league_name: 400 valores únicos\n",
            "league_country: 124 valores únicos\n",
            "league_round: 268 valores únicos\n",
            "teams_home_name: 2205 valores únicos\n",
            "teams_away_name: 2195 valores únicos\n",
            "match_winner: 3 valores únicos\n"
          ]
        }
      ],
      "source": [
        "# Se calcula la cantidad de valores únicos en columnas de texto para evaluar su cardinalidad.\n",
        "# Este análisis permite distinguir entre columnas con pocos valores repetidos (buenas candidatas\n",
        "# a category por eficiencia en memoria y agrupaciones) y columnas con muchos valores dispersos\n",
        "# (más apropiadas para mantenerse como string).\n",
        "cols_to_check = [\n",
        "    \"fixture_venue_name\",\n",
        "    \"fixture_venue_city\",\n",
        "    \"fixture_status_short\",\n",
        "    \"league_name\",\n",
        "    \"league_country\",\n",
        "    \"league_round\",\n",
        "    \"teams_home_name\",\n",
        "    \"teams_away_name\",\n",
        "    \"match_winner\"\n",
        "]\n",
        "\n",
        "for col in cols_to_check:\n",
        "    n_unique = df_fixtures_gold[col].nunique(dropna=True)\n",
        "    print(f\"{col}: {n_unique} valores únicos\")"
      ]
    },
    {
      "cell_type": "code",
      "execution_count": 199,
      "metadata": {},
      "outputs": [],
      "source": [
        "# Conversión de columnas categóricas:\n",
        "# Se transforman a category aquellas que, como league_round, se repiten de forma intensiva\n",
        "# en los registros, lo que hace eficiente su uso. En cambio, columnas como league_country,\n",
        "# aunque puedan tener menos variantes, aparecen más dispersas y se mantienen como string.\n",
        "type_mapping_categoric = {\n",
        "    \"fixture_status_short\": \"category\",\n",
        "    \"league_round\": \"category\",\n",
        "    \"match_winner\": \"category\"\n",
        "}\n",
        "df_fixtures_gold = df_fixtures_gold.astype(type_mapping_categoric)\n"
      ]
    },
    {
      "cell_type": "code",
      "execution_count": 200,
      "metadata": {},
      "outputs": [],
      "source": [
        "# Columnas que se mantienen como texto plano:\n",
        "# Estas variables presentan alta cardinalidad (cientos o miles de valores únicos),\n",
        "# con poca repetición relativa en el conjunto de datos. En tales casos, convertirlas\n",
        "# a category no aporta beneficios significativos en memoria ni en rendimiento,\n",
        "# y puede incluso incrementar la complejidad. Por ello se tipifican como string,\n",
        "# asegurando consistencia y un manejo más explícito de los datos textuales.\n",
        "string_cols = [\n",
        "    \"fixture_venue_name\",\n",
        "    \"fixture_venue_city\",\n",
        "    \"league_name\",\n",
        "    \"league_country\",\n",
        "    \"teams_home_name\",\n",
        "    \"teams_away_name\"\n",
        "]\n",
        "\n",
        "df_fixtures_gold[string_cols] = df_fixtures_gold[string_cols].astype(\"string\")"
      ]
    },
    {
      "cell_type": "code",
      "execution_count": 201,
      "metadata": {},
      "outputs": [],
      "source": [
        "# Se asegura que 'event_date' sea datetime con zona horaria UTC\n",
        "# Útil para filtros y cálculos temporales en memoria\n",
        "df_fixtures_gold[\"event_date\"] = pd.to_datetime(\n",
        "    df_fixtures_gold[\"event_date\"], utc=True\n",
        ")"
      ]
    },
    {
      "cell_type": "code",
      "execution_count": 202,
      "metadata": {},
      "outputs": [
        {
          "name": "stdout",
          "output_type": "stream",
          "text": [
            "<class 'pandas.core.frame.DataFrame'>\n",
            "RangeIndex: 2254 entries, 0 to 2253\n",
            "Data columns (total 31 columns):\n",
            " #   Column                  Non-Null Count  Dtype              \n",
            "---  ------                  --------------  -----              \n",
            " 0   fixture_id              2254 non-null   int64              \n",
            " 1   fixture_date            2254 non-null   datetime64[us, UTC]\n",
            " 2   fixture_periods_first   1913 non-null   datetime64[us, UTC]\n",
            " 3   fixture_venue_id        1879 non-null   Int64              \n",
            " 4   fixture_venue_name      1934 non-null   string             \n",
            " 5   fixture_venue_city      1916 non-null   string             \n",
            " 6   fixture_status_short    2254 non-null   category           \n",
            " 7   fixture_status_elapsed  2094 non-null   Int64              \n",
            " 8   league_id               2254 non-null   int64              \n",
            " 9   league_name             2254 non-null   string             \n",
            " 10  league_country          2254 non-null   string             \n",
            " 11  league_season           2254 non-null   int64              \n",
            " 12  league_round            2248 non-null   category           \n",
            " 13  league_standings        2254 non-null   bool               \n",
            " 14  teams_home_id           2254 non-null   int64              \n",
            " 15  teams_home_name         2254 non-null   string             \n",
            " 16  teams_away_id           2254 non-null   int64              \n",
            " 17  teams_away_name         2254 non-null   string             \n",
            " 18  goals_home              2100 non-null   Int64              \n",
            " 19  goals_away              2100 non-null   Int64              \n",
            " 20  score_halftime_home     2021 non-null   Int64              \n",
            " 21  score_halftime_away     2021 non-null   Int64              \n",
            " 22  score_fulltime_home     2097 non-null   Int64              \n",
            " 23  score_fulltime_away     2097 non-null   Int64              \n",
            " 24  score_extratime_home    43 non-null     Int64              \n",
            " 25  score_extratime_away    43 non-null     Int64              \n",
            " 26  score_penalty_home      29 non-null     Int64              \n",
            " 27  score_penalty_away      29 non-null     Int64              \n",
            " 28  event_date              2254 non-null   datetime64[ns, UTC]\n",
            " 29  match_winner            2100 non-null   category           \n",
            " 30  total_goals             2100 non-null   Int64              \n",
            "dtypes: Int64(13), bool(1), category(3), datetime64[ns, UTC](1), datetime64[us, UTC](2), int64(5), string(6)\n",
            "memory usage: 1.3 MB\n"
          ]
        }
      ],
      "source": [
        "# Se verifica la reducción en el uso de memoria tras el cambio de tipos\n",
        "df_fixtures_gold.info(memory_usage='deep')"
      ]
    },
    {
      "cell_type": "code",
      "execution_count": 203,
      "metadata": {},
      "outputs": [],
      "source": [
        "pd.set_option(\"display.max_columns\", None)"
      ]
    },
    {
      "cell_type": "code",
      "execution_count": 204,
      "metadata": {},
      "outputs": [
        {
          "data": {
            "text/html": [
              "<div>\n",
              "<style scoped>\n",
              "    .dataframe tbody tr th:only-of-type {\n",
              "        vertical-align: middle;\n",
              "    }\n",
              "\n",
              "    .dataframe tbody tr th {\n",
              "        vertical-align: top;\n",
              "    }\n",
              "\n",
              "    .dataframe thead th {\n",
              "        text-align: right;\n",
              "    }\n",
              "</style>\n",
              "<table border=\"1\" class=\"dataframe\">\n",
              "  <thead>\n",
              "    <tr style=\"text-align: right;\">\n",
              "      <th></th>\n",
              "      <th>fixture_id</th>\n",
              "      <th>fixture_date</th>\n",
              "      <th>fixture_periods_first</th>\n",
              "      <th>fixture_venue_id</th>\n",
              "      <th>fixture_venue_name</th>\n",
              "      <th>fixture_venue_city</th>\n",
              "      <th>fixture_status_short</th>\n",
              "      <th>fixture_status_elapsed</th>\n",
              "      <th>league_id</th>\n",
              "      <th>league_name</th>\n",
              "      <th>league_country</th>\n",
              "      <th>league_season</th>\n",
              "      <th>league_round</th>\n",
              "      <th>league_standings</th>\n",
              "      <th>teams_home_id</th>\n",
              "      <th>teams_home_name</th>\n",
              "      <th>teams_away_id</th>\n",
              "      <th>teams_away_name</th>\n",
              "      <th>goals_home</th>\n",
              "      <th>goals_away</th>\n",
              "      <th>score_halftime_home</th>\n",
              "      <th>score_halftime_away</th>\n",
              "      <th>score_fulltime_home</th>\n",
              "      <th>score_fulltime_away</th>\n",
              "      <th>score_extratime_home</th>\n",
              "      <th>score_extratime_away</th>\n",
              "      <th>score_penalty_home</th>\n",
              "      <th>score_penalty_away</th>\n",
              "      <th>event_date</th>\n",
              "      <th>match_winner</th>\n",
              "      <th>total_goals</th>\n",
              "    </tr>\n",
              "  </thead>\n",
              "  <tbody>\n",
              "    <tr>\n",
              "      <th>0</th>\n",
              "      <td>1438842</td>\n",
              "      <td>2025-09-24 00:00:00+00:00</td>\n",
              "      <td>2025-09-24 00:00:00+00:00</td>\n",
              "      <td>3905</td>\n",
              "      <td>Hasely Crawford Stadium</td>\n",
              "      <td>Port of Spain</td>\n",
              "      <td>FT</td>\n",
              "      <td>90</td>\n",
              "      <td>856</td>\n",
              "      <td>CONCACAF Caribbean Club Championship</td>\n",
              "      <td>World</td>\n",
              "      <td>2025</td>\n",
              "      <td>Group Stage - 4</td>\n",
              "      <td>False</td>\n",
              "      <td>8005</td>\n",
              "      <td>Central</td>\n",
              "      <td>3442</td>\n",
              "      <td>Mount Pleasant Academy</td>\n",
              "      <td>0</td>\n",
              "      <td>2</td>\n",
              "      <td>0</td>\n",
              "      <td>0</td>\n",
              "      <td>0</td>\n",
              "      <td>2</td>\n",
              "      <td>&lt;NA&gt;</td>\n",
              "      <td>&lt;NA&gt;</td>\n",
              "      <td>&lt;NA&gt;</td>\n",
              "      <td>&lt;NA&gt;</td>\n",
              "      <td>2025-09-24 00:00:00+00:00</td>\n",
              "      <td>Away</td>\n",
              "      <td>2</td>\n",
              "    </tr>\n",
              "    <tr>\n",
              "      <th>1</th>\n",
              "      <td>1438843</td>\n",
              "      <td>2025-09-24 00:00:00+00:00</td>\n",
              "      <td>2025-09-24 00:00:00+00:00</td>\n",
              "      <td>22458</td>\n",
              "      <td>Estadio Cibao</td>\n",
              "      <td>Santiago De Los Caballeros</td>\n",
              "      <td>FT</td>\n",
              "      <td>90</td>\n",
              "      <td>856</td>\n",
              "      <td>CONCACAF Caribbean Club Championship</td>\n",
              "      <td>World</td>\n",
              "      <td>2025</td>\n",
              "      <td>Group Stage - 4</td>\n",
              "      <td>False</td>\n",
              "      <td>4446</td>\n",
              "      <td>Juventus</td>\n",
              "      <td>8004</td>\n",
              "      <td>Cibao</td>\n",
              "      <td>0</td>\n",
              "      <td>3</td>\n",
              "      <td>0</td>\n",
              "      <td>2</td>\n",
              "      <td>0</td>\n",
              "      <td>3</td>\n",
              "      <td>&lt;NA&gt;</td>\n",
              "      <td>&lt;NA&gt;</td>\n",
              "      <td>&lt;NA&gt;</td>\n",
              "      <td>&lt;NA&gt;</td>\n",
              "      <td>2025-09-24 00:00:00+00:00</td>\n",
              "      <td>Away</td>\n",
              "      <td>3</td>\n",
              "    </tr>\n",
              "    <tr>\n",
              "      <th>2</th>\n",
              "      <td>1441147</td>\n",
              "      <td>2025-09-24 00:00:00+00:00</td>\n",
              "      <td>NaT</td>\n",
              "      <td>&lt;NA&gt;</td>\n",
              "      <td>&lt;NA&gt;</td>\n",
              "      <td>&lt;NA&gt;</td>\n",
              "      <td>PST</td>\n",
              "      <td>&lt;NA&gt;</td>\n",
              "      <td>243</td>\n",
              "      <td>Liga Pro Serie B</td>\n",
              "      <td>Ecuador</td>\n",
              "      <td>2025</td>\n",
              "      <td>Relegation Round - 5</td>\n",
              "      <td>True</td>\n",
              "      <td>1983</td>\n",
              "      <td>Imbabura</td>\n",
              "      <td>25736</td>\n",
              "      <td>22 de Julio</td>\n",
              "      <td>&lt;NA&gt;</td>\n",
              "      <td>&lt;NA&gt;</td>\n",
              "      <td>&lt;NA&gt;</td>\n",
              "      <td>&lt;NA&gt;</td>\n",
              "      <td>&lt;NA&gt;</td>\n",
              "      <td>&lt;NA&gt;</td>\n",
              "      <td>&lt;NA&gt;</td>\n",
              "      <td>&lt;NA&gt;</td>\n",
              "      <td>&lt;NA&gt;</td>\n",
              "      <td>&lt;NA&gt;</td>\n",
              "      <td>2025-09-24 00:00:00+00:00</td>\n",
              "      <td>NaN</td>\n",
              "      <td>&lt;NA&gt;</td>\n",
              "    </tr>\n",
              "  </tbody>\n",
              "</table>\n",
              "</div>"
            ],
            "text/plain": [
              "   fixture_id              fixture_date     fixture_periods_first  \\\n",
              "0     1438842 2025-09-24 00:00:00+00:00 2025-09-24 00:00:00+00:00   \n",
              "1     1438843 2025-09-24 00:00:00+00:00 2025-09-24 00:00:00+00:00   \n",
              "2     1441147 2025-09-24 00:00:00+00:00                       NaT   \n",
              "\n",
              "   fixture_venue_id       fixture_venue_name          fixture_venue_city  \\\n",
              "0              3905  Hasely Crawford Stadium               Port of Spain   \n",
              "1             22458            Estadio Cibao  Santiago De Los Caballeros   \n",
              "2              <NA>                     <NA>                        <NA>   \n",
              "\n",
              "  fixture_status_short  fixture_status_elapsed  league_id  \\\n",
              "0                   FT                      90        856   \n",
              "1                   FT                      90        856   \n",
              "2                  PST                    <NA>        243   \n",
              "\n",
              "                            league_name league_country  league_season  \\\n",
              "0  CONCACAF Caribbean Club Championship          World           2025   \n",
              "1  CONCACAF Caribbean Club Championship          World           2025   \n",
              "2                      Liga Pro Serie B        Ecuador           2025   \n",
              "\n",
              "           league_round  league_standings  teams_home_id teams_home_name  \\\n",
              "0       Group Stage - 4             False           8005         Central   \n",
              "1       Group Stage - 4             False           4446        Juventus   \n",
              "2  Relegation Round - 5              True           1983        Imbabura   \n",
              "\n",
              "   teams_away_id         teams_away_name  goals_home  goals_away  \\\n",
              "0           3442  Mount Pleasant Academy           0           2   \n",
              "1           8004                   Cibao           0           3   \n",
              "2          25736             22 de Julio        <NA>        <NA>   \n",
              "\n",
              "   score_halftime_home  score_halftime_away  score_fulltime_home  \\\n",
              "0                    0                    0                    0   \n",
              "1                    0                    2                    0   \n",
              "2                 <NA>                 <NA>                 <NA>   \n",
              "\n",
              "   score_fulltime_away  score_extratime_home  score_extratime_away  \\\n",
              "0                    2                  <NA>                  <NA>   \n",
              "1                    3                  <NA>                  <NA>   \n",
              "2                 <NA>                  <NA>                  <NA>   \n",
              "\n",
              "   score_penalty_home  score_penalty_away                event_date  \\\n",
              "0                <NA>                <NA> 2025-09-24 00:00:00+00:00   \n",
              "1                <NA>                <NA> 2025-09-24 00:00:00+00:00   \n",
              "2                <NA>                <NA> 2025-09-24 00:00:00+00:00   \n",
              "\n",
              "  match_winner  total_goals  \n",
              "0         Away            2  \n",
              "1         Away            3  \n",
              "2          NaN         <NA>  "
            ]
          },
          "execution_count": 204,
          "metadata": {},
          "output_type": "execute_result"
        }
      ],
      "source": [
        "df_fixtures_gold.head(3)"
      ]
    },
    {
      "cell_type": "markdown",
      "metadata": {},
      "source": [
        "## 6.3 Métricas y visualizaciones"
      ]
    },
    {
      "cell_type": "code",
      "execution_count": 205,
      "metadata": {},
      "outputs": [
        {
          "name": "stdout",
          "output_type": "stream",
          "text": [
            "Total de partidos analizados: 2254\n"
          ]
        }
      ],
      "source": [
        "total_partidos = df_fixtures_gold.shape[0]\n",
        "print(f\"Total de partidos analizados: {total_partidos}\")"
      ]
    },
    {
      "cell_type": "code",
      "execution_count": 206,
      "metadata": {},
      "outputs": [
        {
          "name": "stdout",
          "output_type": "stream",
          "text": [
            "Resultado\n",
            "Local        854\n",
            "Visitante    724\n",
            "Empate       522\n",
            "Name: count, dtype: int64\n"
          ]
        }
      ],
      "source": [
        "# Mapear valores de match_winner a etiquetas más claras\n",
        "mapeo = {\"Home\": \"Local\", \"Away\": \"Visitante\", \"Draw\": \"Empate\"}\n",
        "df_fixtures_gold[\"Resultado\"] = df_fixtures_gold[\"match_winner\"].map(mapeo)\n",
        "\n",
        "# Conteo por tipo de resultado\n",
        "resultados = df_fixtures_gold[\"Resultado\"].value_counts()\n",
        "print(resultados)"
      ]
    },
    {
      "cell_type": "code",
      "execution_count": 207,
      "metadata": {},
      "outputs": [
        {
          "data": {
            "image/png": "[encoded data removed]",
            "text/plain": [
              "<Figure size 600x400 with 1 Axes>"
            ]
          },
          "metadata": {},
          "output_type": "display_data"
        }
      ],
      "source": [
        "# Gráfico de barras con la distribución de resultados (Local, Empate, Visitante).\n",
        "# Cada barra muestra la cantidad de partidos y se anota el porcentaje sobre el total.\n",
        "plt.figure(figsize=(6,4))\n",
        "ax = sns.countplot(\n",
        "    x=\"Resultado\",\n",
        "    data=df_fixtures_gold,\n",
        "    order=[\"Local\", \"Empate\", \"Visitante\"]\n",
        ")\n",
        "\n",
        "# Calcular proporciones\n",
        "total = len(df_fixtures_gold)\n",
        "for p in ax.patches:\n",
        "    height = p.get_height()\n",
        "    porcentaje = f'{100*height/total:.1f}%'\n",
        "    ax.annotate(porcentaje,\n",
        "                (p.get_x() + p.get_width() / 2., height),\n",
        "                ha='center', va='bottom', fontsize=10, color='black')\n",
        "\n",
        "plt.title(\"Distribución de resultados\")\n",
        "plt.xlabel(\"Resultado\")\n",
        "plt.ylabel(\"Cantidad de partidos\")\n",
        "plt.show()"
      ]
    },
    {
      "cell_type": "code",
      "execution_count": 208,
      "metadata": {},
      "outputs": [
        {
          "name": "stdout",
          "output_type": "stream",
          "text": [
            "Goles totales: 6110\n"
          ]
        }
      ],
      "source": [
        "# Total de goles (suma de la columna derivada total_goals)\n",
        "goles_totales = df_fixtures_gold[\"total_goals\"].sum()\n",
        "print(f\"Goles totales: {goles_totales}\")"
      ]
    },
    {
      "cell_type": "code",
      "execution_count": 209,
      "metadata": {},
      "outputs": [
        {
          "name": "stdout",
          "output_type": "stream",
          "text": [
            "Goles totales por partido\n",
            "Media: 2.91\n",
            "Mediana: 3.00\n",
            "Desvío estándar: 1.81\n"
          ]
        }
      ],
      "source": [
        "# Estadísticas generales\n",
        "print(\"Goles totales por partido\")\n",
        "print(f\"Media: {df_fixtures_gold['total_goals'].mean():.2f}\")\n",
        "print(f\"Mediana: {df_fixtures_gold['total_goals'].median():.2f}\")\n",
        "print(f\"Desvío estándar: {df_fixtures_gold['total_goals'].std():.2f}\")"
      ]
    },
    {
      "cell_type": "code",
      "execution_count": 210,
      "metadata": {},
      "outputs": [
        {
          "name": "stdout",
          "output_type": "stream",
          "text": [
            "Goles de local:\n",
            "Media: 1.54\n",
            "Mediana: 1.00\n",
            "Desvío estándar: 1.39\n",
            "\n",
            "Goles de visitante:\n",
            "Media: 1.37\n",
            "Mediana: 1.00\n",
            "Desvío estándar: 1.32\n"
          ]
        }
      ],
      "source": [
        "# Estadísticas por condición\n",
        "print(\"Goles de local:\")\n",
        "print(f\"Media: {df_fixtures_gold['goals_home'].mean():.2f}\")\n",
        "print(f\"Mediana: {df_fixtures_gold['goals_home'].median():.2f}\")\n",
        "print(f\"Desvío estándar: {df_fixtures_gold['goals_home'].std():.2f}\")\n",
        "\n",
        "print(\"\\nGoles de visitante:\")\n",
        "print(f\"Media: {df_fixtures_gold['goals_away'].mean():.2f}\")\n",
        "print(f\"Mediana: {df_fixtures_gold['goals_away'].median():.2f}\")\n",
        "print(f\"Desvío estándar: {df_fixtures_gold['goals_away'].std():.2f}\")"
      ]
    },
    {
      "cell_type": "code",
      "execution_count": 211,
      "metadata": {},
      "outputs": [
        {
          "name": "stderr",
          "output_type": "stream",
          "text": [
            "C:\\Users\\elias\\AppData\\Local\\Temp\\ipykernel_24732\\4252040721.py:6: FutureWarning: \n",
            "\n",
            "Passing `palette` without assigning `hue` is deprecated and will be removed in v0.14.0. Assign the `x` variable to `hue` and set `legend=False` for the same effect.\n",
            "\n",
            "  sns.barplot(x=[\"Local\", \"Visitante\"], y=[goles_local, goles_visitante], palette=\"pastel\")\n"
          ]
        },
        {
          "data": {
            "image/png": "[encoded data removed]",
            "text/plain": [
              "<Figure size 500x400 with 1 Axes>"
            ]
          },
          "metadata": {},
          "output_type": "display_data"
        }
      ],
      "source": [
        "# Métrica: Goles convertidos por equipos locales vs visitantes\n",
        "goles_local = df_fixtures_gold[\"goals_home\"].sum()\n",
        "goles_visitante = df_fixtures_gold[\"goals_away\"].sum()\n",
        "\n",
        "plt.figure(figsize=(5,4))\n",
        "sns.barplot(x=[\"Local\", \"Visitante\"], y=[goles_local, goles_visitante], palette=\"pastel\")\n",
        "plt.title(\"Goles anotados por condición\")\n",
        "plt.ylabel(\"Total de goles\")\n",
        "plt.show()"
      ]
    },
    {
      "cell_type": "code",
      "execution_count": 212,
      "metadata": {},
      "outputs": [
        {
          "data": {
            "image/png": "[encoded data removed]",
            "text/plain": [
              "<Figure size 600x400 with 1 Axes>"
            ]
          },
          "metadata": {},
          "output_type": "display_data"
        }
      ],
      "source": [
        "# Histograma de goles por partido (columna total_goals ya creada en Silver)\n",
        "plt.figure(figsize=(6,4))\n",
        "sns.histplot(\n",
        "    df_fixtures_gold[\"total_goals\"],\n",
        "    bins=range(0, df_fixtures_gold[\"total_goals\"].max() + 2),\n",
        "    kde=False\n",
        ")\n",
        "plt.title(\"Distribución de goles por partido\")\n",
        "plt.xlabel(\"Total de goles\")\n",
        "plt.ylabel(\"Cantidad de partidos\")\n",
        "plt.show()"
      ]
    },
    {
      "cell_type": "code",
      "execution_count": 213,
      "metadata": {},
      "outputs": [
        {
          "data": {
            "image/png": "[encoded data removed]",
            "text/plain": [
              "<Figure size 600x400 with 1 Axes>"
            ]
          },
          "metadata": {},
          "output_type": "display_data"
        }
      ],
      "source": [
        "# Conteo agrupado de minutos jugados\n",
        "conteo_minutos = df_fixtures_gold[\"fixture_status_elapsed\"].value_counts().sort_index()\n",
        "\n",
        "plt.figure(figsize=(6,4))\n",
        "sns.barplot(x=conteo_minutos.index, y=conteo_minutos.values, color=\"steelblue\")\n",
        "plt.title(\"Minutos jugados disponibles\")\n",
        "plt.xlabel(\"Minutos transcurridos\")\n",
        "plt.ylabel(\"Cantidad de partidos\")\n",
        "plt.show()"
      ]
    },
    {
      "cell_type": "code",
      "execution_count": 214,
      "metadata": {},
      "outputs": [
        {
          "data": {
            "image/png": "[encoded data removed]",
            "text/plain": [
              "<Figure size 800x400 with 1 Axes>"
            ]
          },
          "metadata": {},
          "output_type": "display_data"
        }
      ],
      "source": [
        "# Métrica: Distribución de resultados por temporada\n",
        "plt.figure(figsize=(8,4))\n",
        "sns.countplot(\n",
        "    x=\"league_season\",\n",
        "    hue=\"Resultado\",\n",
        "    data=df_fixtures_gold,\n",
        "    order=sorted(df_fixtures_gold[\"league_season\"].unique()),\n",
        "    hue_order=[\"Local\", \"Empate\", \"Visitante\"]  # orden personalizado\n",
        ")\n",
        "plt.title(\"Resultados por temporada\")\n",
        "plt.xlabel(\"Temporada\")\n",
        "plt.ylabel(\"Cantidad de partidos\")\n",
        "plt.legend(title=\"Resultado\")\n",
        "plt.show()"
      ]
    },
    {
      "cell_type": "markdown",
      "metadata": {},
      "source": [
        "## 6.4 Análisis de ventanas temporales (filtros por fecha)\n",
        "\n",
        "Se deja disponible el código para aplicar filtros por rango de fechas sobre la columna *event_date*. \n",
        "Esto permite enfocar los análisis en períodos específicos, como semanas, meses o temporadas, cuando se requiera segmentar el histórico acumulado."
      ]
    },
    {
      "cell_type": "code",
      "execution_count": 215,
      "metadata": {},
      "outputs": [
        {
          "data": {
            "text/html": [
              "<div>\n",
              "<style scoped>\n",
              "    .dataframe tbody tr th:only-of-type {\n",
              "        vertical-align: middle;\n",
              "    }\n",
              "\n",
              "    .dataframe tbody tr th {\n",
              "        vertical-align: top;\n",
              "    }\n",
              "\n",
              "    .dataframe thead th {\n",
              "        text-align: right;\n",
              "    }\n",
              "</style>\n",
              "<table border=\"1\" class=\"dataframe\">\n",
              "  <thead>\n",
              "    <tr style=\"text-align: right;\">\n",
              "      <th></th>\n",
              "      <th>fixture_id</th>\n",
              "      <th>fixture_date</th>\n",
              "      <th>fixture_periods_first</th>\n",
              "      <th>fixture_venue_id</th>\n",
              "      <th>fixture_venue_name</th>\n",
              "      <th>fixture_venue_city</th>\n",
              "      <th>fixture_status_short</th>\n",
              "      <th>fixture_status_elapsed</th>\n",
              "      <th>league_id</th>\n",
              "      <th>league_name</th>\n",
              "      <th>league_country</th>\n",
              "      <th>league_season</th>\n",
              "      <th>league_round</th>\n",
              "      <th>league_standings</th>\n",
              "      <th>teams_home_id</th>\n",
              "      <th>teams_home_name</th>\n",
              "      <th>teams_away_id</th>\n",
              "      <th>teams_away_name</th>\n",
              "      <th>goals_home</th>\n",
              "      <th>goals_away</th>\n",
              "      <th>score_halftime_home</th>\n",
              "      <th>score_halftime_away</th>\n",
              "      <th>score_fulltime_home</th>\n",
              "      <th>score_fulltime_away</th>\n",
              "      <th>score_extratime_home</th>\n",
              "      <th>score_extratime_away</th>\n",
              "      <th>score_penalty_home</th>\n",
              "      <th>score_penalty_away</th>\n",
              "      <th>event_date</th>\n",
              "      <th>match_winner</th>\n",
              "      <th>total_goals</th>\n",
              "      <th>Resultado</th>\n",
              "    </tr>\n",
              "  </thead>\n",
              "  <tbody>\n",
              "    <tr>\n",
              "      <th>0</th>\n",
              "      <td>1438842</td>\n",
              "      <td>2025-09-24 00:00:00+00:00</td>\n",
              "      <td>2025-09-24 00:00:00+00:00</td>\n",
              "      <td>3905</td>\n",
              "      <td>Hasely Crawford Stadium</td>\n",
              "      <td>Port of Spain</td>\n",
              "      <td>FT</td>\n",
              "      <td>90</td>\n",
              "      <td>856</td>\n",
              "      <td>CONCACAF Caribbean Club Championship</td>\n",
              "      <td>World</td>\n",
              "      <td>2025</td>\n",
              "      <td>Group Stage - 4</td>\n",
              "      <td>False</td>\n",
              "      <td>8005</td>\n",
              "      <td>Central</td>\n",
              "      <td>3442</td>\n",
              "      <td>Mount Pleasant Academy</td>\n",
              "      <td>0</td>\n",
              "      <td>2</td>\n",
              "      <td>0</td>\n",
              "      <td>0</td>\n",
              "      <td>0</td>\n",
              "      <td>2</td>\n",
              "      <td>&lt;NA&gt;</td>\n",
              "      <td>&lt;NA&gt;</td>\n",
              "      <td>&lt;NA&gt;</td>\n",
              "      <td>&lt;NA&gt;</td>\n",
              "      <td>2025-09-24 00:00:00+00:00</td>\n",
              "      <td>Away</td>\n",
              "      <td>2</td>\n",
              "      <td>Visitante</td>\n",
              "    </tr>\n",
              "    <tr>\n",
              "      <th>1</th>\n",
              "      <td>1438843</td>\n",
              "      <td>2025-09-24 00:00:00+00:00</td>\n",
              "      <td>2025-09-24 00:00:00+00:00</td>\n",
              "      <td>22458</td>\n",
              "      <td>Estadio Cibao</td>\n",
              "      <td>Santiago De Los Caballeros</td>\n",
              "      <td>FT</td>\n",
              "      <td>90</td>\n",
              "      <td>856</td>\n",
              "      <td>CONCACAF Caribbean Club Championship</td>\n",
              "      <td>World</td>\n",
              "      <td>2025</td>\n",
              "      <td>Group Stage - 4</td>\n",
              "      <td>False</td>\n",
              "      <td>4446</td>\n",
              "      <td>Juventus</td>\n",
              "      <td>8004</td>\n",
              "      <td>Cibao</td>\n",
              "      <td>0</td>\n",
              "      <td>3</td>\n",
              "      <td>0</td>\n",
              "      <td>2</td>\n",
              "      <td>0</td>\n",
              "      <td>3</td>\n",
              "      <td>&lt;NA&gt;</td>\n",
              "      <td>&lt;NA&gt;</td>\n",
              "      <td>&lt;NA&gt;</td>\n",
              "      <td>&lt;NA&gt;</td>\n",
              "      <td>2025-09-24 00:00:00+00:00</td>\n",
              "      <td>Away</td>\n",
              "      <td>3</td>\n",
              "      <td>Visitante</td>\n",
              "    </tr>\n",
              "    <tr>\n",
              "      <th>2</th>\n",
              "      <td>1441147</td>\n",
              "      <td>2025-09-24 00:00:00+00:00</td>\n",
              "      <td>NaT</td>\n",
              "      <td>&lt;NA&gt;</td>\n",
              "      <td>&lt;NA&gt;</td>\n",
              "      <td>&lt;NA&gt;</td>\n",
              "      <td>PST</td>\n",
              "      <td>&lt;NA&gt;</td>\n",
              "      <td>243</td>\n",
              "      <td>Liga Pro Serie B</td>\n",
              "      <td>Ecuador</td>\n",
              "      <td>2025</td>\n",
              "      <td>Relegation Round - 5</td>\n",
              "      <td>True</td>\n",
              "      <td>1983</td>\n",
              "      <td>Imbabura</td>\n",
              "      <td>25736</td>\n",
              "      <td>22 de Julio</td>\n",
              "      <td>&lt;NA&gt;</td>\n",
              "      <td>&lt;NA&gt;</td>\n",
              "      <td>&lt;NA&gt;</td>\n",
              "      <td>&lt;NA&gt;</td>\n",
              "      <td>&lt;NA&gt;</td>\n",
              "      <td>&lt;NA&gt;</td>\n",
              "      <td>&lt;NA&gt;</td>\n",
              "      <td>&lt;NA&gt;</td>\n",
              "      <td>&lt;NA&gt;</td>\n",
              "      <td>&lt;NA&gt;</td>\n",
              "      <td>2025-09-24 00:00:00+00:00</td>\n",
              "      <td>NaN</td>\n",
              "      <td>&lt;NA&gt;</td>\n",
              "      <td>NaN</td>\n",
              "    </tr>\n",
              "  </tbody>\n",
              "</table>\n",
              "</div>"
            ],
            "text/plain": [
              "   fixture_id              fixture_date     fixture_periods_first  \\\n",
              "0     1438842 2025-09-24 00:00:00+00:00 2025-09-24 00:00:00+00:00   \n",
              "1     1438843 2025-09-24 00:00:00+00:00 2025-09-24 00:00:00+00:00   \n",
              "2     1441147 2025-09-24 00:00:00+00:00                       NaT   \n",
              "\n",
              "   fixture_venue_id       fixture_venue_name          fixture_venue_city  \\\n",
              "0              3905  Hasely Crawford Stadium               Port of Spain   \n",
              "1             22458            Estadio Cibao  Santiago De Los Caballeros   \n",
              "2              <NA>                     <NA>                        <NA>   \n",
              "\n",
              "  fixture_status_short  fixture_status_elapsed  league_id  \\\n",
              "0                   FT                      90        856   \n",
              "1                   FT                      90        856   \n",
              "2                  PST                    <NA>        243   \n",
              "\n",
              "                            league_name league_country  league_season  \\\n",
              "0  CONCACAF Caribbean Club Championship          World           2025   \n",
              "1  CONCACAF Caribbean Club Championship          World           2025   \n",
              "2                      Liga Pro Serie B        Ecuador           2025   \n",
              "\n",
              "           league_round  league_standings  teams_home_id teams_home_name  \\\n",
              "0       Group Stage - 4             False           8005         Central   \n",
              "1       Group Stage - 4             False           4446        Juventus   \n",
              "2  Relegation Round - 5              True           1983        Imbabura   \n",
              "\n",
              "   teams_away_id         teams_away_name  goals_home  goals_away  \\\n",
              "0           3442  Mount Pleasant Academy           0           2   \n",
              "1           8004                   Cibao           0           3   \n",
              "2          25736             22 de Julio        <NA>        <NA>   \n",
              "\n",
              "   score_halftime_home  score_halftime_away  score_fulltime_home  \\\n",
              "0                    0                    0                    0   \n",
              "1                    0                    2                    0   \n",
              "2                 <NA>                 <NA>                 <NA>   \n",
              "\n",
              "   score_fulltime_away  score_extratime_home  score_extratime_away  \\\n",
              "0                    2                  <NA>                  <NA>   \n",
              "1                    3                  <NA>                  <NA>   \n",
              "2                 <NA>                  <NA>                  <NA>   \n",
              "\n",
              "   score_penalty_home  score_penalty_away                event_date  \\\n",
              "0                <NA>                <NA> 2025-09-24 00:00:00+00:00   \n",
              "1                <NA>                <NA> 2025-09-24 00:00:00+00:00   \n",
              "2                <NA>                <NA> 2025-09-24 00:00:00+00:00   \n",
              "\n",
              "  match_winner  total_goals  Resultado  \n",
              "0         Away            2  Visitante  \n",
              "1         Away            3  Visitante  \n",
              "2          NaN         <NA>        NaN  "
            ]
          },
          "execution_count": 215,
          "metadata": {},
          "output_type": "execute_result"
        }
      ],
      "source": [
        "mask = (df_fixtures_gold[\"event_date\"] >= \"2025-09-01\") & (df_fixtures_gold[\"event_date\"] <= \"2025-09-30\")\n",
        "df_fixtures_gold_filtered = df_fixtures_gold.loc[mask].copy()\n",
        "df_fixtures_gold_filtered.head(3)"
      ]
    },
    {
      "cell_type": "markdown",
      "metadata": {},
      "source": [
        "## 6.5 Capa Gold: guardado en formato Delta Lake de datos dinámicos\n",
        "Se almacenan en la capa *Gold* los datos de partidos ya transformados en *Silver*, pero reducidos a un conjunto de columnas relevantes para el análisis y la visualización.  \n",
        "De esta forma, se conserva un dataset más compacto y práctico para su consumo posterior.  \n",
        "La verificación posterior muestra la cantidad de filas y columnas guardadas."
      ]
    },
    {
      "cell_type": "code",
      "execution_count": 216,
      "metadata": {},
      "outputs": [],
      "source": [
        "# Directorio Gold\n",
        "# Contiene los datos ya listos para análisis y visualización\n",
        "gold_dir = f\"{datalake_root}/gold/api_football\""
      ]
    },
    {
      "cell_type": "code",
      "execution_count": 217,
      "metadata": {},
      "outputs": [],
      "source": [
        "# Subcarpeta para almacenar los fixtures en Gold\n",
        "fixtures_gold_dir = f\"{gold_dir}/fixtures\""
      ]
    },
    {
      "cell_type": "code",
      "execution_count": 218,
      "metadata": {},
      "outputs": [],
      "source": [
        "# Selección de columnas relevantes para análisis\n",
        "df_fixtures_curated = df_fixtures_gold[[\n",
        "    \"fixture_id\", \"event_date\", \"league_id\", \"league_name\",\n",
        "    \"teams_home_name\", \"teams_away_name\",\n",
        "    \"goals_home\", \"goals_away\", \"match_winner\",\n",
        "]].copy()"
      ]
    },
    {
      "cell_type": "code",
      "execution_count": 219,
      "metadata": {},
      "outputs": [],
      "source": [
        "# Se convierte 'event_date' a string (YYYY-MM-DD)\n",
        "# Esto garantiza particiones limpias y uniformes en Delta Lake\n",
        "df_fixtures_curated[\"event_date\"] = pd.to_datetime(\n",
        "    df_fixtures_curated[\"event_date\"]\n",
        ").dt.strftime(\"%Y-%m-%d\")"
      ]
    },
    {
      "cell_type": "code",
      "execution_count": 220,
      "metadata": {},
      "outputs": [],
      "source": [
        "# Guardado en Gold con MERGE por fixture_id y partición por event_date\n",
        "save_new_data_as_delta(\n",
        "    df_fixtures_curated,\n",
        "    fixtures_gold_dir,\n",
        "    predicate=\"target.fixture_id = source.fixture_id\",\n",
        "    partition_cols=[\"event_date\"]\n",
        ")"
      ]
    },
    {
      "cell_type": "code",
      "execution_count": 221,
      "metadata": {},
      "outputs": [
        {
          "data": {
            "text/plain": [
              "(2254, 9)"
            ]
          },
          "execution_count": 221,
          "metadata": {},
          "output_type": "execute_result"
        }
      ],
      "source": [
        "df_fixtures_curated.shape"
      ]
    },
    {
      "cell_type": "markdown",
      "metadata": {},
      "source": [
        "## 6.6 *[Opcional] Exportación a CSV/Parquet*  \n",
        "Además del guardado en formato Delta Lake, se deja disponible la posibilidad de exportar  \n",
        "los datos curados en *Gold* a un archivo *CSV* o *Parquet*. Esto facilita su consumo en otros entornos  \n",
        "donde no se trabaje con Delta Lake."
      ]
    },
    {
      "cell_type": "code",
      "execution_count": 222,
      "metadata": {},
      "outputs": [],
      "source": [
        "# Directorio de exportación (dentro del datalake)\n",
        "export_dir = f\"{datalake_root}/exports\""
      ]
    },
    {
      "cell_type": "code",
      "execution_count": 223,
      "metadata": {},
      "outputs": [],
      "source": [
        "# Crear la carpeta 'exports' si no existe\n",
        "os.makedirs(export_dir, exist_ok=True)"
      ]
    },
    {
      "cell_type": "code",
      "execution_count": 224,
      "metadata": {},
      "outputs": [],
      "source": [
        "# Exportación opcional a CSV\n",
        "# Se guarda una versión curada del DataFrame en formato CSV\n",
        "df_fixtures_curated.to_csv(f\"{export_dir}/fixtures_gold.csv\", index=False)"
      ]
    },
    {
      "cell_type": "code",
      "execution_count": 225,
      "metadata": {},
      "outputs": [],
      "source": [
        "# Exportación opcional a Parquet\n",
        "# Se guarda también en Parquet para conservar mejor los tipos de datos\n",
        "df_fixtures_curated.to_parquet(f\"{export_dir}/fixtures_gold.parquet\", index=False)"
      ]
    },
    {
      "cell_type": "markdown",
      "metadata": {},
      "source": [
        "## Cierre del apartado 6\n",
        "\n",
        "En esta sección se presentaron métricas y visualizaciones básicas sobre los *fixtures* disponibles: \n",
        "resultados (local, empate, visitante), goles totales y promedio, distribución de goles por partido, \n",
        "minutos jugados y comparación de goles entre equipos locales y visitantes.\n",
        "\n",
        "El objetivo de este análisis no es profundizar en estadísticas deportivas, \n",
        "sino demostrar que los datos procesados en la capa *Gold* son utilizables para generar \n",
        "insights simples. El foco principal del proyecto está en la construcción del pipeline \n",
        "de extracción, transformación y almacenamiento en Delta Lake."
      ]
    },
    {
      "cell_type": "markdown",
      "metadata": {},
      "source": []
    }
  ],
  "metadata": {
    "colab": {
      "collapsed_sections": [
        "xXztpvpxC6mz",
        "qF-H2f1f22xk",
        "RcNC2BC_ifve",
        "3joM-DirZ3n4",
        "KCkokGU3v3d3",
        "tgx_RXCwuulu",
        "tpvcbIeIczUn",
        "dpPJmgqtzXxj",
        "7bl17rGgy4Bp",
        "60b7eQlo9R52",
        "f71A6b7R9Wbb",
        "uhnq1mR5Sdc_",
        "Btf2qlAg9WoR",
        "vU0Fs0IFVAsg"
      ],
      "provenance": []
    },
    "kernelspec": {
      "display_name": "etl-football",
      "language": "python",
      "name": "python3"
    },
    "language_info": {
      "codemirror_mode": {
        "name": "ipython",
        "version": 3
      },
      "file_extension": ".py",
      "mimetype": "text/x-python",
      "name": "python",
      "nbconvert_exporter": "python",
      "pygments_lexer": "ipython3",
      "version": "3.12.11"
    }
  },
  "nbformat": 4,
  "nbformat_minor": 0
}
